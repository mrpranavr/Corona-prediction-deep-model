{
  "nbformat": 4,
  "nbformat_minor": 0,
  "metadata": {
    "colab": {
      "name": "Corona_prediction_KERALA.ipynb",
      "provenance": [],
      "toc_visible": true,
      "authorship_tag": "ABX9TyNhN6oVKhpl7if/YDE5MmQ/",
      "include_colab_link": true
    },
    "kernelspec": {
      "name": "python3",
      "display_name": "Python 3"
    },
    "language_info": {
      "name": "python"
    },
    "accelerator": "GPU"
  },
  "cells": [
    {
      "cell_type": "markdown",
      "metadata": {
        "id": "view-in-github",
        "colab_type": "text"
      },
      "source": [
        "<a href=\"https://colab.research.google.com/github/mrpranavr/Corona-prediction-deep-model/blob/main/Corona_prediction_KERALA.ipynb\" target=\"_parent\"><img src=\"https://colab.research.google.com/assets/colab-badge.svg\" alt=\"Open In Colab\"/></a>"
      ]
    },
    {
      "cell_type": "code",
      "source": [
        "import matplotlib.pyplot as plt\n",
        "import tensorflow as tf\n",
        "import numpy as np\n",
        "import os"
      ],
      "metadata": {
        "id": "5h0J7ajZkb25"
      },
      "execution_count": null,
      "outputs": []
    },
    {
      "cell_type": "markdown",
      "source": [
        "# Kerala Dataset"
      ],
      "metadata": {
        "id": "QCLCYhKJzAGN"
      }
    },
    {
      "cell_type": "markdown",
      "source": [
        "## Data preprocessing"
      ],
      "metadata": {
        "id": "RmeKb8FPzEG0"
      }
    },
    {
      "cell_type": "code",
      "execution_count": null,
      "metadata": {
        "colab": {
          "base_uri": "https://localhost:8080/",
          "height": 206
        },
        "id": "61QvP-tWiuMC",
        "outputId": "fe9cfe5d-cbd7-4bbc-c340-e857f9af673b"
      },
      "outputs": [
        {
          "output_type": "execute_result",
          "data": {
            "text/plain": [
              "         date  Cases\n",
              "0  01-06-2020     57\n",
              "1  02-06-2020     86\n",
              "2  03-06-2020     82\n",
              "3  04-06-2020     94\n",
              "4  05-06-2020    111"
            ],
            "text/html": [
              "\n",
              "  <div id=\"df-9598db01-0e62-4a01-afd4-28d5df58af72\">\n",
              "    <div class=\"colab-df-container\">\n",
              "      <div>\n",
              "<style scoped>\n",
              "    .dataframe tbody tr th:only-of-type {\n",
              "        vertical-align: middle;\n",
              "    }\n",
              "\n",
              "    .dataframe tbody tr th {\n",
              "        vertical-align: top;\n",
              "    }\n",
              "\n",
              "    .dataframe thead th {\n",
              "        text-align: right;\n",
              "    }\n",
              "</style>\n",
              "<table border=\"1\" class=\"dataframe\">\n",
              "  <thead>\n",
              "    <tr style=\"text-align: right;\">\n",
              "      <th></th>\n",
              "      <th>date</th>\n",
              "      <th>Cases</th>\n",
              "    </tr>\n",
              "  </thead>\n",
              "  <tbody>\n",
              "    <tr>\n",
              "      <th>0</th>\n",
              "      <td>01-06-2020</td>\n",
              "      <td>57</td>\n",
              "    </tr>\n",
              "    <tr>\n",
              "      <th>1</th>\n",
              "      <td>02-06-2020</td>\n",
              "      <td>86</td>\n",
              "    </tr>\n",
              "    <tr>\n",
              "      <th>2</th>\n",
              "      <td>03-06-2020</td>\n",
              "      <td>82</td>\n",
              "    </tr>\n",
              "    <tr>\n",
              "      <th>3</th>\n",
              "      <td>04-06-2020</td>\n",
              "      <td>94</td>\n",
              "    </tr>\n",
              "    <tr>\n",
              "      <th>4</th>\n",
              "      <td>05-06-2020</td>\n",
              "      <td>111</td>\n",
              "    </tr>\n",
              "  </tbody>\n",
              "</table>\n",
              "</div>\n",
              "      <button class=\"colab-df-convert\" onclick=\"convertToInteractive('df-9598db01-0e62-4a01-afd4-28d5df58af72')\"\n",
              "              title=\"Convert this dataframe to an interactive table.\"\n",
              "              style=\"display:none;\">\n",
              "        \n",
              "  <svg xmlns=\"http://www.w3.org/2000/svg\" height=\"24px\"viewBox=\"0 0 24 24\"\n",
              "       width=\"24px\">\n",
              "    <path d=\"M0 0h24v24H0V0z\" fill=\"none\"/>\n",
              "    <path d=\"M18.56 5.44l.94 2.06.94-2.06 2.06-.94-2.06-.94-.94-2.06-.94 2.06-2.06.94zm-11 1L8.5 8.5l.94-2.06 2.06-.94-2.06-.94L8.5 2.5l-.94 2.06-2.06.94zm10 10l.94 2.06.94-2.06 2.06-.94-2.06-.94-.94-2.06-.94 2.06-2.06.94z\"/><path d=\"M17.41 7.96l-1.37-1.37c-.4-.4-.92-.59-1.43-.59-.52 0-1.04.2-1.43.59L10.3 9.45l-7.72 7.72c-.78.78-.78 2.05 0 2.83L4 21.41c.39.39.9.59 1.41.59.51 0 1.02-.2 1.41-.59l7.78-7.78 2.81-2.81c.8-.78.8-2.07 0-2.86zM5.41 20L4 18.59l7.72-7.72 1.47 1.35L5.41 20z\"/>\n",
              "  </svg>\n",
              "      </button>\n",
              "      \n",
              "  <style>\n",
              "    .colab-df-container {\n",
              "      display:flex;\n",
              "      flex-wrap:wrap;\n",
              "      gap: 12px;\n",
              "    }\n",
              "\n",
              "    .colab-df-convert {\n",
              "      background-color: #E8F0FE;\n",
              "      border: none;\n",
              "      border-radius: 50%;\n",
              "      cursor: pointer;\n",
              "      display: none;\n",
              "      fill: #1967D2;\n",
              "      height: 32px;\n",
              "      padding: 0 0 0 0;\n",
              "      width: 32px;\n",
              "    }\n",
              "\n",
              "    .colab-df-convert:hover {\n",
              "      background-color: #E2EBFA;\n",
              "      box-shadow: 0px 1px 2px rgba(60, 64, 67, 0.3), 0px 1px 3px 1px rgba(60, 64, 67, 0.15);\n",
              "      fill: #174EA6;\n",
              "    }\n",
              "\n",
              "    [theme=dark] .colab-df-convert {\n",
              "      background-color: #3B4455;\n",
              "      fill: #D2E3FC;\n",
              "    }\n",
              "\n",
              "    [theme=dark] .colab-df-convert:hover {\n",
              "      background-color: #434B5C;\n",
              "      box-shadow: 0px 1px 3px 1px rgba(0, 0, 0, 0.15);\n",
              "      filter: drop-shadow(0px 1px 2px rgba(0, 0, 0, 0.3));\n",
              "      fill: #FFFFFF;\n",
              "    }\n",
              "  </style>\n",
              "\n",
              "      <script>\n",
              "        const buttonEl =\n",
              "          document.querySelector('#df-9598db01-0e62-4a01-afd4-28d5df58af72 button.colab-df-convert');\n",
              "        buttonEl.style.display =\n",
              "          google.colab.kernel.accessAllowed ? 'block' : 'none';\n",
              "\n",
              "        async function convertToInteractive(key) {\n",
              "          const element = document.querySelector('#df-9598db01-0e62-4a01-afd4-28d5df58af72');\n",
              "          const dataTable =\n",
              "            await google.colab.kernel.invokeFunction('convertToInteractive',\n",
              "                                                     [key], {});\n",
              "          if (!dataTable) return;\n",
              "\n",
              "          const docLinkHtml = 'Like what you see? Visit the ' +\n",
              "            '<a target=\"_blank\" href=https://colab.research.google.com/notebooks/data_table.ipynb>data table notebook</a>'\n",
              "            + ' to learn more about interactive tables.';\n",
              "          element.innerHTML = '';\n",
              "          dataTable['output_type'] = 'display_data';\n",
              "          await google.colab.output.renderOutput(dataTable, element);\n",
              "          const docLink = document.createElement('div');\n",
              "          docLink.innerHTML = docLinkHtml;\n",
              "          element.appendChild(docLink);\n",
              "        }\n",
              "      </script>\n",
              "    </div>\n",
              "  </div>\n",
              "  "
            ]
          },
          "metadata": {},
          "execution_count": 2
        }
      ],
      "source": [
        "import pandas as pd\n",
        "kerala_df = pd.read_csv('/content/kerala.csv',)\n",
        "kerala_df.head()"
      ]
    },
    {
      "cell_type": "code",
      "source": [
        "kerala_df['date'] = pd.to_datetime(kerala_df['date'], format = '%d-%m-%Y')\n",
        "kerala_df.head()"
      ],
      "metadata": {
        "colab": {
          "base_uri": "https://localhost:8080/",
          "height": 206
        },
        "id": "PldUDY65woVQ",
        "outputId": "e07fb6e1-6c49-44e0-9a27-611e3089d68a"
      },
      "execution_count": null,
      "outputs": [
        {
          "output_type": "execute_result",
          "data": {
            "text/plain": [
              "        date  Cases\n",
              "0 2020-06-01     57\n",
              "1 2020-06-02     86\n",
              "2 2020-06-03     82\n",
              "3 2020-06-04     94\n",
              "4 2020-06-05    111"
            ],
            "text/html": [
              "\n",
              "  <div id=\"df-6ce52ae5-cd00-4654-9df9-bc30dd13da4f\">\n",
              "    <div class=\"colab-df-container\">\n",
              "      <div>\n",
              "<style scoped>\n",
              "    .dataframe tbody tr th:only-of-type {\n",
              "        vertical-align: middle;\n",
              "    }\n",
              "\n",
              "    .dataframe tbody tr th {\n",
              "        vertical-align: top;\n",
              "    }\n",
              "\n",
              "    .dataframe thead th {\n",
              "        text-align: right;\n",
              "    }\n",
              "</style>\n",
              "<table border=\"1\" class=\"dataframe\">\n",
              "  <thead>\n",
              "    <tr style=\"text-align: right;\">\n",
              "      <th></th>\n",
              "      <th>date</th>\n",
              "      <th>Cases</th>\n",
              "    </tr>\n",
              "  </thead>\n",
              "  <tbody>\n",
              "    <tr>\n",
              "      <th>0</th>\n",
              "      <td>2020-06-01</td>\n",
              "      <td>57</td>\n",
              "    </tr>\n",
              "    <tr>\n",
              "      <th>1</th>\n",
              "      <td>2020-06-02</td>\n",
              "      <td>86</td>\n",
              "    </tr>\n",
              "    <tr>\n",
              "      <th>2</th>\n",
              "      <td>2020-06-03</td>\n",
              "      <td>82</td>\n",
              "    </tr>\n",
              "    <tr>\n",
              "      <th>3</th>\n",
              "      <td>2020-06-04</td>\n",
              "      <td>94</td>\n",
              "    </tr>\n",
              "    <tr>\n",
              "      <th>4</th>\n",
              "      <td>2020-06-05</td>\n",
              "      <td>111</td>\n",
              "    </tr>\n",
              "  </tbody>\n",
              "</table>\n",
              "</div>\n",
              "      <button class=\"colab-df-convert\" onclick=\"convertToInteractive('df-6ce52ae5-cd00-4654-9df9-bc30dd13da4f')\"\n",
              "              title=\"Convert this dataframe to an interactive table.\"\n",
              "              style=\"display:none;\">\n",
              "        \n",
              "  <svg xmlns=\"http://www.w3.org/2000/svg\" height=\"24px\"viewBox=\"0 0 24 24\"\n",
              "       width=\"24px\">\n",
              "    <path d=\"M0 0h24v24H0V0z\" fill=\"none\"/>\n",
              "    <path d=\"M18.56 5.44l.94 2.06.94-2.06 2.06-.94-2.06-.94-.94-2.06-.94 2.06-2.06.94zm-11 1L8.5 8.5l.94-2.06 2.06-.94-2.06-.94L8.5 2.5l-.94 2.06-2.06.94zm10 10l.94 2.06.94-2.06 2.06-.94-2.06-.94-.94-2.06-.94 2.06-2.06.94z\"/><path d=\"M17.41 7.96l-1.37-1.37c-.4-.4-.92-.59-1.43-.59-.52 0-1.04.2-1.43.59L10.3 9.45l-7.72 7.72c-.78.78-.78 2.05 0 2.83L4 21.41c.39.39.9.59 1.41.59.51 0 1.02-.2 1.41-.59l7.78-7.78 2.81-2.81c.8-.78.8-2.07 0-2.86zM5.41 20L4 18.59l7.72-7.72 1.47 1.35L5.41 20z\"/>\n",
              "  </svg>\n",
              "      </button>\n",
              "      \n",
              "  <style>\n",
              "    .colab-df-container {\n",
              "      display:flex;\n",
              "      flex-wrap:wrap;\n",
              "      gap: 12px;\n",
              "    }\n",
              "\n",
              "    .colab-df-convert {\n",
              "      background-color: #E8F0FE;\n",
              "      border: none;\n",
              "      border-radius: 50%;\n",
              "      cursor: pointer;\n",
              "      display: none;\n",
              "      fill: #1967D2;\n",
              "      height: 32px;\n",
              "      padding: 0 0 0 0;\n",
              "      width: 32px;\n",
              "    }\n",
              "\n",
              "    .colab-df-convert:hover {\n",
              "      background-color: #E2EBFA;\n",
              "      box-shadow: 0px 1px 2px rgba(60, 64, 67, 0.3), 0px 1px 3px 1px rgba(60, 64, 67, 0.15);\n",
              "      fill: #174EA6;\n",
              "    }\n",
              "\n",
              "    [theme=dark] .colab-df-convert {\n",
              "      background-color: #3B4455;\n",
              "      fill: #D2E3FC;\n",
              "    }\n",
              "\n",
              "    [theme=dark] .colab-df-convert:hover {\n",
              "      background-color: #434B5C;\n",
              "      box-shadow: 0px 1px 3px 1px rgba(0, 0, 0, 0.15);\n",
              "      filter: drop-shadow(0px 1px 2px rgba(0, 0, 0, 0.3));\n",
              "      fill: #FFFFFF;\n",
              "    }\n",
              "  </style>\n",
              "\n",
              "      <script>\n",
              "        const buttonEl =\n",
              "          document.querySelector('#df-6ce52ae5-cd00-4654-9df9-bc30dd13da4f button.colab-df-convert');\n",
              "        buttonEl.style.display =\n",
              "          google.colab.kernel.accessAllowed ? 'block' : 'none';\n",
              "\n",
              "        async function convertToInteractive(key) {\n",
              "          const element = document.querySelector('#df-6ce52ae5-cd00-4654-9df9-bc30dd13da4f');\n",
              "          const dataTable =\n",
              "            await google.colab.kernel.invokeFunction('convertToInteractive',\n",
              "                                                     [key], {});\n",
              "          if (!dataTable) return;\n",
              "\n",
              "          const docLinkHtml = 'Like what you see? Visit the ' +\n",
              "            '<a target=\"_blank\" href=https://colab.research.google.com/notebooks/data_table.ipynb>data table notebook</a>'\n",
              "            + ' to learn more about interactive tables.';\n",
              "          element.innerHTML = '';\n",
              "          dataTable['output_type'] = 'display_data';\n",
              "          await google.colab.output.renderOutput(dataTable, element);\n",
              "          const docLink = document.createElement('div');\n",
              "          docLink.innerHTML = docLinkHtml;\n",
              "          element.appendChild(docLink);\n",
              "        }\n",
              "      </script>\n",
              "    </div>\n",
              "  </div>\n",
              "  "
            ]
          },
          "metadata": {},
          "execution_count": 3
        }
      ]
    },
    {
      "cell_type": "code",
      "source": [
        "kerala_df = kerala_df.set_index('date')\n",
        "kerala_df.head()"
      ],
      "metadata": {
        "colab": {
          "base_uri": "https://localhost:8080/",
          "height": 238
        },
        "id": "jhHOfYt9yCFW",
        "outputId": "d8ad75d1-c9a6-40af-ff4e-458389991c2f"
      },
      "execution_count": null,
      "outputs": [
        {
          "output_type": "execute_result",
          "data": {
            "text/plain": [
              "            Cases\n",
              "date             \n",
              "2020-06-01     57\n",
              "2020-06-02     86\n",
              "2020-06-03     82\n",
              "2020-06-04     94\n",
              "2020-06-05    111"
            ],
            "text/html": [
              "\n",
              "  <div id=\"df-928108f5-765f-4ba6-8b86-1c7c74c768bc\">\n",
              "    <div class=\"colab-df-container\">\n",
              "      <div>\n",
              "<style scoped>\n",
              "    .dataframe tbody tr th:only-of-type {\n",
              "        vertical-align: middle;\n",
              "    }\n",
              "\n",
              "    .dataframe tbody tr th {\n",
              "        vertical-align: top;\n",
              "    }\n",
              "\n",
              "    .dataframe thead th {\n",
              "        text-align: right;\n",
              "    }\n",
              "</style>\n",
              "<table border=\"1\" class=\"dataframe\">\n",
              "  <thead>\n",
              "    <tr style=\"text-align: right;\">\n",
              "      <th></th>\n",
              "      <th>Cases</th>\n",
              "    </tr>\n",
              "    <tr>\n",
              "      <th>date</th>\n",
              "      <th></th>\n",
              "    </tr>\n",
              "  </thead>\n",
              "  <tbody>\n",
              "    <tr>\n",
              "      <th>2020-06-01</th>\n",
              "      <td>57</td>\n",
              "    </tr>\n",
              "    <tr>\n",
              "      <th>2020-06-02</th>\n",
              "      <td>86</td>\n",
              "    </tr>\n",
              "    <tr>\n",
              "      <th>2020-06-03</th>\n",
              "      <td>82</td>\n",
              "    </tr>\n",
              "    <tr>\n",
              "      <th>2020-06-04</th>\n",
              "      <td>94</td>\n",
              "    </tr>\n",
              "    <tr>\n",
              "      <th>2020-06-05</th>\n",
              "      <td>111</td>\n",
              "    </tr>\n",
              "  </tbody>\n",
              "</table>\n",
              "</div>\n",
              "      <button class=\"colab-df-convert\" onclick=\"convertToInteractive('df-928108f5-765f-4ba6-8b86-1c7c74c768bc')\"\n",
              "              title=\"Convert this dataframe to an interactive table.\"\n",
              "              style=\"display:none;\">\n",
              "        \n",
              "  <svg xmlns=\"http://www.w3.org/2000/svg\" height=\"24px\"viewBox=\"0 0 24 24\"\n",
              "       width=\"24px\">\n",
              "    <path d=\"M0 0h24v24H0V0z\" fill=\"none\"/>\n",
              "    <path d=\"M18.56 5.44l.94 2.06.94-2.06 2.06-.94-2.06-.94-.94-2.06-.94 2.06-2.06.94zm-11 1L8.5 8.5l.94-2.06 2.06-.94-2.06-.94L8.5 2.5l-.94 2.06-2.06.94zm10 10l.94 2.06.94-2.06 2.06-.94-2.06-.94-.94-2.06-.94 2.06-2.06.94z\"/><path d=\"M17.41 7.96l-1.37-1.37c-.4-.4-.92-.59-1.43-.59-.52 0-1.04.2-1.43.59L10.3 9.45l-7.72 7.72c-.78.78-.78 2.05 0 2.83L4 21.41c.39.39.9.59 1.41.59.51 0 1.02-.2 1.41-.59l7.78-7.78 2.81-2.81c.8-.78.8-2.07 0-2.86zM5.41 20L4 18.59l7.72-7.72 1.47 1.35L5.41 20z\"/>\n",
              "  </svg>\n",
              "      </button>\n",
              "      \n",
              "  <style>\n",
              "    .colab-df-container {\n",
              "      display:flex;\n",
              "      flex-wrap:wrap;\n",
              "      gap: 12px;\n",
              "    }\n",
              "\n",
              "    .colab-df-convert {\n",
              "      background-color: #E8F0FE;\n",
              "      border: none;\n",
              "      border-radius: 50%;\n",
              "      cursor: pointer;\n",
              "      display: none;\n",
              "      fill: #1967D2;\n",
              "      height: 32px;\n",
              "      padding: 0 0 0 0;\n",
              "      width: 32px;\n",
              "    }\n",
              "\n",
              "    .colab-df-convert:hover {\n",
              "      background-color: #E2EBFA;\n",
              "      box-shadow: 0px 1px 2px rgba(60, 64, 67, 0.3), 0px 1px 3px 1px rgba(60, 64, 67, 0.15);\n",
              "      fill: #174EA6;\n",
              "    }\n",
              "\n",
              "    [theme=dark] .colab-df-convert {\n",
              "      background-color: #3B4455;\n",
              "      fill: #D2E3FC;\n",
              "    }\n",
              "\n",
              "    [theme=dark] .colab-df-convert:hover {\n",
              "      background-color: #434B5C;\n",
              "      box-shadow: 0px 1px 3px 1px rgba(0, 0, 0, 0.15);\n",
              "      filter: drop-shadow(0px 1px 2px rgba(0, 0, 0, 0.3));\n",
              "      fill: #FFFFFF;\n",
              "    }\n",
              "  </style>\n",
              "\n",
              "      <script>\n",
              "        const buttonEl =\n",
              "          document.querySelector('#df-928108f5-765f-4ba6-8b86-1c7c74c768bc button.colab-df-convert');\n",
              "        buttonEl.style.display =\n",
              "          google.colab.kernel.accessAllowed ? 'block' : 'none';\n",
              "\n",
              "        async function convertToInteractive(key) {\n",
              "          const element = document.querySelector('#df-928108f5-765f-4ba6-8b86-1c7c74c768bc');\n",
              "          const dataTable =\n",
              "            await google.colab.kernel.invokeFunction('convertToInteractive',\n",
              "                                                     [key], {});\n",
              "          if (!dataTable) return;\n",
              "\n",
              "          const docLinkHtml = 'Like what you see? Visit the ' +\n",
              "            '<a target=\"_blank\" href=https://colab.research.google.com/notebooks/data_table.ipynb>data table notebook</a>'\n",
              "            + ' to learn more about interactive tables.';\n",
              "          element.innerHTML = '';\n",
              "          dataTable['output_type'] = 'display_data';\n",
              "          await google.colab.output.renderOutput(dataTable, element);\n",
              "          const docLink = document.createElement('div');\n",
              "          docLink.innerHTML = docLinkHtml;\n",
              "          element.appendChild(docLink);\n",
              "        }\n",
              "      </script>\n",
              "    </div>\n",
              "  </div>\n",
              "  "
            ]
          },
          "metadata": {},
          "execution_count": 4
        }
      ]
    },
    {
      "cell_type": "code",
      "source": [
        "kerala_df.plot(figsize = (10,7))\n",
        "plt.ylabel(\"Cases\")\n",
        "plt.legend(fontsize = 14);"
      ],
      "metadata": {
        "colab": {
          "base_uri": "https://localhost:8080/",
          "height": 454
        },
        "id": "D_8C6GWokRpD",
        "outputId": "e1181b77-47ef-4bf1-fccd-c53ab987e84f"
      },
      "execution_count": null,
      "outputs": [
        {
          "output_type": "display_data",
          "data": {
            "text/plain": [
              "<Figure size 720x504 with 1 Axes>"
            ],
            "image/png": "[encoded data removed]"
          },
          "metadata": {
            "needs_background": "light"
          }
        }
      ]
    },
    {
      "cell_type": "code",
      "source": [
        "kerala_df[:10]"
      ],
      "metadata": {
        "colab": {
          "base_uri": "https://localhost:8080/",
          "height": 394
        },
        "id": "D7-jyA9YkrDq",
        "outputId": "5851a60a-8acc-42d7-d5e6-4f2242aedc98"
      },
      "execution_count": null,
      "outputs": [
        {
          "output_type": "execute_result",
          "data": {
            "text/plain": [
              "            Cases\n",
              "date             \n",
              "2020-06-01     57\n",
              "2020-06-02     86\n",
              "2020-06-03     82\n",
              "2020-06-04     94\n",
              "2020-06-05    111\n",
              "2020-06-06    108\n",
              "2020-06-07    107\n",
              "2020-06-08     91\n",
              "2020-06-09     91\n",
              "2020-06-10     65"
            ],
            "text/html": [
              "\n",
              "  <div id=\"df-c9dbc2a6-70b2-488f-a0ee-053f92d18890\">\n",
              "    <div class=\"colab-df-container\">\n",
              "      <div>\n",
              "<style scoped>\n",
              "    .dataframe tbody tr th:only-of-type {\n",
              "        vertical-align: middle;\n",
              "    }\n",
              "\n",
              "    .dataframe tbody tr th {\n",
              "        vertical-align: top;\n",
              "    }\n",
              "\n",
              "    .dataframe thead th {\n",
              "        text-align: right;\n",
              "    }\n",
              "</style>\n",
              "<table border=\"1\" class=\"dataframe\">\n",
              "  <thead>\n",
              "    <tr style=\"text-align: right;\">\n",
              "      <th></th>\n",
              "      <th>Cases</th>\n",
              "    </tr>\n",
              "    <tr>\n",
              "      <th>date</th>\n",
              "      <th></th>\n",
              "    </tr>\n",
              "  </thead>\n",
              "  <tbody>\n",
              "    <tr>\n",
              "      <th>2020-06-01</th>\n",
              "      <td>57</td>\n",
              "    </tr>\n",
              "    <tr>\n",
              "      <th>2020-06-02</th>\n",
              "      <td>86</td>\n",
              "    </tr>\n",
              "    <tr>\n",
              "      <th>2020-06-03</th>\n",
              "      <td>82</td>\n",
              "    </tr>\n",
              "    <tr>\n",
              "      <th>2020-06-04</th>\n",
              "      <td>94</td>\n",
              "    </tr>\n",
              "    <tr>\n",
              "      <th>2020-06-05</th>\n",
              "      <td>111</td>\n",
              "    </tr>\n",
              "    <tr>\n",
              "      <th>2020-06-06</th>\n",
              "      <td>108</td>\n",
              "    </tr>\n",
              "    <tr>\n",
              "      <th>2020-06-07</th>\n",
              "      <td>107</td>\n",
              "    </tr>\n",
              "    <tr>\n",
              "      <th>2020-06-08</th>\n",
              "      <td>91</td>\n",
              "    </tr>\n",
              "    <tr>\n",
              "      <th>2020-06-09</th>\n",
              "      <td>91</td>\n",
              "    </tr>\n",
              "    <tr>\n",
              "      <th>2020-06-10</th>\n",
              "      <td>65</td>\n",
              "    </tr>\n",
              "  </tbody>\n",
              "</table>\n",
              "</div>\n",
              "      <button class=\"colab-df-convert\" onclick=\"convertToInteractive('df-c9dbc2a6-70b2-488f-a0ee-053f92d18890')\"\n",
              "              title=\"Convert this dataframe to an interactive table.\"\n",
              "              style=\"display:none;\">\n",
              "        \n",
              "  <svg xmlns=\"http://www.w3.org/2000/svg\" height=\"24px\"viewBox=\"0 0 24 24\"\n",
              "       width=\"24px\">\n",
              "    <path d=\"M0 0h24v24H0V0z\" fill=\"none\"/>\n",
              "    <path d=\"M18.56 5.44l.94 2.06.94-2.06 2.06-.94-2.06-.94-.94-2.06-.94 2.06-2.06.94zm-11 1L8.5 8.5l.94-2.06 2.06-.94-2.06-.94L8.5 2.5l-.94 2.06-2.06.94zm10 10l.94 2.06.94-2.06 2.06-.94-2.06-.94-.94-2.06-.94 2.06-2.06.94z\"/><path d=\"M17.41 7.96l-1.37-1.37c-.4-.4-.92-.59-1.43-.59-.52 0-1.04.2-1.43.59L10.3 9.45l-7.72 7.72c-.78.78-.78 2.05 0 2.83L4 21.41c.39.39.9.59 1.41.59.51 0 1.02-.2 1.41-.59l7.78-7.78 2.81-2.81c.8-.78.8-2.07 0-2.86zM5.41 20L4 18.59l7.72-7.72 1.47 1.35L5.41 20z\"/>\n",
              "  </svg>\n",
              "      </button>\n",
              "      \n",
              "  <style>\n",
              "    .colab-df-container {\n",
              "      display:flex;\n",
              "      flex-wrap:wrap;\n",
              "      gap: 12px;\n",
              "    }\n",
              "\n",
              "    .colab-df-convert {\n",
              "      background-color: #E8F0FE;\n",
              "      border: none;\n",
              "      border-radius: 50%;\n",
              "      cursor: pointer;\n",
              "      display: none;\n",
              "      fill: #1967D2;\n",
              "      height: 32px;\n",
              "      padding: 0 0 0 0;\n",
              "      width: 32px;\n",
              "    }\n",
              "\n",
              "    .colab-df-convert:hover {\n",
              "      background-color: #E2EBFA;\n",
              "      box-shadow: 0px 1px 2px rgba(60, 64, 67, 0.3), 0px 1px 3px 1px rgba(60, 64, 67, 0.15);\n",
              "      fill: #174EA6;\n",
              "    }\n",
              "\n",
              "    [theme=dark] .colab-df-convert {\n",
              "      background-color: #3B4455;\n",
              "      fill: #D2E3FC;\n",
              "    }\n",
              "\n",
              "    [theme=dark] .colab-df-convert:hover {\n",
              "      background-color: #434B5C;\n",
              "      box-shadow: 0px 1px 3px 1px rgba(0, 0, 0, 0.15);\n",
              "      filter: drop-shadow(0px 1px 2px rgba(0, 0, 0, 0.3));\n",
              "      fill: #FFFFFF;\n",
              "    }\n",
              "  </style>\n",
              "\n",
              "      <script>\n",
              "        const buttonEl =\n",
              "          document.querySelector('#df-c9dbc2a6-70b2-488f-a0ee-053f92d18890 button.colab-df-convert');\n",
              "        buttonEl.style.display =\n",
              "          google.colab.kernel.accessAllowed ? 'block' : 'none';\n",
              "\n",
              "        async function convertToInteractive(key) {\n",
              "          const element = document.querySelector('#df-c9dbc2a6-70b2-488f-a0ee-053f92d18890');\n",
              "          const dataTable =\n",
              "            await google.colab.kernel.invokeFunction('convertToInteractive',\n",
              "                                                     [key], {});\n",
              "          if (!dataTable) return;\n",
              "\n",
              "          const docLinkHtml = 'Like what you see? Visit the ' +\n",
              "            '<a target=\"_blank\" href=https://colab.research.google.com/notebooks/data_table.ipynb>data table notebook</a>'\n",
              "            + ' to learn more about interactive tables.';\n",
              "          element.innerHTML = '';\n",
              "          dataTable['output_type'] = 'display_data';\n",
              "          await google.colab.output.renderOutput(dataTable, element);\n",
              "          const docLink = document.createElement('div');\n",
              "          docLink.innerHTML = docLinkHtml;\n",
              "          element.appendChild(docLink);\n",
              "        }\n",
              "      </script>\n",
              "    </div>\n",
              "  </div>\n",
              "  "
            ]
          },
          "metadata": {},
          "execution_count": 6
        }
      ]
    },
    {
      "cell_type": "markdown",
      "source": [
        "## Windowing dataset"
      ],
      "metadata": {
        "id": "N0InD5vNzLLz"
      }
    },
    {
      "cell_type": "code",
      "source": [
        "timesteps = kerala_df.index.to_numpy()\n",
        "cases = kerala_df['Cases'].to_numpy()\n",
        "cases = cases.astype(np.float32)\n",
        "\n",
        "timesteps[:10], cases[:10]"
      ],
      "metadata": {
        "colab": {
          "base_uri": "https://localhost:8080/"
        },
        "id": "P4QHO6kr_NDt",
        "outputId": "537d2d37-6abc-4932-a087-eb75be740a0e"
      },
      "execution_count": null,
      "outputs": [
        {
          "output_type": "execute_result",
          "data": {
            "text/plain": [
              "(array(['2020-06-01T00:00:00.000000000', '2020-06-02T00:00:00.000000000',\n",
              "        '2020-06-03T00:00:00.000000000', '2020-06-04T00:00:00.000000000',\n",
              "        '2020-06-05T00:00:00.000000000', '2020-06-06T00:00:00.000000000',\n",
              "        '2020-06-07T00:00:00.000000000', '2020-06-08T00:00:00.000000000',\n",
              "        '2020-06-09T00:00:00.000000000', '2020-06-10T00:00:00.000000000'],\n",
              "       dtype='datetime64[ns]'),\n",
              " array([ 57.,  86.,  82.,  94., 111., 108., 107.,  91.,  91.,  65.],\n",
              "       dtype=float32))"
            ]
          },
          "metadata": {},
          "execution_count": 7
        }
      ]
    },
    {
      "cell_type": "code",
      "source": [
        "split_size = int(len(cases)*0.8)\n",
        "X_train,y_train = timesteps[:split_size], cases[:split_size]\n",
        "X_test,y_test = timesteps[split_size:], cases[split_size:]\n",
        "len(X_train), len(X_test), len(y_train), len(y_test)"
      ],
      "metadata": {
        "colab": {
          "base_uri": "https://localhost:8080/"
        },
        "id": "kSbOVDB8EUAx",
        "outputId": "161026b2-9aa6-4326-dbaf-3a59e0acf321"
      },
      "execution_count": null,
      "outputs": [
        {
          "output_type": "execute_result",
          "data": {
            "text/plain": [
              "(539, 135, 539, 135)"
            ]
          },
          "metadata": {},
          "execution_count": 64
        }
      ]
    },
    {
      "cell_type": "code",
      "source": [
        "def plot_time_series(timesteps,values,format = '.', start = 0,end = None,label = None):\n",
        "    plt.plot(timesteps[start:end], values[start:end], format , label = label)\n",
        "    plt.xlabel(\"Time\")\n",
        "    plt.ylabel(\"Cases\")\n",
        "    if label:\n",
        "        plt.legend(fontsize = 14)\n",
        "    plt.grid();"
      ],
      "metadata": {
        "id": "-vMQhotG_f7O"
      },
      "execution_count": null,
      "outputs": []
    },
    {
      "cell_type": "code",
      "source": [
        "def evaluate_preds(y_true,y_pred):\n",
        "    y_true = tf.cast(y_true, dtype = tf.float32)\n",
        "    y_pred = tf.cast(y_pred, dtype = tf.float32)\n",
        "\n",
        "    mae = tf.keras.metrics.mean_absolute_error(y_true,y_pred)\n",
        "    mse = tf.keras.metrics.mean_squared_error(y_true,y_pred)\n",
        "    rmse = tf.sqrt(mse)\n",
        "    mape = tf.keras.metrics.mean_absolute_percentage_error(y_true,y_pred)\n",
        "\n",
        "    if mae.ndim > 0:\n",
        "        mae = tf.reduce_mean(mae)\n",
        "        mse = tf.reduce_mean(mse)\n",
        "        rmse = tf.reduce_mean(rmse)\n",
        "        mape = tf.reduce_mean(mape)\n",
        "\n",
        "    return {\"mae\": mae.numpy(),\n",
        "            \"mse\": mse.numpy(),\n",
        "            \"rmse\": rmse.numpy(),\n",
        "            \"mape\": mape.numpy()}"
      ],
      "metadata": {
        "id": "kR0SZJprADWu"
      },
      "execution_count": null,
      "outputs": []
    },
    {
      "cell_type": "code",
      "source": [
        "# Declare constants\n",
        "HORIZON = 7\n",
        "WINDOW_SIZE = 7\n"
      ],
      "metadata": {
        "id": "9NgT9y-_zdq5"
      },
      "execution_count": null,
      "outputs": []
    },
    {
      "cell_type": "markdown",
      "source": [
        "## Creating the prepricessing functions"
      ],
      "metadata": {
        "id": "OVV0agKEDYU3"
      }
    },
    {
      "cell_type": "code",
      "source": [
        "def get_labelled_window(x,horizon = HORIZON):\n",
        "    return x[:,:-horizon], x[:,-horizon:]"
      ],
      "metadata": {
        "id": "SYIxgn8G0Mlz"
      },
      "execution_count": null,
      "outputs": []
    },
    {
      "cell_type": "code",
      "source": [
        "def make_windows(x,window_size = 7,horizon = 1):\n",
        "    window_step = np.expand_dims(np.arange(window_size + horizon), axis = 0)\n",
        "    window_indexes = window_step + np.expand_dims(np.arange(len(x) - (window_size+horizon+1)),axis = 0).T\n",
        "    windowed_array = x[window_indexes]\n",
        "    windows,labels = get_labelled_window(windowed_array,horizon = horizon)\n",
        "    return windows, labels"
      ],
      "metadata": {
        "id": "KTvtQPxQ-DNE"
      },
      "execution_count": null,
      "outputs": []
    },
    {
      "cell_type": "code",
      "source": [
        "full_windows,full_labels = make_windows(cases,window_size = WINDOW_SIZE, horizon = HORIZON)\n",
        "len(full_windows), len(full_labels)"
      ],
      "metadata": {
        "colab": {
          "base_uri": "https://localhost:8080/"
        },
        "id": "kH7Yxhcw_CjZ",
        "outputId": "44c25940-be28-40c9-97cc-794bc57cfeb6"
      },
      "execution_count": null,
      "outputs": [
        {
          "output_type": "execute_result",
          "data": {
            "text/plain": [
              "(659, 659)"
            ]
          },
          "metadata": {},
          "execution_count": 13
        }
      ]
    },
    {
      "cell_type": "code",
      "source": [
        "# Visualize the data\n",
        "for i in range(5):\n",
        "    print(f\"Windows : {full_windows[i]} -> Label: {full_labels[i]}\")"
      ],
      "metadata": {
        "colab": {
          "base_uri": "https://localhost:8080/"
        },
        "id": "Arp-zwuIBBX3",
        "outputId": "536400c5-7c21-4df6-e066-3ec3b1fe3bf1"
      },
      "execution_count": null,
      "outputs": [
        {
          "output_type": "stream",
          "name": "stdout",
          "text": [
            "Windows : [ 57.  86.  82.  94. 111. 108. 107.] -> Label: [91. 91. 65. 83. 78. 85. 54.]\n",
            "Windows : [ 86.  82.  94. 111. 108. 107.  91.] -> Label: [91. 65. 83. 78. 85. 54. 82.]\n",
            "Windows : [ 82.  94. 111. 108. 107.  91.  91.] -> Label: [65. 83. 78. 85. 54. 82. 79.]\n",
            "Windows : [ 94. 111. 108. 107.  91.  91.  65.] -> Label: [83. 78. 85. 54. 82. 79. 75.]\n",
            "Windows : [111. 108. 107.  91.  91.  65.  83.] -> Label: [78. 85. 54. 82. 79. 75. 97.]\n"
          ]
        }
      ]
    },
    {
      "cell_type": "code",
      "source": [
        "def make_train_test_split(windows,labels,test_split = 0.2):\n",
        "    split_size = int(len(windows)*(1-test_split))\n",
        "    train_windows = windows[:split_size]\n",
        "    train_labels = labels[:split_size]\n",
        "    test_windows = windows[split_size:]\n",
        "    test_labels = labels[split_size:]\n",
        "    return train_windows,test_windows,train_labels,test_labels"
      ],
      "metadata": {
        "id": "lhap7Vb6BSIw"
      },
      "execution_count": null,
      "outputs": []
    },
    {
      "cell_type": "code",
      "source": [
        "# Make the train and test datasets\n",
        "train_windows, test_windows, train_labels,test_labels = make_train_test_split(full_windows,full_labels, test_split = 0.2)\n",
        "len(train_windows), len(test_windows), len(train_labels), len(test_labels)"
      ],
      "metadata": {
        "colab": {
          "base_uri": "https://localhost:8080/"
        },
        "id": "IMVzWq-gBzln",
        "outputId": "f068776a-2327-4615-f6fe-5b23756c79ef"
      },
      "execution_count": null,
      "outputs": [
        {
          "output_type": "execute_result",
          "data": {
            "text/plain": [
              "(527, 132, 527, 132)"
            ]
          },
          "metadata": {},
          "execution_count": 16
        }
      ]
    },
    {
      "cell_type": "code",
      "source": [
        "# Making model checkpoint callback\n",
        "def create_model_checkpoint(model_name, save_path = \"model_experiments\"):\n",
        "    return tf.keras.callbacks.ModelCheckpoint(filepath = os.path.join(save_path,model_name),\n",
        "                                              verbose = 0,\n",
        "                                              save_best_only = True)"
      ],
      "metadata": {
        "id": "FTKUwM0PCo18"
      },
      "execution_count": null,
      "outputs": []
    },
    {
      "cell_type": "code",
      "source": [
        "def make_preds(model_name, test_dataset):\n",
        "    preds = model_name.predict(test_dataset)\n",
        "    return tf.squeeze(preds)"
      ],
      "metadata": {
        "id": "2R_xH_YYJcfo"
      },
      "execution_count": null,
      "outputs": []
    },
    {
      "cell_type": "markdown",
      "source": [
        "## MODEL 1 : Conv1D (windows_size = 7, horizon = 7)"
      ],
      "metadata": {
        "id": "YRiptUjjDLML"
      }
    },
    {
      "cell_type": "code",
      "source": [
        "from tensorflow.keras import layers"
      ],
      "metadata": {
        "id": "R-wQlqRFGV4T"
      },
      "execution_count": null,
      "outputs": []
    },
    {
      "cell_type": "code",
      "source": [
        "# Set random seed\n",
        "tf.random.set_seed(42)\n",
        "\n",
        "model_1 = tf.keras.Sequential([\n",
        "    layers.Lambda(lambda x: tf.expand_dims(x,axis = 1)),\n",
        "    layers.Conv1D(filters = 128, kernel_size = 5, padding = 'causal',activation = 'relu'),\n",
        "    layers.Dense(HORIZON)\n",
        "],name = 'model_1_Conv1D')\n",
        "\n",
        "model_1.compile(loss = 'mae',\n",
        "                optimizer = tf.keras.optimizers.Adam())\n",
        "\n",
        "model_1.fit(train_windows,\n",
        "            train_labels,\n",
        "            epochs = 100,\n",
        "            batch_size = 32,\n",
        "            verbose = 1,\n",
        "            validation_data = (test_windows, test_labels),\n",
        "            callbacks = [create_model_checkpoint(model_name = model_1.name)])"
      ],
      "metadata": {
        "colab": {
          "base_uri": "https://localhost:8080/"
        },
        "id": "mGSaD30vDVHv",
        "outputId": "cc1244ec-d846-4a7f-8e9b-0f9b17b97f4b"
      },
      "execution_count": null,
      "outputs": [
        {
          "output_type": "stream",
          "name": "stdout",
          "text": [
            "Epoch 1/100\n",
            "12/17 [====================>.........] - ETA: 0s - loss: 9054.6787  INFO:tensorflow:Assets written to: model_experiments/model_1_Conv1D/assets\n",
            "17/17 [==============================] - 11s 76ms/step - loss: 8492.1865 - val_loss: 7910.3945\n",
            "Epoch 2/100\n",
            "12/17 [====================>.........] - ETA: 0s - loss: 7777.1567INFO:tensorflow:Assets written to: model_experiments/model_1_Conv1D/assets\n",
            "17/17 [==============================] - 1s 56ms/step - loss: 7904.7988 - val_loss: 7472.5996\n",
            "Epoch 3/100\n",
            "17/17 [==============================] - 0s 7ms/step - loss: 7878.0801 - val_loss: 7662.0723\n",
            "Epoch 4/100\n",
            "17/17 [==============================] - 0s 7ms/step - loss: 7884.3687 - val_loss: 7754.1353\n",
            "Epoch 5/100\n",
            "17/17 [==============================] - 0s 7ms/step - loss: 7851.5493 - val_loss: 7642.5728\n",
            "Epoch 6/100\n",
            "17/17 [==============================] - 0s 8ms/step - loss: 7846.2251 - val_loss: 7619.5063\n",
            "Epoch 7/100\n",
            "17/17 [==============================] - 0s 6ms/step - loss: 7846.6538 - val_loss: 7614.8486\n",
            "Epoch 8/100\n",
            "17/17 [==============================] - 0s 7ms/step - loss: 7907.0679 - val_loss: 7733.6919\n",
            "Epoch 9/100\n",
            "17/17 [==============================] - 0s 7ms/step - loss: 7870.8916 - val_loss: 7638.0249\n",
            "Epoch 10/100\n",
            "17/17 [==============================] - 0s 7ms/step - loss: 7901.5244 - val_loss: 7736.6636\n",
            "Epoch 11/100\n",
            "17/17 [==============================] - 0s 7ms/step - loss: 7849.2065 - val_loss: 7614.6333\n",
            "Epoch 12/100\n",
            "17/17 [==============================] - 0s 7ms/step - loss: 7875.6660 - val_loss: 7712.4966\n",
            "Epoch 13/100\n",
            "17/17 [==============================] - 0s 7ms/step - loss: 7865.8994 - val_loss: 7709.4521\n",
            "Epoch 14/100\n",
            "17/17 [==============================] - 0s 9ms/step - loss: 7845.9360 - val_loss: 7629.6987\n",
            "Epoch 15/100\n",
            "17/17 [==============================] - 0s 7ms/step - loss: 7837.0078 - val_loss: 7678.8511\n",
            "Epoch 16/100\n",
            "17/17 [==============================] - 0s 7ms/step - loss: 7851.1797 - val_loss: 7615.1421\n",
            "Epoch 17/100\n",
            "17/17 [==============================] - 0s 7ms/step - loss: 7836.5674 - val_loss: 7645.8369\n",
            "Epoch 18/100\n",
            "17/17 [==============================] - 0s 7ms/step - loss: 7856.9429 - val_loss: 7720.8037\n",
            "Epoch 19/100\n",
            "17/17 [==============================] - 0s 7ms/step - loss: 7889.6294 - val_loss: 7649.7920\n",
            "Epoch 20/100\n",
            "17/17 [==============================] - 0s 7ms/step - loss: 7874.7036 - val_loss: 7732.7593\n",
            "Epoch 21/100\n",
            "17/17 [==============================] - 0s 7ms/step - loss: 7834.3154 - val_loss: 7585.3730\n",
            "Epoch 22/100\n",
            "17/17 [==============================] - 0s 8ms/step - loss: 7863.1665 - val_loss: 7664.0117\n",
            "Epoch 23/100\n",
            "17/17 [==============================] - 0s 7ms/step - loss: 7832.5708 - val_loss: 7646.3730\n",
            "Epoch 24/100\n",
            "17/17 [==============================] - 0s 7ms/step - loss: 7787.1123 - val_loss: 7609.0239\n",
            "Epoch 25/100\n",
            "17/17 [==============================] - 0s 7ms/step - loss: 7804.5581 - val_loss: 7644.0229\n",
            "Epoch 26/100\n",
            "17/17 [==============================] - 0s 7ms/step - loss: 7850.8057 - val_loss: 7693.4717\n",
            "Epoch 27/100\n",
            "17/17 [==============================] - 0s 7ms/step - loss: 7900.2661 - val_loss: 7777.0645\n",
            "Epoch 28/100\n",
            "17/17 [==============================] - 0s 7ms/step - loss: 7837.2900 - val_loss: 7574.0835\n",
            "Epoch 29/100\n",
            "17/17 [==============================] - 0s 7ms/step - loss: 7889.5195 - val_loss: 7741.2788\n",
            "Epoch 30/100\n",
            "17/17 [==============================] - 0s 7ms/step - loss: 7833.2373 - val_loss: 7577.0044\n",
            "Epoch 31/100\n",
            "17/17 [==============================] - 0s 7ms/step - loss: 7863.1289 - val_loss: 7733.7861\n",
            "Epoch 32/100\n",
            "17/17 [==============================] - 0s 7ms/step - loss: 7901.1987 - val_loss: 7716.7095\n",
            "Epoch 33/100\n",
            "17/17 [==============================] - 0s 7ms/step - loss: 7864.4868 - val_loss: 7669.5557\n",
            "Epoch 34/100\n",
            "17/17 [==============================] - 0s 7ms/step - loss: 7841.8950 - val_loss: 7640.4888\n",
            "Epoch 35/100\n",
            "17/17 [==============================] - 0s 7ms/step - loss: 7862.8892 - val_loss: 7677.7236\n",
            "Epoch 36/100\n",
            "17/17 [==============================] - 0s 7ms/step - loss: 7836.4082 - val_loss: 7679.8794\n",
            "Epoch 37/100\n",
            "17/17 [==============================] - 0s 8ms/step - loss: 7889.5747 - val_loss: 7671.9238\n",
            "Epoch 38/100\n",
            "17/17 [==============================] - 0s 7ms/step - loss: 7898.4058 - val_loss: 7735.0454\n",
            "Epoch 39/100\n",
            "17/17 [==============================] - 0s 7ms/step - loss: 7856.3818 - val_loss: 7744.8931\n",
            "Epoch 40/100\n",
            "17/17 [==============================] - 0s 7ms/step - loss: 7810.7622 - val_loss: 7687.1348\n",
            "Epoch 41/100\n",
            "17/17 [==============================] - 0s 7ms/step - loss: 7888.5156 - val_loss: 7655.9746\n",
            "Epoch 42/100\n",
            "17/17 [==============================] - 0s 7ms/step - loss: 7847.8911 - val_loss: 7707.5991\n",
            "Epoch 43/100\n",
            "17/17 [==============================] - 0s 7ms/step - loss: 7833.4009 - val_loss: 7590.7207\n",
            "Epoch 44/100\n",
            "17/17 [==============================] - 0s 7ms/step - loss: 7871.7856 - val_loss: 7738.9468\n",
            "Epoch 45/100\n",
            "17/17 [==============================] - 0s 10ms/step - loss: 7838.3535 - val_loss: 7677.0537\n",
            "Epoch 46/100\n",
            "17/17 [==============================] - 0s 7ms/step - loss: 7867.8076 - val_loss: 7694.0991\n",
            "Epoch 47/100\n",
            "17/17 [==============================] - 0s 7ms/step - loss: 7792.1548 - val_loss: 7583.1909\n",
            "Epoch 48/100\n",
            "17/17 [==============================] - 0s 7ms/step - loss: 7849.4883 - val_loss: 7708.3945\n",
            "Epoch 49/100\n",
            "17/17 [==============================] - 0s 7ms/step - loss: 7858.0151 - val_loss: 7620.0190\n",
            "Epoch 50/100\n",
            "17/17 [==============================] - 0s 7ms/step - loss: 7855.9629 - val_loss: 7770.0073\n",
            "Epoch 51/100\n",
            "17/17 [==============================] - 0s 7ms/step - loss: 7826.3950 - val_loss: 7559.0620\n",
            "Epoch 52/100\n",
            "17/17 [==============================] - 0s 7ms/step - loss: 7844.7720 - val_loss: 7765.3350\n",
            "Epoch 53/100\n",
            "17/17 [==============================] - 0s 8ms/step - loss: 7821.7783 - val_loss: 7627.4717\n",
            "Epoch 54/100\n",
            "17/17 [==============================] - 0s 7ms/step - loss: 7834.1279 - val_loss: 7667.9854\n",
            "Epoch 55/100\n",
            "17/17 [==============================] - 0s 7ms/step - loss: 7784.9810 - val_loss: 7585.4922\n",
            "Epoch 56/100\n",
            "17/17 [==============================] - 0s 7ms/step - loss: 7821.5757 - val_loss: 7610.3784\n",
            "Epoch 57/100\n",
            "17/17 [==============================] - 0s 7ms/step - loss: 7795.4019 - val_loss: 7642.8540\n",
            "Epoch 58/100\n",
            "17/17 [==============================] - 0s 7ms/step - loss: 7839.0513 - val_loss: 7681.7607\n",
            "Epoch 59/100\n",
            "17/17 [==============================] - 0s 7ms/step - loss: 7863.5610 - val_loss: 7701.0151\n",
            "Epoch 60/100\n",
            "17/17 [==============================] - 0s 6ms/step - loss: 7856.1792 - val_loss: 7703.0547\n",
            "Epoch 61/100\n",
            "17/17 [==============================] - 0s 7ms/step - loss: 7882.5566 - val_loss: 7764.5889\n",
            "Epoch 62/100\n",
            "17/17 [==============================] - 0s 7ms/step - loss: 7828.0449 - val_loss: 7644.8813\n",
            "Epoch 63/100\n",
            "17/17 [==============================] - 0s 8ms/step - loss: 7820.4253 - val_loss: 7674.8882\n",
            "Epoch 64/100\n",
            "17/17 [==============================] - 0s 8ms/step - loss: 7871.2896 - val_loss: 7742.7539\n",
            "Epoch 65/100\n",
            "17/17 [==============================] - 0s 7ms/step - loss: 7825.5317 - val_loss: 7626.5723\n",
            "Epoch 66/100\n",
            "17/17 [==============================] - 0s 7ms/step - loss: 7747.6270 - val_loss: 7593.2046\n",
            "Epoch 67/100\n",
            "17/17 [==============================] - 0s 8ms/step - loss: 7856.2104 - val_loss: 7655.3052\n",
            "Epoch 68/100\n",
            "17/17 [==============================] - 0s 8ms/step - loss: 7829.4795 - val_loss: 7679.6504\n",
            "Epoch 69/100\n",
            "17/17 [==============================] - 0s 7ms/step - loss: 7842.0581 - val_loss: 7633.5435\n",
            "Epoch 70/100\n",
            "17/17 [==============================] - 0s 7ms/step - loss: 7856.3472 - val_loss: 7685.7842\n",
            "Epoch 71/100\n",
            "17/17 [==============================] - 0s 7ms/step - loss: 7838.7485 - val_loss: 7690.1069\n",
            "Epoch 72/100\n",
            "17/17 [==============================] - 0s 8ms/step - loss: 7842.6494 - val_loss: 7603.8975\n",
            "Epoch 73/100\n",
            "17/17 [==============================] - 0s 8ms/step - loss: 7859.0020 - val_loss: 7706.0596\n",
            "Epoch 74/100\n",
            "17/17 [==============================] - 0s 7ms/step - loss: 7831.4927 - val_loss: 7669.5166\n",
            "Epoch 75/100\n",
            "17/17 [==============================] - 0s 8ms/step - loss: 7871.8975 - val_loss: 7641.1357\n",
            "Epoch 76/100\n",
            "17/17 [==============================] - 0s 8ms/step - loss: 7867.5464 - val_loss: 7665.3315\n",
            "Epoch 77/100\n",
            "17/17 [==============================] - 0s 7ms/step - loss: 7861.7134 - val_loss: 7706.8770\n",
            "Epoch 78/100\n",
            "17/17 [==============================] - 0s 7ms/step - loss: 7847.3228 - val_loss: 7712.6865\n",
            "Epoch 79/100\n",
            "17/17 [==============================] - 0s 7ms/step - loss: 7856.8535 - val_loss: 7662.8667\n",
            "Epoch 80/100\n",
            "17/17 [==============================] - 0s 7ms/step - loss: 7771.4219 - val_loss: 7614.6553\n",
            "Epoch 81/100\n",
            "17/17 [==============================] - 0s 7ms/step - loss: 7863.8706 - val_loss: 7781.5205\n",
            "Epoch 82/100\n",
            "17/17 [==============================] - 0s 7ms/step - loss: 7810.6836 - val_loss: 7623.0371\n",
            "Epoch 83/100\n",
            "17/17 [==============================] - 0s 7ms/step - loss: 7846.3823 - val_loss: 7781.2134\n",
            "Epoch 84/100\n",
            "17/17 [==============================] - 0s 7ms/step - loss: 7845.2632 - val_loss: 7597.9707\n",
            "Epoch 85/100\n",
            "17/17 [==============================] - 0s 7ms/step - loss: 7841.2705 - val_loss: 7749.2153\n",
            "Epoch 86/100\n",
            "17/17 [==============================] - 0s 7ms/step - loss: 7799.6982 - val_loss: 7588.9810\n",
            "Epoch 87/100\n",
            "17/17 [==============================] - 0s 7ms/step - loss: 7840.4639 - val_loss: 7725.5142\n",
            "Epoch 88/100\n",
            "17/17 [==============================] - 0s 7ms/step - loss: 7800.1416 - val_loss: 7665.9707\n",
            "Epoch 89/100\n",
            "17/17 [==============================] - 0s 7ms/step - loss: 7873.3975 - val_loss: 7754.2129\n",
            "Epoch 90/100\n",
            "17/17 [==============================] - 0s 7ms/step - loss: 7857.3081 - val_loss: 7661.0352\n",
            "Epoch 91/100\n",
            "17/17 [==============================] - 0s 8ms/step - loss: 7851.0435 - val_loss: 7698.5112\n",
            "Epoch 92/100\n",
            "17/17 [==============================] - 0s 7ms/step - loss: 7792.8394 - val_loss: 7645.8203\n",
            "Epoch 93/100\n",
            "17/17 [==============================] - 0s 7ms/step - loss: 7847.2505 - val_loss: 7756.1338\n",
            "Epoch 94/100\n",
            "17/17 [==============================] - 0s 7ms/step - loss: 7820.5942 - val_loss: 7655.5381\n",
            "Epoch 95/100\n",
            "17/17 [==============================] - 0s 7ms/step - loss: 7772.4795 - val_loss: 7630.0552\n",
            "Epoch 96/100\n",
            "17/17 [==============================] - 0s 7ms/step - loss: 7843.8530 - val_loss: 7674.6284\n",
            "Epoch 97/100\n",
            "17/17 [==============================] - 0s 7ms/step - loss: 7818.3569 - val_loss: 7618.3242\n",
            "Epoch 98/100\n",
            "17/17 [==============================] - 0s 8ms/step - loss: 7812.3262 - val_loss: 7764.9663\n",
            "Epoch 99/100\n",
            "17/17 [==============================] - 0s 8ms/step - loss: 7809.1104 - val_loss: 7606.2070\n",
            "Epoch 100/100\n",
            "17/17 [==============================] - 0s 7ms/step - loss: 7866.1562 - val_loss: 7747.4282\n"
          ]
        },
        {
          "output_type": "execute_result",
          "data": {
            "text/plain": [
              "<keras.callbacks.History at 0x7f1e002de590>"
            ]
          },
          "metadata": {},
          "execution_count": 20
        }
      ]
    },
    {
      "cell_type": "code",
      "source": [
        "model_1.evaluate(test_windows,test_labels)"
      ],
      "metadata": {
        "colab": {
          "base_uri": "https://localhost:8080/"
        },
        "id": "aQ6R5WkBHMBC",
        "outputId": "aed8c162-bed3-4196-99a0-1026d58f4656"
      },
      "execution_count": null,
      "outputs": [
        {
          "output_type": "stream",
          "name": "stdout",
          "text": [
            "5/5 [==============================] - 0s 4ms/step - loss: 7747.4282\n"
          ]
        },
        {
          "output_type": "execute_result",
          "data": {
            "text/plain": [
              "7747.42822265625"
            ]
          },
          "metadata": {},
          "execution_count": 21
        }
      ]
    },
    {
      "cell_type": "code",
      "source": [
        "model_1 = tf.keras.models.load_model('model_experiments/model_1_Conv1D')\n",
        "model_1.evaluate(test_windows,test_labels)"
      ],
      "metadata": {
        "colab": {
          "base_uri": "https://localhost:8080/"
        },
        "id": "F6J3JjFjIVZ-",
        "outputId": "175404de-a2a6-4d91-a493-9d52a04984aa"
      },
      "execution_count": null,
      "outputs": [
        {
          "output_type": "stream",
          "name": "stdout",
          "text": [
            "5/5 [==============================] - 0s 5ms/step - loss: 7472.5996\n"
          ]
        },
        {
          "output_type": "execute_result",
          "data": {
            "text/plain": [
              "7472.599609375"
            ]
          },
          "metadata": {},
          "execution_count": 22
        }
      ]
    },
    {
      "cell_type": "code",
      "source": [
        "model_1_preds = make_preds(model_1, test_windows)\n",
        "model_1_preds[:10]"
      ],
      "metadata": {
        "colab": {
          "base_uri": "https://localhost:8080/"
        },
        "id": "i8cN5XD2JWR0",
        "outputId": "0caffa2e-8d17-49d5-96b9-d5b789ae2d6b"
      },
      "execution_count": null,
      "outputs": [
        {
          "output_type": "execute_result",
          "data": {
            "text/plain": [
              "<tf.Tensor: shape=(10, 7), dtype=float32, numpy=\n",
              "array([[3526.2507, 2941.171 , 2861.777 , 2985.407 , 3085.2578, 3043.3003,\n",
              "        3026.4604],\n",
              "       [3391.7449, 2943.9697, 2958.486 , 2775.9443, 3323.784 , 3148.158 ,\n",
              "        2956.651 ],\n",
              "       [3157.429 , 3041.9548, 3106.066 , 2692.1387, 3297.01  , 3115.7927,\n",
              "        2950.8926],\n",
              "       [3149.1904, 2892.4014, 2961.6355, 2783.9453, 3084.6492, 2822.635 ,\n",
              "        2971.2446],\n",
              "       [3056.1218, 2748.309 , 2947.1467, 2905.2195, 3001.0608, 2787.327 ,\n",
              "        2994.04  ],\n",
              "       [3026.3206, 2750.6824, 3072.4062, 2836.244 , 2827.4878, 2877.3223,\n",
              "        2911.7996],\n",
              "       [3104.4534, 2716.2698, 2768.8477, 2728.419 , 2646.0415, 2690.9937,\n",
              "        2783.645 ],\n",
              "       [3123.7976, 2540.9397, 2450.3755, 2646.322 , 2708.4539, 2647.3262,\n",
              "        2666.6787],\n",
              "       [2786.0325, 2498.1387, 2451.0269, 2383.8162, 2673.2742, 2679.6858,\n",
              "        2526.8088],\n",
              "       [2846.868 , 2462.9016, 2524.4531, 2295.15  , 2715.8054, 2574.7122,\n",
              "        2381.136 ]], dtype=float32)>"
            ]
          },
          "metadata": {},
          "execution_count": 23
        }
      ]
    },
    {
      "cell_type": "code",
      "source": [
        "model_1_results = evaluate_preds(y_true = tf.squeeze(test_labels),\n",
        "                                 y_pred = model_1_preds)\n",
        "model_1_results"
      ],
      "metadata": {
        "colab": {
          "base_uri": "https://localhost:8080/"
        },
        "id": "Ahxld54mJukr",
        "outputId": "36124d22-bd1c-4935-ec65-c0094e2ddb2a"
      },
      "execution_count": null,
      "outputs": [
        {
          "output_type": "execute_result",
          "data": {
            "text/plain": [
              "{'mae': 5806.5747, 'mape': 40.38666, 'mse': 133524930.0, 'rmse': 6193.2124}"
            ]
          },
          "metadata": {},
          "execution_count": 24
        }
      ]
    },
    {
      "cell_type": "markdown",
      "source": [
        "## MODEL - 2 : Conv-1D (windows_size = 14, horizon = 7)"
      ],
      "metadata": {
        "id": "S0s5jm7WKCWl"
      }
    },
    {
      "cell_type": "code",
      "source": [
        "HORIZON = 7\n",
        "WINDOW_SIZE = 14"
      ],
      "metadata": {
        "id": "mPQUgd7cK42T"
      },
      "execution_count": null,
      "outputs": []
    },
    {
      "cell_type": "code",
      "source": [
        "full_windows,full_labels = make_windows(cases, window_size = WINDOW_SIZE, horizon = HORIZON)\n",
        "len(full_windows), len(full_labels)"
      ],
      "metadata": {
        "colab": {
          "base_uri": "https://localhost:8080/"
        },
        "id": "mmhi19ruLdkX",
        "outputId": "df4aeb12-491c-4524-8372-bffcd53f07ff"
      },
      "execution_count": null,
      "outputs": [
        {
          "output_type": "execute_result",
          "data": {
            "text/plain": [
              "(652, 652)"
            ]
          },
          "metadata": {},
          "execution_count": 26
        }
      ]
    },
    {
      "cell_type": "code",
      "source": [
        "train_windows, test_windows, train_labels, test_labels = make_train_test_split(full_windows, full_labels)\n",
        "len(train_windows), len(test_windows), len(train_labels), len(test_labels)"
      ],
      "metadata": {
        "colab": {
          "base_uri": "https://localhost:8080/"
        },
        "id": "BDAKNqHMLx-r",
        "outputId": "afd29501-3f0a-4728-eca1-f6a188352666"
      },
      "execution_count": null,
      "outputs": [
        {
          "output_type": "execute_result",
          "data": {
            "text/plain": [
              "(521, 131, 521, 131)"
            ]
          },
          "metadata": {},
          "execution_count": 27
        }
      ]
    },
    {
      "cell_type": "code",
      "source": [
        "# Making model\n",
        "tf.random.set_seed(42)\n",
        "\n",
        "model_2 = tf.keras.Sequential([\n",
        "    layers.Lambda(lambda x: tf.expand_dims(x,axis = 1)),\n",
        "    layers.Conv1D(filters = 128,kernel_size = 5,padding = 'causal',activation = 'relu'),\n",
        "    layers.Dense(HORIZON)\n",
        "],name = 'model_2_Conv1D_14_7')\n",
        "\n",
        "model_2.compile(loss = 'mae',\n",
        "                optimizer = tf.keras.optimizers.Adam())\n",
        "\n",
        "model_2.fit(train_windows,\n",
        "            train_labels,\n",
        "            epochs = 100,\n",
        "            batch_size = 32,\n",
        "            validation_data = (test_windows, test_labels),\n",
        "            callbacks = [create_model_checkpoint(model_name = model_2.name)])"
      ],
      "metadata": {
        "colab": {
          "base_uri": "https://localhost:8080/"
        },
        "id": "ECHgxEJqM9vJ",
        "outputId": "359738a8-3070-470d-d1e4-6779b49de18e"
      },
      "execution_count": null,
      "outputs": [
        {
          "output_type": "stream",
          "name": "stdout",
          "text": [
            "Epoch 1/100\n",
            "17/17 [==============================] - ETA: 0s - loss: 8346.3184INFO:tensorflow:Assets written to: model_experiments/model_2_Conv1D_14_7/assets\n",
            "17/17 [==============================] - 2s 69ms/step - loss: 8346.3184 - val_loss: 7595.8877\n",
            "Epoch 2/100\n",
            "17/17 [==============================] - 0s 7ms/step - loss: 7868.0635 - val_loss: 7787.2817\n",
            "Epoch 3/100\n",
            "17/17 [==============================] - 0s 7ms/step - loss: 7937.8521 - val_loss: 7855.3716\n",
            "Epoch 4/100\n",
            "17/17 [==============================] - 0s 7ms/step - loss: 7867.9424 - val_loss: 7717.0835\n",
            "Epoch 5/100\n",
            "17/17 [==============================] - 0s 7ms/step - loss: 7890.5117 - val_loss: 7860.8081\n",
            "Epoch 6/100\n",
            "17/17 [==============================] - 0s 7ms/step - loss: 7904.4946 - val_loss: 7787.1011\n",
            "Epoch 7/100\n",
            "17/17 [==============================] - 0s 7ms/step - loss: 7883.1494 - val_loss: 7796.1504\n",
            "Epoch 8/100\n",
            "17/17 [==============================] - 0s 8ms/step - loss: 7909.3960 - val_loss: 7819.9194\n",
            "Epoch 9/100\n",
            "17/17 [==============================] - 0s 7ms/step - loss: 7851.6636 - val_loss: 7743.2979\n",
            "Epoch 10/100\n",
            "17/17 [==============================] - 0s 7ms/step - loss: 7831.3735 - val_loss: 7813.3599\n",
            "Epoch 11/100\n",
            "17/17 [==============================] - 0s 7ms/step - loss: 7887.2744 - val_loss: 7760.7598\n",
            "Epoch 12/100\n",
            "17/17 [==============================] - 0s 8ms/step - loss: 7886.1943 - val_loss: 7814.5396\n",
            "Epoch 13/100\n",
            "17/17 [==============================] - 0s 7ms/step - loss: 7855.6299 - val_loss: 7647.2471\n",
            "Epoch 14/100\n",
            "17/17 [==============================] - 0s 7ms/step - loss: 7816.8994 - val_loss: 7794.2319\n",
            "Epoch 15/100\n",
            "17/17 [==============================] - 0s 8ms/step - loss: 7839.2026 - val_loss: 7772.9824\n",
            "Epoch 16/100\n",
            "17/17 [==============================] - 0s 8ms/step - loss: 7833.8062 - val_loss: 7734.6401\n",
            "Epoch 17/100\n",
            "17/17 [==============================] - 0s 7ms/step - loss: 7892.8071 - val_loss: 7826.7192\n",
            "Epoch 18/100\n",
            "17/17 [==============================] - 0s 7ms/step - loss: 7860.2871 - val_loss: 7802.6230\n",
            "Epoch 19/100\n",
            "17/17 [==============================] - 0s 7ms/step - loss: 7904.2886 - val_loss: 7852.5483\n",
            "Epoch 20/100\n",
            "17/17 [==============================] - 0s 7ms/step - loss: 7893.7812 - val_loss: 7774.0586\n",
            "Epoch 21/100\n",
            "17/17 [==============================] - 0s 7ms/step - loss: 7887.1245 - val_loss: 7809.5522\n",
            "Epoch 22/100\n",
            "17/17 [==============================] - 0s 7ms/step - loss: 7904.7246 - val_loss: 7768.8555\n",
            "Epoch 23/100\n",
            "17/17 [==============================] - 0s 7ms/step - loss: 7848.8789 - val_loss: 7722.4619\n",
            "Epoch 24/100\n",
            "17/17 [==============================] - 0s 7ms/step - loss: 7884.5015 - val_loss: 7844.2534\n",
            "Epoch 25/100\n",
            "17/17 [==============================] - 0s 7ms/step - loss: 7855.2983 - val_loss: 7673.1743\n",
            "Epoch 26/100\n",
            "17/17 [==============================] - 0s 7ms/step - loss: 7904.6997 - val_loss: 7794.7334\n",
            "Epoch 27/100\n",
            "17/17 [==============================] - 0s 7ms/step - loss: 7898.3735 - val_loss: 7869.7373\n",
            "Epoch 28/100\n",
            "17/17 [==============================] - 0s 7ms/step - loss: 7849.6982 - val_loss: 7826.6572\n",
            "Epoch 29/100\n",
            "17/17 [==============================] - 0s 7ms/step - loss: 7850.3564 - val_loss: 7702.8628\n",
            "Epoch 30/100\n",
            "17/17 [==============================] - 0s 7ms/step - loss: 7886.3750 - val_loss: 7806.1606\n",
            "Epoch 31/100\n",
            "17/17 [==============================] - 0s 7ms/step - loss: 7838.0498 - val_loss: 7751.3330\n",
            "Epoch 32/100\n",
            "17/17 [==============================] - 0s 8ms/step - loss: 7835.5654 - val_loss: 7698.8716\n",
            "Epoch 33/100\n",
            "17/17 [==============================] - 0s 7ms/step - loss: 7849.5327 - val_loss: 7843.2603\n",
            "Epoch 34/100\n",
            "17/17 [==============================] - 0s 7ms/step - loss: 7828.0439 - val_loss: 7742.9360\n",
            "Epoch 35/100\n",
            "17/17 [==============================] - 0s 7ms/step - loss: 7791.9028 - val_loss: 7759.4590\n",
            "Epoch 36/100\n",
            "17/17 [==============================] - 0s 7ms/step - loss: 7812.3662 - val_loss: 7792.1865\n",
            "Epoch 37/100\n",
            "17/17 [==============================] - 0s 7ms/step - loss: 7797.4272 - val_loss: 7674.6709\n",
            "Epoch 38/100\n",
            "17/17 [==============================] - 0s 7ms/step - loss: 7830.6284 - val_loss: 7828.3213\n",
            "Epoch 39/100\n",
            "17/17 [==============================] - 0s 8ms/step - loss: 7839.5518 - val_loss: 7702.0186\n",
            "Epoch 40/100\n",
            "17/17 [==============================] - 0s 7ms/step - loss: 7884.3579 - val_loss: 7779.7598\n",
            "Epoch 41/100\n",
            "17/17 [==============================] - 0s 7ms/step - loss: 7847.5366 - val_loss: 7753.3940\n",
            "Epoch 42/100\n",
            "17/17 [==============================] - 0s 7ms/step - loss: 7850.6143 - val_loss: 7807.8076\n",
            "Epoch 43/100\n",
            "17/17 [==============================] - 0s 7ms/step - loss: 7867.2817 - val_loss: 7843.3564\n",
            "Epoch 44/100\n",
            "12/17 [====================>.........] - ETA: 0s - loss: 8070.5195INFO:tensorflow:Assets written to: model_experiments/model_2_Conv1D_14_7/assets\n",
            "17/17 [==============================] - 1s 53ms/step - loss: 7836.3096 - val_loss: 7590.3594\n",
            "Epoch 45/100\n",
            "17/17 [==============================] - 0s 7ms/step - loss: 7857.8096 - val_loss: 7888.5933\n",
            "Epoch 46/100\n",
            "17/17 [==============================] - 0s 7ms/step - loss: 7875.9575 - val_loss: 7730.5356\n",
            "Epoch 47/100\n",
            "17/17 [==============================] - 0s 7ms/step - loss: 7833.6162 - val_loss: 7782.5073\n",
            "Epoch 48/100\n",
            "17/17 [==============================] - 0s 7ms/step - loss: 7889.3687 - val_loss: 7803.3105\n",
            "Epoch 49/100\n",
            "17/17 [==============================] - 0s 8ms/step - loss: 7857.1548 - val_loss: 7849.1362\n",
            "Epoch 50/100\n",
            "17/17 [==============================] - 0s 7ms/step - loss: 7869.2041 - val_loss: 7802.5098\n",
            "Epoch 51/100\n",
            "17/17 [==============================] - 0s 7ms/step - loss: 7794.1001 - val_loss: 7815.9795\n",
            "Epoch 52/100\n",
            "17/17 [==============================] - 0s 7ms/step - loss: 7856.5781 - val_loss: 7715.4453\n",
            "Epoch 53/100\n",
            "17/17 [==============================] - 0s 10ms/step - loss: 7830.0732 - val_loss: 7895.7827\n",
            "Epoch 54/100\n",
            "17/17 [==============================] - 0s 7ms/step - loss: 7826.3091 - val_loss: 7735.0747\n",
            "Epoch 55/100\n",
            "17/17 [==============================] - 0s 7ms/step - loss: 7832.0210 - val_loss: 7919.1328\n",
            "Epoch 56/100\n",
            "17/17 [==============================] - 0s 7ms/step - loss: 7862.5161 - val_loss: 7788.0537\n",
            "Epoch 57/100\n",
            "17/17 [==============================] - 0s 8ms/step - loss: 7809.4585 - val_loss: 7737.2705\n",
            "Epoch 58/100\n",
            "17/17 [==============================] - 0s 8ms/step - loss: 7793.0605 - val_loss: 7957.6172\n",
            "Epoch 59/100\n",
            "17/17 [==============================] - 0s 7ms/step - loss: 7781.5762 - val_loss: 7713.4282\n",
            "Epoch 60/100\n",
            "17/17 [==============================] - 0s 7ms/step - loss: 7862.4111 - val_loss: 7879.6353\n",
            "Epoch 61/100\n",
            "17/17 [==============================] - 0s 7ms/step - loss: 7860.3662 - val_loss: 7858.7178\n",
            "Epoch 62/100\n",
            "17/17 [==============================] - 0s 7ms/step - loss: 7803.8501 - val_loss: 7671.5952\n",
            "Epoch 63/100\n",
            "17/17 [==============================] - 0s 7ms/step - loss: 7830.0835 - val_loss: 7860.5049\n",
            "Epoch 64/100\n",
            "17/17 [==============================] - 0s 7ms/step - loss: 7841.2974 - val_loss: 7795.2290\n",
            "Epoch 65/100\n",
            "17/17 [==============================] - 0s 7ms/step - loss: 7819.6064 - val_loss: 7841.4600\n",
            "Epoch 66/100\n",
            "17/17 [==============================] - 0s 7ms/step - loss: 7821.3281 - val_loss: 7838.5625\n",
            "Epoch 67/100\n",
            "17/17 [==============================] - 0s 7ms/step - loss: 7837.3506 - val_loss: 7704.3784\n",
            "Epoch 68/100\n",
            "17/17 [==============================] - 0s 8ms/step - loss: 7837.0137 - val_loss: 7821.4375\n",
            "Epoch 69/100\n",
            "17/17 [==============================] - 0s 7ms/step - loss: 7845.9175 - val_loss: 7803.5190\n",
            "Epoch 70/100\n",
            "17/17 [==============================] - 0s 7ms/step - loss: 7834.9092 - val_loss: 7947.7876\n",
            "Epoch 71/100\n",
            "17/17 [==============================] - 0s 8ms/step - loss: 7818.7334 - val_loss: 7648.2456\n",
            "Epoch 72/100\n",
            "17/17 [==============================] - 0s 10ms/step - loss: 7823.9170 - val_loss: 7935.7852\n",
            "Epoch 73/100\n",
            "17/17 [==============================] - 0s 8ms/step - loss: 7813.6729 - val_loss: 7761.3828\n",
            "Epoch 74/100\n",
            "17/17 [==============================] - 0s 7ms/step - loss: 7862.9419 - val_loss: 8039.7178\n",
            "Epoch 75/100\n",
            "17/17 [==============================] - 0s 7ms/step - loss: 7850.0698 - val_loss: 7869.2559\n",
            "Epoch 76/100\n",
            "17/17 [==============================] - 0s 7ms/step - loss: 7836.4409 - val_loss: 7704.7090\n",
            "Epoch 77/100\n",
            "17/17 [==============================] - 0s 7ms/step - loss: 7852.8315 - val_loss: 8139.0869\n",
            "Epoch 78/100\n",
            "17/17 [==============================] - 0s 7ms/step - loss: 7816.8608 - val_loss: 7755.8286\n",
            "Epoch 79/100\n",
            "17/17 [==============================] - 0s 7ms/step - loss: 7799.3999 - val_loss: 7769.3364\n",
            "Epoch 80/100\n",
            "17/17 [==============================] - 0s 7ms/step - loss: 7788.6440 - val_loss: 7952.6099\n",
            "Epoch 81/100\n",
            "17/17 [==============================] - 0s 7ms/step - loss: 7829.9399 - val_loss: 7863.6899\n",
            "Epoch 82/100\n",
            "17/17 [==============================] - 0s 6ms/step - loss: 7847.3174 - val_loss: 7885.6279\n",
            "Epoch 83/100\n",
            "14/17 [=======================>......] - ETA: 0s - loss: 7605.3135INFO:tensorflow:Assets written to: model_experiments/model_2_Conv1D_14_7/assets\n",
            "17/17 [==============================] - 1s 56ms/step - loss: 7762.6094 - val_loss: 7566.8555\n",
            "Epoch 84/100\n",
            "17/17 [==============================] - 0s 7ms/step - loss: 7899.4409 - val_loss: 8071.0068\n",
            "Epoch 85/100\n",
            "17/17 [==============================] - 0s 7ms/step - loss: 7810.7710 - val_loss: 7768.4136\n",
            "Epoch 86/100\n",
            "17/17 [==============================] - 0s 7ms/step - loss: 7829.0059 - val_loss: 7934.5620\n",
            "Epoch 87/100\n",
            "17/17 [==============================] - 0s 7ms/step - loss: 7805.5737 - val_loss: 7700.6353\n",
            "Epoch 88/100\n",
            "17/17 [==============================] - 0s 7ms/step - loss: 7760.7739 - val_loss: 8007.1621\n",
            "Epoch 89/100\n",
            "17/17 [==============================] - 0s 7ms/step - loss: 7789.0967 - val_loss: 7755.6797\n",
            "Epoch 90/100\n",
            "17/17 [==============================] - 0s 8ms/step - loss: 7845.5161 - val_loss: 7902.4746\n",
            "Epoch 91/100\n",
            "17/17 [==============================] - 0s 7ms/step - loss: 7831.8120 - val_loss: 7941.6763\n",
            "Epoch 92/100\n",
            "17/17 [==============================] - 0s 7ms/step - loss: 7760.7417 - val_loss: 7752.3242\n",
            "Epoch 93/100\n",
            "17/17 [==============================] - 0s 8ms/step - loss: 7806.1519 - val_loss: 7825.4292\n",
            "Epoch 94/100\n",
            "17/17 [==============================] - 0s 7ms/step - loss: 7770.4199 - val_loss: 7904.6421\n",
            "Epoch 95/100\n",
            "17/17 [==============================] - 0s 7ms/step - loss: 7812.6274 - val_loss: 7785.8267\n",
            "Epoch 96/100\n",
            "17/17 [==============================] - 0s 7ms/step - loss: 7822.3091 - val_loss: 8034.8359\n",
            "Epoch 97/100\n",
            "17/17 [==============================] - 0s 7ms/step - loss: 7772.0737 - val_loss: 7852.2759\n",
            "Epoch 98/100\n",
            "17/17 [==============================] - 0s 7ms/step - loss: 7798.8008 - val_loss: 7926.4004\n",
            "Epoch 99/100\n",
            "17/17 [==============================] - 0s 8ms/step - loss: 7843.3618 - val_loss: 7789.7837\n",
            "Epoch 100/100\n",
            "17/17 [==============================] - 0s 7ms/step - loss: 7772.6470 - val_loss: 8115.6631\n"
          ]
        },
        {
          "output_type": "execute_result",
          "data": {
            "text/plain": [
              "<keras.callbacks.History at 0x7f1d89c8c290>"
            ]
          },
          "metadata": {},
          "execution_count": 28
        }
      ]
    },
    {
      "cell_type": "code",
      "source": [
        "model_2.evaluate(test_windows,test_labels)"
      ],
      "metadata": {
        "colab": {
          "base_uri": "https://localhost:8080/"
        },
        "id": "1AvJtiOrOhKm",
        "outputId": "761ece00-8fde-47df-e618-762c99256912"
      },
      "execution_count": null,
      "outputs": [
        {
          "output_type": "stream",
          "name": "stdout",
          "text": [
            "5/5 [==============================] - 0s 5ms/step - loss: 8115.6631\n"
          ]
        },
        {
          "output_type": "execute_result",
          "data": {
            "text/plain": [
              "8115.6630859375"
            ]
          },
          "metadata": {},
          "execution_count": 29
        }
      ]
    },
    {
      "cell_type": "code",
      "source": [
        "model_2 = tf.keras.models.load_model('model_experiments/model_2_Conv1D_14_7')\n",
        "model_2.evaluate(test_windows, test_labels)"
      ],
      "metadata": {
        "colab": {
          "base_uri": "https://localhost:8080/"
        },
        "id": "0WnISOpjO1pq",
        "outputId": "9010b9fe-83ef-4c5e-e976-e23102bf77f6"
      },
      "execution_count": null,
      "outputs": [
        {
          "output_type": "stream",
          "name": "stdout",
          "text": [
            "5/5 [==============================] - 0s 6ms/step - loss: 7566.8555\n"
          ]
        },
        {
          "output_type": "execute_result",
          "data": {
            "text/plain": [
              "7566.85546875"
            ]
          },
          "metadata": {},
          "execution_count": 30
        }
      ]
    },
    {
      "cell_type": "code",
      "source": [
        "model_2_preds = make_preds(model_2, test_windows)\n",
        "model_2_preds[:10]"
      ],
      "metadata": {
        "colab": {
          "base_uri": "https://localhost:8080/"
        },
        "id": "5HJYYQS2O-cT",
        "outputId": "ad82b538-2f2b-4ab6-b8e1-0479087aaddf"
      },
      "execution_count": null,
      "outputs": [
        {
          "output_type": "execute_result",
          "data": {
            "text/plain": [
              "<tf.Tensor: shape=(10, 7), dtype=float32, numpy=\n",
              "array([[3596.1084, 3621.1711, 3533.5203, 3695.2131, 3583.9492, 3759.1414,\n",
              "        3701.6973],\n",
              "       [3261.6233, 3365.179 , 3308.3145, 3486.5457, 3236.181 , 3421.7922,\n",
              "        3521.4854],\n",
              "       [3240.478 , 3177.669 , 3134.234 , 3197.8906, 3208.974 , 3170.5806,\n",
              "        3276.721 ],\n",
              "       [3753.632 , 3657.9106, 3600.3164, 3695.0479, 3637.834 , 3769.526 ,\n",
              "        3703.0828],\n",
              "       [3523.5317, 3490.1982, 3541.2383, 3605.157 , 3539.6243, 3574.4915,\n",
              "        3650.4944],\n",
              "       [2966.847 , 2990.0815, 2957.945 , 3006.7983, 2977.9316, 2961.8381,\n",
              "        3017.8477],\n",
              "       [3234.0413, 3153.993 , 3124.083 , 3243.838 , 3151.966 , 3233.069 ,\n",
              "        3108.3098],\n",
              "       [2942.5713, 3042.1575, 2814.2473, 3040.2578, 2892.481 , 3006.785 ,\n",
              "        3007.3232],\n",
              "       [2951.2861, 2991.9417, 3003.7883, 3098.775 , 3009.7542, 3096.0261,\n",
              "        3151.8513],\n",
              "       [2699.5515, 2632.722 , 2631.3047, 2700.7217, 2631.1272, 2709.4934,\n",
              "        2755.499 ]], dtype=float32)>"
            ]
          },
          "metadata": {},
          "execution_count": 31
        }
      ]
    },
    {
      "cell_type": "code",
      "source": [
        "test_labels[:5]"
      ],
      "metadata": {
        "colab": {
          "base_uri": "https://localhost:8080/"
        },
        "id": "j9gLyFjvPNzv",
        "outputId": "28e17c90-de47-451d-c6da-a0ba431446a8"
      },
      "execution_count": null,
      "outputs": [
        {
          "output_type": "execute_result",
          "data": {
            "text/plain": [
              "array([[6111., 5754., 6075., 5080., 3698., 4972., 4280.],\n",
              "       [5754., 6075., 5080., 3698., 4972., 4280., 5987.],\n",
              "       [6075., 5080., 3698., 4972., 4280., 5987., 4677.],\n",
              "       [5080., 3698., 4972., 4280., 5987., 4677., 4741.],\n",
              "       [3698., 4972., 4280., 5987., 4677., 4741., 4350.]], dtype=float32)"
            ]
          },
          "metadata": {},
          "execution_count": 32
        }
      ]
    },
    {
      "cell_type": "code",
      "source": [
        "model_2_results = evaluate_preds(y_true= tf.squeeze(test_labels),\n",
        "                                 y_pred = model_2_preds)\n",
        "model_2_results"
      ],
      "metadata": {
        "colab": {
          "base_uri": "https://localhost:8080/"
        },
        "id": "ig1mx35iPFkJ",
        "outputId": "d158d00c-6894-40d1-a5bb-e5e748690c66"
      },
      "execution_count": null,
      "outputs": [
        {
          "output_type": "execute_result",
          "data": {
            "text/plain": [
              "{'mae': 6364.078, 'mape': 46.891693, 'mse': 152749060.0, 'rmse': 6789.318}"
            ]
          },
          "metadata": {},
          "execution_count": 33
        }
      ]
    },
    {
      "cell_type": "code",
      "source": [
        "model_1_results"
      ],
      "metadata": {
        "colab": {
          "base_uri": "https://localhost:8080/"
        },
        "id": "ON857zVzPW7P",
        "outputId": "99c301e7-ee9d-4e22-a347-ecb15477382a"
      },
      "execution_count": null,
      "outputs": [
        {
          "output_type": "execute_result",
          "data": {
            "text/plain": [
              "{'mae': 5806.5747, 'mape': 40.38666, 'mse': 133524930.0, 'rmse': 6193.2124}"
            ]
          },
          "metadata": {},
          "execution_count": 34
        }
      ]
    },
    {
      "cell_type": "markdown",
      "source": [
        "## MODEL X: Conv1D (window_size = 7, horizon = 1)"
      ],
      "metadata": {
        "id": "Dd6IHil6PYKR"
      }
    },
    {
      "cell_type": "code",
      "source": [
        "HORIZON = 1\n",
        "WINDOW_SIZE = 7"
      ],
      "metadata": {
        "id": "a5ZjQqGuP9fj"
      },
      "execution_count": null,
      "outputs": []
    },
    {
      "cell_type": "code",
      "source": [
        "full_windows,full_labels = make_windows(cases, window_size = WINDOW_SIZE, horizon = HORIZON)\n",
        "len(full_windows), len(full_labels)"
      ],
      "metadata": {
        "colab": {
          "base_uri": "https://localhost:8080/"
        },
        "id": "gdejOq7BP_uK",
        "outputId": "a2e5ef2c-0ee7-486c-b340-731c0911b6cf"
      },
      "execution_count": null,
      "outputs": [
        {
          "output_type": "execute_result",
          "data": {
            "text/plain": [
              "(665, 665)"
            ]
          },
          "metadata": {},
          "execution_count": 36
        }
      ]
    },
    {
      "cell_type": "code",
      "source": [
        "train_windows, test_windows, train_labels, test_labels = make_train_test_split(full_windows, full_labels)\n",
        "len(train_windows), len(test_windows), len(train_labels), len(test_labels)"
      ],
      "metadata": {
        "colab": {
          "base_uri": "https://localhost:8080/"
        },
        "id": "zIGAqliAQERv",
        "outputId": "fc3447b1-37e4-40fa-c7e0-bb74a400fcaa"
      },
      "execution_count": null,
      "outputs": [
        {
          "output_type": "execute_result",
          "data": {
            "text/plain": [
              "(532, 133, 532, 133)"
            ]
          },
          "metadata": {},
          "execution_count": 37
        }
      ]
    },
    {
      "cell_type": "code",
      "source": [
        "tf.random.set_seed(42)\n",
        "\n",
        "model_X = tf.keras.Sequential([\n",
        "    layers.Lambda(lambda x: tf.expand_dims(x,axis = 1)),\n",
        "    layers.Conv1D(filters = 128,kernel_size = 5,padding = 'causal',activation = 'relu'),\n",
        "    layers.Dense(HORIZON)\n",
        "],name = 'model_X_Conv1D_7_1')\n",
        "\n",
        "model_X.compile(loss = 'mae',\n",
        "                optimizer = tf.keras.optimizers.Adam())\n",
        "\n",
        "model_X.fit(train_windows,\n",
        "            train_labels,\n",
        "            epochs = 100,\n",
        "            batch_size = 32,\n",
        "            validation_data = (test_windows, test_labels),\n",
        "            callbacks = [create_model_checkpoint(model_name = model_X.name)])"
      ],
      "metadata": {
        "colab": {
          "base_uri": "https://localhost:8080/"
        },
        "id": "xvcsA4xbQHaT",
        "outputId": "7268db55-d160-4cf4-fc66-36554dc06e2b"
      },
      "execution_count": null,
      "outputs": [
        {
          "output_type": "stream",
          "name": "stdout",
          "text": [
            "Epoch 1/100\n",
            "12/17 [====================>.........] - ETA: 0s - loss: 4916.2832INFO:tensorflow:Assets written to: model_experiments/model_X_Conv1D_7_1/assets\n",
            "17/17 [==============================] - 2s 66ms/step - loss: 4036.4836 - val_loss: 3556.9412\n",
            "Epoch 2/100\n",
            "13/17 [=====================>........] - ETA: 0s - loss: 1858.0471INFO:tensorflow:Assets written to: model_experiments/model_X_Conv1D_7_1/assets\n",
            "17/17 [==============================] - 1s 54ms/step - loss: 1792.3114 - val_loss: 3163.6794\n",
            "Epoch 3/100\n",
            "17/17 [==============================] - 0s 8ms/step - loss: 1619.1373 - val_loss: 3250.3611\n",
            "Epoch 4/100\n",
            "13/17 [=====================>........] - ETA: 0s - loss: 1559.4688INFO:tensorflow:Assets written to: model_experiments/model_X_Conv1D_7_1/assets\n",
            "17/17 [==============================] - 1s 52ms/step - loss: 1520.0876 - val_loss: 3157.7268\n",
            "Epoch 5/100\n",
            "17/17 [==============================] - 0s 7ms/step - loss: 1523.4635 - val_loss: 3188.7358\n",
            "Epoch 6/100\n",
            "14/17 [=======================>......] - ETA: 0s - loss: 1539.7899INFO:tensorflow:Assets written to: model_experiments/model_X_Conv1D_7_1/assets\n",
            "17/17 [==============================] - 1s 66ms/step - loss: 1496.6136 - val_loss: 3139.9646\n",
            "Epoch 7/100\n",
            "14/17 [=======================>......] - ETA: 0s - loss: 1525.9030INFO:tensorflow:Assets written to: model_experiments/model_X_Conv1D_7_1/assets\n",
            "17/17 [==============================] - 1s 54ms/step - loss: 1483.0325 - val_loss: 3095.8638\n",
            "Epoch 8/100\n",
            "17/17 [==============================] - 0s 8ms/step - loss: 1471.0737 - val_loss: 3106.5613\n",
            "Epoch 9/100\n",
            "17/17 [==============================] - 0s 7ms/step - loss: 1459.1927 - val_loss: 3101.1521\n",
            "Epoch 10/100\n",
            "13/17 [=====================>........] - ETA: 0s - loss: 1454.0809INFO:tensorflow:Assets written to: model_experiments/model_X_Conv1D_7_1/assets\n",
            "17/17 [==============================] - 1s 55ms/step - loss: 1459.3187 - val_loss: 3022.1851\n",
            "Epoch 11/100\n",
            "11/17 [==================>...........] - ETA: 0s - loss: 1544.4058INFO:tensorflow:Assets written to: model_experiments/model_X_Conv1D_7_1/assets\n",
            "17/17 [==============================] - 1s 54ms/step - loss: 1443.6055 - val_loss: 2976.1694\n",
            "Epoch 12/100\n",
            "17/17 [==============================] - 0s 8ms/step - loss: 1425.7944 - val_loss: 3009.4155\n",
            "Epoch 13/100\n",
            "13/17 [=====================>........] - ETA: 0s - loss: 1515.3380INFO:tensorflow:Assets written to: model_experiments/model_X_Conv1D_7_1/assets\n",
            "17/17 [==============================] - 1s 53ms/step - loss: 1426.4132 - val_loss: 2974.9912\n",
            "Epoch 14/100\n",
            "13/17 [=====================>........] - ETA: 0s - loss: 1433.0870INFO:tensorflow:Assets written to: model_experiments/model_X_Conv1D_7_1/assets\n",
            "17/17 [==============================] - 1s 53ms/step - loss: 1394.2695 - val_loss: 2917.0557\n",
            "Epoch 15/100\n",
            "17/17 [==============================] - 0s 7ms/step - loss: 1381.9617 - val_loss: 2956.3875\n",
            "Epoch 16/100\n",
            "17/17 [==============================] - 0s 8ms/step - loss: 1393.8350 - val_loss: 2969.2102\n",
            "Epoch 17/100\n",
            "17/17 [==============================] - 0s 7ms/step - loss: 1459.9225 - val_loss: 2959.8694\n",
            "Epoch 18/100\n",
            "13/17 [=====================>........] - ETA: 0s - loss: 1489.4425INFO:tensorflow:Assets written to: model_experiments/model_X_Conv1D_7_1/assets\n",
            "17/17 [==============================] - 1s 52ms/step - loss: 1421.7350 - val_loss: 2915.4653\n",
            "Epoch 19/100\n",
            "12/17 [====================>.........] - ETA: 0s - loss: 1372.1578INFO:tensorflow:Assets written to: model_experiments/model_X_Conv1D_7_1/assets\n",
            "17/17 [==============================] - 1s 52ms/step - loss: 1364.2048 - val_loss: 2881.1995\n",
            "Epoch 20/100\n",
            "17/17 [==============================] - 0s 7ms/step - loss: 1360.6315 - val_loss: 2891.8955\n",
            "Epoch 21/100\n",
            "17/17 [==============================] - 0s 8ms/step - loss: 1348.1405 - val_loss: 2903.7839\n",
            "Epoch 22/100\n",
            "17/17 [==============================] - 0s 7ms/step - loss: 1329.3019 - val_loss: 2928.9619\n",
            "Epoch 23/100\n",
            "13/17 [=====================>........] - ETA: 0s - loss: 1403.1407INFO:tensorflow:Assets written to: model_experiments/model_X_Conv1D_7_1/assets\n",
            "17/17 [==============================] - 1s 55ms/step - loss: 1344.5544 - val_loss: 2788.9451\n",
            "Epoch 24/100\n",
            "17/17 [==============================] - 0s 7ms/step - loss: 1336.9684 - val_loss: 2826.9365\n",
            "Epoch 25/100\n",
            "17/17 [==============================] - 0s 7ms/step - loss: 1337.5758 - val_loss: 2824.1770\n",
            "Epoch 26/100\n",
            "17/17 [==============================] - 0s 7ms/step - loss: 1292.1393 - val_loss: 2831.0457\n",
            "Epoch 27/100\n",
            "17/17 [==============================] - 0s 7ms/step - loss: 1300.1705 - val_loss: 2854.0957\n",
            "Epoch 28/100\n",
            "17/17 [==============================] - 0s 7ms/step - loss: 1313.8097 - val_loss: 2835.5503\n",
            "Epoch 29/100\n",
            "13/17 [=====================>........] - ETA: 0s - loss: 1300.9486INFO:tensorflow:Assets written to: model_experiments/model_X_Conv1D_7_1/assets\n",
            "17/17 [==============================] - 1s 70ms/step - loss: 1298.8698 - val_loss: 2760.0574\n",
            "Epoch 30/100\n",
            "13/17 [=====================>........] - ETA: 0s - loss: 1243.9545INFO:tensorflow:Assets written to: model_experiments/model_X_Conv1D_7_1/assets\n",
            "17/17 [==============================] - 1s 55ms/step - loss: 1263.3494 - val_loss: 2744.3972\n",
            "Epoch 31/100\n",
            "11/17 [==================>...........] - ETA: 0s - loss: 1368.0160INFO:tensorflow:Assets written to: model_experiments/model_X_Conv1D_7_1/assets\n",
            "17/17 [==============================] - 1s 55ms/step - loss: 1260.0332 - val_loss: 2740.6538\n",
            "Epoch 32/100\n",
            "13/17 [=====================>........] - ETA: 0s - loss: 1255.7897INFO:tensorflow:Assets written to: model_experiments/model_X_Conv1D_7_1/assets\n",
            "17/17 [==============================] - 1s 55ms/step - loss: 1254.0071 - val_loss: 2696.7468\n",
            "Epoch 33/100\n",
            "13/17 [=====================>........] - ETA: 0s - loss: 1258.8949INFO:tensorflow:Assets written to: model_experiments/model_X_Conv1D_7_1/assets\n",
            "17/17 [==============================] - 1s 54ms/step - loss: 1256.0507 - val_loss: 2694.7302\n",
            "Epoch 34/100\n",
            "17/17 [==============================] - 0s 8ms/step - loss: 1230.6316 - val_loss: 2770.0254\n",
            "Epoch 35/100\n",
            "17/17 [==============================] - 0s 7ms/step - loss: 1295.9088 - val_loss: 2700.2417\n",
            "Epoch 36/100\n",
            "17/17 [==============================] - 0s 7ms/step - loss: 1244.8174 - val_loss: 2710.5000\n",
            "Epoch 37/100\n",
            "17/17 [==============================] - 0s 7ms/step - loss: 1229.9677 - val_loss: 2750.2493\n",
            "Epoch 38/100\n",
            "13/17 [=====================>........] - ETA: 0s - loss: 1216.4175INFO:tensorflow:Assets written to: model_experiments/model_X_Conv1D_7_1/assets\n",
            "17/17 [==============================] - 1s 52ms/step - loss: 1203.9330 - val_loss: 2665.4570\n",
            "Epoch 39/100\n",
            "13/17 [=====================>........] - ETA: 0s - loss: 1126.9374INFO:tensorflow:Assets written to: model_experiments/model_X_Conv1D_7_1/assets\n",
            "17/17 [==============================] - 1s 54ms/step - loss: 1276.2721 - val_loss: 2630.5574\n",
            "Epoch 40/100\n",
            "17/17 [==============================] - 0s 7ms/step - loss: 1196.4371 - val_loss: 2711.2207\n",
            "Epoch 41/100\n",
            "17/17 [==============================] - 0s 7ms/step - loss: 1163.8695 - val_loss: 2697.2769\n",
            "Epoch 42/100\n",
            "17/17 [==============================] - 0s 7ms/step - loss: 1256.1703 - val_loss: 2750.3420\n",
            "Epoch 43/100\n",
            "17/17 [==============================] - 0s 7ms/step - loss: 1190.2424 - val_loss: 2749.1023\n",
            "Epoch 44/100\n",
            "17/17 [==============================] - 0s 7ms/step - loss: 1177.2823 - val_loss: 2697.0413\n",
            "Epoch 45/100\n",
            "17/17 [==============================] - 0s 7ms/step - loss: 1173.1162 - val_loss: 2684.8750\n",
            "Epoch 46/100\n",
            "17/17 [==============================] - 0s 7ms/step - loss: 1143.8954 - val_loss: 2767.2422\n",
            "Epoch 47/100\n",
            "17/17 [==============================] - 0s 7ms/step - loss: 1152.8362 - val_loss: 2793.4468\n",
            "Epoch 48/100\n",
            "17/17 [==============================] - 0s 7ms/step - loss: 1173.4894 - val_loss: 2685.0776\n",
            "Epoch 49/100\n",
            "17/17 [==============================] - 0s 8ms/step - loss: 1128.4657 - val_loss: 2772.3193\n",
            "Epoch 50/100\n",
            "17/17 [==============================] - 0s 8ms/step - loss: 1127.2167 - val_loss: 2726.6809\n",
            "Epoch 51/100\n",
            "17/17 [==============================] - 0s 7ms/step - loss: 1107.0339 - val_loss: 2790.3416\n",
            "Epoch 52/100\n",
            "17/17 [==============================] - 0s 7ms/step - loss: 1145.7722 - val_loss: 2681.7051\n",
            "Epoch 53/100\n",
            "17/17 [==============================] - 0s 7ms/step - loss: 1250.3391 - val_loss: 2685.2808\n",
            "Epoch 54/100\n",
            "17/17 [==============================] - 0s 7ms/step - loss: 1173.5762 - val_loss: 2761.1382\n",
            "Epoch 55/100\n",
            "17/17 [==============================] - 0s 7ms/step - loss: 1127.7460 - val_loss: 2724.3643\n",
            "Epoch 56/100\n",
            "17/17 [==============================] - 0s 7ms/step - loss: 1169.2073 - val_loss: 2654.9360\n",
            "Epoch 57/100\n",
            "17/17 [==============================] - 0s 7ms/step - loss: 1122.1337 - val_loss: 2756.1487\n",
            "Epoch 58/100\n",
            "17/17 [==============================] - 0s 8ms/step - loss: 1083.5165 - val_loss: 2718.8884\n",
            "Epoch 59/100\n",
            "17/17 [==============================] - 0s 8ms/step - loss: 1097.5465 - val_loss: 2805.7109\n",
            "Epoch 60/100\n",
            "17/17 [==============================] - 0s 7ms/step - loss: 1122.8462 - val_loss: 2776.4626\n",
            "Epoch 61/100\n",
            "17/17 [==============================] - 0s 7ms/step - loss: 1075.7533 - val_loss: 2780.4143\n",
            "Epoch 62/100\n",
            "17/17 [==============================] - 0s 7ms/step - loss: 1088.7135 - val_loss: 2712.8284\n",
            "Epoch 63/100\n",
            "17/17 [==============================] - 0s 7ms/step - loss: 1094.8549 - val_loss: 2707.0403\n",
            "Epoch 64/100\n",
            "17/17 [==============================] - 0s 7ms/step - loss: 1076.4846 - val_loss: 2821.1616\n",
            "Epoch 65/100\n",
            "17/17 [==============================] - 0s 7ms/step - loss: 1071.0013 - val_loss: 2736.4180\n",
            "Epoch 66/100\n",
            "17/17 [==============================] - 0s 7ms/step - loss: 1104.8575 - val_loss: 2734.0156\n",
            "Epoch 67/100\n",
            "17/17 [==============================] - 0s 8ms/step - loss: 1087.1226 - val_loss: 2700.3101\n",
            "Epoch 68/100\n",
            "17/17 [==============================] - 0s 7ms/step - loss: 1072.8685 - val_loss: 2821.8164\n",
            "Epoch 69/100\n",
            "17/17 [==============================] - 0s 7ms/step - loss: 1093.0408 - val_loss: 2768.0632\n",
            "Epoch 70/100\n",
            "17/17 [==============================] - 0s 7ms/step - loss: 1095.7695 - val_loss: 2692.8352\n",
            "Epoch 71/100\n",
            "17/17 [==============================] - 0s 7ms/step - loss: 1095.3761 - val_loss: 2802.6633\n",
            "Epoch 72/100\n",
            "17/17 [==============================] - 0s 7ms/step - loss: 1129.2754 - val_loss: 2693.2417\n",
            "Epoch 73/100\n",
            "17/17 [==============================] - 0s 7ms/step - loss: 1143.1398 - val_loss: 2735.5598\n",
            "Epoch 74/100\n",
            "17/17 [==============================] - 0s 7ms/step - loss: 1081.8403 - val_loss: 2820.0371\n",
            "Epoch 75/100\n",
            "17/17 [==============================] - 0s 8ms/step - loss: 1060.3456 - val_loss: 2780.8223\n",
            "Epoch 76/100\n",
            "17/17 [==============================] - 0s 7ms/step - loss: 1071.0243 - val_loss: 2745.6980\n",
            "Epoch 77/100\n",
            "17/17 [==============================] - 0s 8ms/step - loss: 1086.3398 - val_loss: 2670.4150\n",
            "Epoch 78/100\n",
            "17/17 [==============================] - 0s 8ms/step - loss: 1039.4192 - val_loss: 2705.9946\n",
            "Epoch 79/100\n",
            "17/17 [==============================] - 0s 7ms/step - loss: 1070.3271 - val_loss: 2733.9380\n",
            "Epoch 80/100\n",
            "17/17 [==============================] - 0s 7ms/step - loss: 1033.2466 - val_loss: 2861.1130\n",
            "Epoch 81/100\n",
            "17/17 [==============================] - 0s 7ms/step - loss: 1031.1156 - val_loss: 2699.0107\n",
            "Epoch 82/100\n",
            "17/17 [==============================] - 0s 8ms/step - loss: 1084.6514 - val_loss: 2890.9578\n",
            "Epoch 83/100\n",
            "17/17 [==============================] - 0s 7ms/step - loss: 1205.5470 - val_loss: 2960.4531\n",
            "Epoch 84/100\n",
            "17/17 [==============================] - 0s 7ms/step - loss: 1083.8491 - val_loss: 2647.9795\n",
            "Epoch 85/100\n",
            "17/17 [==============================] - 0s 7ms/step - loss: 1049.8203 - val_loss: 2802.6680\n",
            "Epoch 86/100\n",
            "17/17 [==============================] - 0s 8ms/step - loss: 1051.9894 - val_loss: 2770.8210\n",
            "Epoch 87/100\n",
            "17/17 [==============================] - 0s 7ms/step - loss: 1065.8920 - val_loss: 2738.9250\n",
            "Epoch 88/100\n",
            "17/17 [==============================] - 0s 7ms/step - loss: 1049.2302 - val_loss: 2746.2371\n",
            "Epoch 89/100\n",
            "17/17 [==============================] - 0s 7ms/step - loss: 1075.8179 - val_loss: 2732.6511\n",
            "Epoch 90/100\n",
            "17/17 [==============================] - 0s 9ms/step - loss: 1042.5162 - val_loss: 2843.9807\n",
            "Epoch 91/100\n",
            "17/17 [==============================] - 0s 7ms/step - loss: 1052.7144 - val_loss: 2791.7991\n",
            "Epoch 92/100\n",
            "17/17 [==============================] - 0s 7ms/step - loss: 1035.7899 - val_loss: 2809.3391\n",
            "Epoch 93/100\n",
            "17/17 [==============================] - 0s 7ms/step - loss: 1069.4645 - val_loss: 2734.0896\n",
            "Epoch 94/100\n",
            "17/17 [==============================] - 0s 8ms/step - loss: 1104.6375 - val_loss: 2785.7571\n",
            "Epoch 95/100\n",
            "17/17 [==============================] - 0s 8ms/step - loss: 1066.6001 - val_loss: 2658.6843\n",
            "Epoch 96/100\n",
            "17/17 [==============================] - 0s 7ms/step - loss: 1020.8214 - val_loss: 2845.8181\n",
            "Epoch 97/100\n",
            "17/17 [==============================] - 0s 7ms/step - loss: 1010.2711 - val_loss: 2720.2292\n",
            "Epoch 98/100\n",
            "17/17 [==============================] - 0s 8ms/step - loss: 1022.8771 - val_loss: 2729.0039\n",
            "Epoch 99/100\n",
            "17/17 [==============================] - 0s 8ms/step - loss: 1044.8654 - val_loss: 2759.4961\n",
            "Epoch 100/100\n",
            "17/17 [==============================] - 0s 7ms/step - loss: 1016.5236 - val_loss: 2761.2610\n"
          ]
        },
        {
          "output_type": "execute_result",
          "data": {
            "text/plain": [
              "<keras.callbacks.History at 0x7f1dfef6e050>"
            ]
          },
          "metadata": {},
          "execution_count": 38
        }
      ]
    },
    {
      "cell_type": "code",
      "source": [
        "model_X = tf.keras.models.load_model('model_experiments/model_X_Conv1D_7_1')\n",
        "model_X.evaluate(test_windows,test_labels)"
      ],
      "metadata": {
        "colab": {
          "base_uri": "https://localhost:8080/"
        },
        "id": "SZ_Oc0DdQU8V",
        "outputId": "638eba4c-1507-4140-a04c-4f081b3d2917"
      },
      "execution_count": null,
      "outputs": [
        {
          "output_type": "stream",
          "name": "stdout",
          "text": [
            "5/5 [==============================] - 0s 4ms/step - loss: 2630.5574\n"
          ]
        },
        {
          "output_type": "execute_result",
          "data": {
            "text/plain": [
              "2630.557373046875"
            ]
          },
          "metadata": {},
          "execution_count": 39
        }
      ]
    },
    {
      "cell_type": "markdown",
      "source": [
        "## MODEL 3 : LSTM (window_size = 7, horizon = 7)"
      ],
      "metadata": {
        "id": "D4EsMDq_U5JX"
      }
    },
    {
      "cell_type": "code",
      "source": [
        "HORIZON = 7\n",
        "WINDOW_SIZE = 7 "
      ],
      "metadata": {
        "id": "Pv03uwJ_VXHi"
      },
      "execution_count": null,
      "outputs": []
    },
    {
      "cell_type": "code",
      "source": [
        "full_windows,full_labels = make_windows(cases, window_size = WINDOW_SIZE, horizon = HORIZON)\n",
        "len(full_windows), len(full_labels)"
      ],
      "metadata": {
        "colab": {
          "base_uri": "https://localhost:8080/"
        },
        "id": "Q6faHu4LVc8D",
        "outputId": "a7e8b709-410c-4b7e-b9b6-8f484434d74f"
      },
      "execution_count": null,
      "outputs": [
        {
          "output_type": "execute_result",
          "data": {
            "text/plain": [
              "(659, 659)"
            ]
          },
          "metadata": {},
          "execution_count": 41
        }
      ]
    },
    {
      "cell_type": "code",
      "source": [
        "train_windows, test_windows, train_labels, test_labels = make_train_test_split(full_windows, full_labels)\n",
        "len(train_windows), len(test_windows), len(train_labels), len(test_labels)"
      ],
      "metadata": {
        "colab": {
          "base_uri": "https://localhost:8080/"
        },
        "id": "F12wgbe9Vh1k",
        "outputId": "b8ed04ac-9413-471c-d360-bafd15cdff6f"
      },
      "execution_count": null,
      "outputs": [
        {
          "output_type": "execute_result",
          "data": {
            "text/plain": [
              "(527, 132, 527, 132)"
            ]
          },
          "metadata": {},
          "execution_count": 42
        }
      ]
    },
    {
      "cell_type": "code",
      "source": [
        "tf.random.set_seed(42)\n",
        "\n",
        "inputs = layers.Input(shape = (WINDOW_SIZE))\n",
        "x = layers.Lambda(lambda x: tf.expand_dims(x,axis = 1))(inputs)\n",
        "# x = layers.LSTM(128, activation = 'relu', return_sequences = True)(x)\n",
        "x = layers.LSTM(128, activation = 'relu')(x)\n",
        "# x = layers.Dense(128,activation = 'relu')(x)\n",
        "outputs = layers.Dense(HORIZON)(x)\n",
        "model_3 = tf.keras.Model(inputs = inputs, outputs = outputs, name = 'model_3_LSTM')\n",
        "\n",
        "model_3.compile(loss = 'mae',\n",
        "                optimizer = tf.keras.optimizers.Adam())\n",
        "\n",
        "model_3.fit(train_windows,\n",
        "            train_labels,\n",
        "            epochs = 100,\n",
        "            batch_size = 32,\n",
        "            validation_data = (test_windows, test_labels),\n",
        "            callbacks = [create_model_checkpoint(model_name = model_3.name)])"
      ],
      "metadata": {
        "colab": {
          "base_uri": "https://localhost:8080/"
        },
        "id": "5JVK9p9qVklu",
        "outputId": "d9dcdaca-a8a8-45b9-86a3-f7daddf3f8f2"
      },
      "execution_count": null,
      "outputs": [
        {
          "output_type": "stream",
          "name": "stdout",
          "text": [
            "WARNING:tensorflow:Layer lstm will not use cuDNN kernels since it doesn't meet the criteria. It will use a generic GPU kernel as fallback when running on GPU.\n",
            "Epoch 1/100\n",
            "15/17 [=========================>....] - ETA: 0s - loss: 9290.5684INFO:tensorflow:Assets written to: model_experiments/model_3_LSTM/assets\n"
          ]
        },
        {
          "output_type": "stream",
          "name": "stderr",
          "text": [
            "WARNING:absl:<keras.layers.recurrent.LSTMCell object at 0x7f1dff4c2ed0> has the same name 'LSTMCell' as a built-in Keras object. Consider renaming <class 'keras.layers.recurrent.LSTMCell'> to avoid naming conflicts when loading with `tf.keras.models.load_model`. If renaming is not possible, pass the object in the `custom_objects` parameter of the load function.\n"
          ]
        },
        {
          "output_type": "stream",
          "name": "stdout",
          "text": [
            "\b\b\b\b\b\b\b\b\b\b\b\b\b\b\b\b\b\b\b\b\b\b\b\b\b\b\b\b\b\b\b\b\b\b\b\b\b\b\b\b\b\b\b\b\b\b\b\b\b\b\b\b\b\b\b\b\b\b\b\b\b\b\b\b\b\b\r17/17 [==============================] - 5s 189ms/step - loss: 9166.8994 - val_loss: 9248.5371\n",
            "Epoch 2/100\n",
            "14/17 [=======================>......] - ETA: 0s - loss: 7224.5591INFO:tensorflow:Assets written to: model_experiments/model_3_LSTM/assets\n"
          ]
        },
        {
          "output_type": "stream",
          "name": "stderr",
          "text": [
            "INFO:tensorflow:Assets written to: model_experiments/model_3_LSTM/assets\n",
            "WARNING:absl:<keras.layers.recurrent.LSTMCell object at 0x7f1dff4c2ed0> has the same name 'LSTMCell' as a built-in Keras object. Consider renaming <class 'keras.layers.recurrent.LSTMCell'> to avoid naming conflicts when loading with `tf.keras.models.load_model`. If renaming is not possible, pass the object in the `custom_objects` parameter of the load function.\n"
          ]
        },
        {
          "output_type": "stream",
          "name": "stdout",
          "text": [
            "\b\b\b\b\b\b\b\b\b\b\b\b\b\b\b\b\b\b\b\b\b\b\b\b\b\b\b\b\b\b\b\b\b\b\b\b\b\b\b\b\b\b\b\b\b\b\b\b\b\b\b\b\b\b\b\b\b\b\b\b\b\b\b\b\b\b\r17/17 [==============================] - 2s 152ms/step - loss: 6928.4077 - val_loss: 6759.2397\n",
            "Epoch 3/100\n",
            "13/17 [=====================>........] - ETA: 0s - loss: 4458.7715INFO:tensorflow:Assets written to: model_experiments/model_3_LSTM/assets\n"
          ]
        },
        {
          "output_type": "stream",
          "name": "stderr",
          "text": [
            "INFO:tensorflow:Assets written to: model_experiments/model_3_LSTM/assets\n",
            "WARNING:absl:<keras.layers.recurrent.LSTMCell object at 0x7f1dff4c2ed0> has the same name 'LSTMCell' as a built-in Keras object. Consider renaming <class 'keras.layers.recurrent.LSTMCell'> to avoid naming conflicts when loading with `tf.keras.models.load_model`. If renaming is not possible, pass the object in the `custom_objects` parameter of the load function.\n"
          ]
        },
        {
          "output_type": "stream",
          "name": "stdout",
          "text": [
            "\b\b\b\b\b\b\b\b\b\b\b\b\b\b\b\b\b\b\b\b\b\b\b\b\b\b\b\b\b\b\b\b\b\b\b\b\b\b\b\b\b\b\b\b\b\b\b\b\b\b\b\b\b\b\b\b\b\b\b\b\b\b\b\b\b\b\r17/17 [==============================] - 2s 153ms/step - loss: 4101.1416 - val_loss: 5783.4697\n",
            "Epoch 4/100\n",
            "15/17 [=========================>....] - ETA: 0s - loss: 2429.9758INFO:tensorflow:Assets written to: model_experiments/model_3_LSTM/assets\n"
          ]
        },
        {
          "output_type": "stream",
          "name": "stderr",
          "text": [
            "INFO:tensorflow:Assets written to: model_experiments/model_3_LSTM/assets\n",
            "WARNING:absl:<keras.layers.recurrent.LSTMCell object at 0x7f1dff4c2ed0> has the same name 'LSTMCell' as a built-in Keras object. Consider renaming <class 'keras.layers.recurrent.LSTMCell'> to avoid naming conflicts when loading with `tf.keras.models.load_model`. If renaming is not possible, pass the object in the `custom_objects` parameter of the load function.\n"
          ]
        },
        {
          "output_type": "stream",
          "name": "stdout",
          "text": [
            "\b\b\b\b\b\b\b\b\b\b\b\b\b\b\b\b\b\b\b\b\b\b\b\b\b\b\b\b\b\b\b\b\b\b\b\b\b\b\b\b\b\b\b\b\b\b\b\b\b\b\b\b\b\b\b\b\b\b\b\b\b\b\b\b\b\b\r17/17 [==============================] - 3s 164ms/step - loss: 2414.1262 - val_loss: 5540.0405\n",
            "Epoch 5/100\n",
            "14/17 [=======================>......] - ETA: 0s - loss: 2234.1626INFO:tensorflow:Assets written to: model_experiments/model_3_LSTM/assets\n"
          ]
        },
        {
          "output_type": "stream",
          "name": "stderr",
          "text": [
            "INFO:tensorflow:Assets written to: model_experiments/model_3_LSTM/assets\n",
            "WARNING:absl:<keras.layers.recurrent.LSTMCell object at 0x7f1dff4c2ed0> has the same name 'LSTMCell' as a built-in Keras object. Consider renaming <class 'keras.layers.recurrent.LSTMCell'> to avoid naming conflicts when loading with `tf.keras.models.load_model`. If renaming is not possible, pass the object in the `custom_objects` parameter of the load function.\n"
          ]
        },
        {
          "output_type": "stream",
          "name": "stdout",
          "text": [
            "\b\b\b\b\b\b\b\b\b\b\b\b\b\b\b\b\b\b\b\b\b\b\b\b\b\b\b\b\b\b\b\b\b\b\b\b\b\b\b\b\b\b\b\b\b\b\b\b\b\b\b\b\b\b\b\b\b\b\b\b\b\b\b\b\b\b\r17/17 [==============================] - 2s 150ms/step - loss: 2155.6558 - val_loss: 5280.9385\n",
            "Epoch 6/100\n",
            "14/17 [=======================>......] - ETA: 0s - loss: 2085.3823INFO:tensorflow:Assets written to: model_experiments/model_3_LSTM/assets\n"
          ]
        },
        {
          "output_type": "stream",
          "name": "stderr",
          "text": [
            "INFO:tensorflow:Assets written to: model_experiments/model_3_LSTM/assets\n",
            "WARNING:absl:<keras.layers.recurrent.LSTMCell object at 0x7f1dff4c2ed0> has the same name 'LSTMCell' as a built-in Keras object. Consider renaming <class 'keras.layers.recurrent.LSTMCell'> to avoid naming conflicts when loading with `tf.keras.models.load_model`. If renaming is not possible, pass the object in the `custom_objects` parameter of the load function.\n"
          ]
        },
        {
          "output_type": "stream",
          "name": "stdout",
          "text": [
            "\b\b\b\b\b\b\b\b\b\b\b\b\b\b\b\b\b\b\b\b\b\b\b\b\b\b\b\b\b\b\b\b\b\b\b\b\b\b\b\b\b\b\b\b\b\b\b\b\b\b\b\b\b\b\b\b\b\b\b\b\b\b\b\b\b\b\r17/17 [==============================] - 2s 146ms/step - loss: 2070.3923 - val_loss: 5123.6572\n",
            "Epoch 7/100\n",
            "14/17 [=======================>......] - ETA: 0s - loss: 2045.5677INFO:tensorflow:Assets written to: model_experiments/model_3_LSTM/assets\n"
          ]
        },
        {
          "output_type": "stream",
          "name": "stderr",
          "text": [
            "INFO:tensorflow:Assets written to: model_experiments/model_3_LSTM/assets\n",
            "WARNING:absl:<keras.layers.recurrent.LSTMCell object at 0x7f1dff4c2ed0> has the same name 'LSTMCell' as a built-in Keras object. Consider renaming <class 'keras.layers.recurrent.LSTMCell'> to avoid naming conflicts when loading with `tf.keras.models.load_model`. If renaming is not possible, pass the object in the `custom_objects` parameter of the load function.\n"
          ]
        },
        {
          "output_type": "stream",
          "name": "stdout",
          "text": [
            "\b\b\b\b\b\b\b\b\b\b\b\b\b\b\b\b\b\b\b\b\b\b\b\b\b\b\b\b\b\b\b\b\b\b\b\b\b\b\b\b\b\b\b\b\b\b\b\b\b\b\b\b\b\b\b\b\b\b\b\b\b\b\b\b\b\b\r17/17 [==============================] - 2s 149ms/step - loss: 2039.6776 - val_loss: 5054.3428\n",
            "Epoch 8/100\n",
            "13/17 [=====================>........] - ETA: 0s - loss: 2024.2585INFO:tensorflow:Assets written to: model_experiments/model_3_LSTM/assets\n"
          ]
        },
        {
          "output_type": "stream",
          "name": "stderr",
          "text": [
            "INFO:tensorflow:Assets written to: model_experiments/model_3_LSTM/assets\n",
            "WARNING:absl:<keras.layers.recurrent.LSTMCell object at 0x7f1dff4c2ed0> has the same name 'LSTMCell' as a built-in Keras object. Consider renaming <class 'keras.layers.recurrent.LSTMCell'> to avoid naming conflicts when loading with `tf.keras.models.load_model`. If renaming is not possible, pass the object in the `custom_objects` parameter of the load function.\n"
          ]
        },
        {
          "output_type": "stream",
          "name": "stdout",
          "text": [
            "\b\b\b\b\b\b\b\b\b\b\b\b\b\b\b\b\b\b\b\b\b\b\b\b\b\b\b\b\b\b\b\b\b\b\b\b\b\b\b\b\b\b\b\b\b\b\b\b\b\b\b\b\b\b\b\b\b\b\b\b\b\b\b\b\b\b\r17/17 [==============================] - 3s 170ms/step - loss: 1989.9995 - val_loss: 4908.4609\n",
            "Epoch 9/100\n",
            "13/17 [=====================>........] - ETA: 0s - loss: 2055.4036INFO:tensorflow:Assets written to: model_experiments/model_3_LSTM/assets\n"
          ]
        },
        {
          "output_type": "stream",
          "name": "stderr",
          "text": [
            "INFO:tensorflow:Assets written to: model_experiments/model_3_LSTM/assets\n",
            "WARNING:absl:<keras.layers.recurrent.LSTMCell object at 0x7f1dff4c2ed0> has the same name 'LSTMCell' as a built-in Keras object. Consider renaming <class 'keras.layers.recurrent.LSTMCell'> to avoid naming conflicts when loading with `tf.keras.models.load_model`. If renaming is not possible, pass the object in the `custom_objects` parameter of the load function.\n"
          ]
        },
        {
          "output_type": "stream",
          "name": "stdout",
          "text": [
            "\b\b\b\b\b\b\b\b\b\b\b\b\b\b\b\b\b\b\b\b\b\b\b\b\b\b\b\b\b\b\b\b\b\b\b\b\b\b\b\b\b\b\b\b\b\b\b\b\b\b\b\b\b\b\b\b\b\b\b\b\b\b\b\b\b\b\r17/17 [==============================] - 2s 149ms/step - loss: 1997.4896 - val_loss: 4772.1709\n",
            "Epoch 10/100\n",
            "17/17 [==============================] - 0s 12ms/step - loss: 2031.7799 - val_loss: 4952.4526\n",
            "Epoch 11/100\n",
            "17/17 [==============================] - 0s 11ms/step - loss: 2029.5486 - val_loss: 4915.0513\n",
            "Epoch 12/100\n",
            "17/17 [==============================] - 0s 11ms/step - loss: 1993.3063 - val_loss: 4846.8989\n",
            "Epoch 13/100\n",
            "12/17 [====================>.........] - ETA: 0s - loss: 1989.7745INFO:tensorflow:Assets written to: model_experiments/model_3_LSTM/assets\n"
          ]
        },
        {
          "output_type": "stream",
          "name": "stderr",
          "text": [
            "INFO:tensorflow:Assets written to: model_experiments/model_3_LSTM/assets\n",
            "WARNING:absl:<keras.layers.recurrent.LSTMCell object at 0x7f1dff4c2ed0> has the same name 'LSTMCell' as a built-in Keras object. Consider renaming <class 'keras.layers.recurrent.LSTMCell'> to avoid naming conflicts when loading with `tf.keras.models.load_model`. If renaming is not possible, pass the object in the `custom_objects` parameter of the load function.\n"
          ]
        },
        {
          "output_type": "stream",
          "name": "stdout",
          "text": [
            "\b\b\b\b\b\b\b\b\b\b\b\b\b\b\b\b\b\b\b\b\b\b\b\b\b\b\b\b\b\b\b\b\b\b\b\b\b\b\b\b\b\b\b\b\b\b\b\b\b\b\b\b\b\b\b\b\b\b\b\b\b\b\b\b\b\b\r17/17 [==============================] - 2s 149ms/step - loss: 1984.8547 - val_loss: 4721.5366\n",
            "Epoch 14/100\n",
            "13/17 [=====================>........] - ETA: 0s - loss: 1954.3260INFO:tensorflow:Assets written to: model_experiments/model_3_LSTM/assets\n"
          ]
        },
        {
          "output_type": "stream",
          "name": "stderr",
          "text": [
            "INFO:tensorflow:Assets written to: model_experiments/model_3_LSTM/assets\n",
            "WARNING:absl:<keras.layers.recurrent.LSTMCell object at 0x7f1dff4c2ed0> has the same name 'LSTMCell' as a built-in Keras object. Consider renaming <class 'keras.layers.recurrent.LSTMCell'> to avoid naming conflicts when loading with `tf.keras.models.load_model`. If renaming is not possible, pass the object in the `custom_objects` parameter of the load function.\n"
          ]
        },
        {
          "output_type": "stream",
          "name": "stdout",
          "text": [
            "\b\b\b\b\b\b\b\b\b\b\b\b\b\b\b\b\b\b\b\b\b\b\b\b\b\b\b\b\b\b\b\b\b\b\b\b\b\b\b\b\b\b\b\b\b\b\b\b\b\b\b\b\b\b\b\b\b\b\b\b\b\b\b\b\b\b\r17/17 [==============================] - 2s 148ms/step - loss: 1946.0990 - val_loss: 4628.0415\n",
            "Epoch 15/100\n",
            "14/17 [=======================>......] - ETA: 0s - loss: 1833.0253INFO:tensorflow:Assets written to: model_experiments/model_3_LSTM/assets\n"
          ]
        },
        {
          "output_type": "stream",
          "name": "stderr",
          "text": [
            "INFO:tensorflow:Assets written to: model_experiments/model_3_LSTM/assets\n",
            "WARNING:absl:<keras.layers.recurrent.LSTMCell object at 0x7f1dff4c2ed0> has the same name 'LSTMCell' as a built-in Keras object. Consider renaming <class 'keras.layers.recurrent.LSTMCell'> to avoid naming conflicts when loading with `tf.keras.models.load_model`. If renaming is not possible, pass the object in the `custom_objects` parameter of the load function.\n"
          ]
        },
        {
          "output_type": "stream",
          "name": "stdout",
          "text": [
            "\b\b\b\b\b\b\b\b\b\b\b\b\b\b\b\b\b\b\b\b\b\b\b\b\b\b\b\b\b\b\b\b\b\b\b\b\b\b\b\b\b\b\b\b\b\b\b\b\b\b\b\b\b\b\b\b\b\b\b\b\b\b\b\b\b\b\r17/17 [==============================] - 3s 176ms/step - loss: 1905.3998 - val_loss: 4557.9902\n",
            "Epoch 16/100\n",
            "17/17 [==============================] - 0s 11ms/step - loss: 1928.3805 - val_loss: 4775.6021\n",
            "Epoch 17/100\n",
            "17/17 [==============================] - 0s 12ms/step - loss: 1933.8068 - val_loss: 4746.1250\n",
            "Epoch 18/100\n",
            "17/17 [==============================] - 0s 11ms/step - loss: 1922.8171 - val_loss: 4663.5645\n",
            "Epoch 19/100\n",
            "17/17 [==============================] - 0s 11ms/step - loss: 1903.4971 - val_loss: 4601.8101\n",
            "Epoch 20/100\n",
            "15/17 [=========================>....] - ETA: 0s - loss: 1908.0768INFO:tensorflow:Assets written to: model_experiments/model_3_LSTM/assets\n"
          ]
        },
        {
          "output_type": "stream",
          "name": "stderr",
          "text": [
            "INFO:tensorflow:Assets written to: model_experiments/model_3_LSTM/assets\n",
            "WARNING:absl:<keras.layers.recurrent.LSTMCell object at 0x7f1dff4c2ed0> has the same name 'LSTMCell' as a built-in Keras object. Consider renaming <class 'keras.layers.recurrent.LSTMCell'> to avoid naming conflicts when loading with `tf.keras.models.load_model`. If renaming is not possible, pass the object in the `custom_objects` parameter of the load function.\n"
          ]
        },
        {
          "output_type": "stream",
          "name": "stdout",
          "text": [
            "\b\b\b\b\b\b\b\b\b\b\b\b\b\b\b\b\b\b\b\b\b\b\b\b\b\b\b\b\b\b\b\b\b\b\b\b\b\b\b\b\b\b\b\b\b\b\b\b\b\b\b\b\b\b\b\b\b\b\b\b\b\b\b\b\b\b\r17/17 [==============================] - 2s 146ms/step - loss: 1895.9015 - val_loss: 4523.0361\n",
            "Epoch 21/100\n",
            "17/17 [==============================] - 0s 10ms/step - loss: 1883.5483 - val_loss: 4527.7578\n",
            "Epoch 22/100\n",
            "15/17 [=========================>....] - ETA: 0s - loss: 1841.9120INFO:tensorflow:Assets written to: model_experiments/model_3_LSTM/assets\n"
          ]
        },
        {
          "output_type": "stream",
          "name": "stderr",
          "text": [
            "INFO:tensorflow:Assets written to: model_experiments/model_3_LSTM/assets\n",
            "WARNING:absl:<keras.layers.recurrent.LSTMCell object at 0x7f1dff4c2ed0> has the same name 'LSTMCell' as a built-in Keras object. Consider renaming <class 'keras.layers.recurrent.LSTMCell'> to avoid naming conflicts when loading with `tf.keras.models.load_model`. If renaming is not possible, pass the object in the `custom_objects` parameter of the load function.\n"
          ]
        },
        {
          "output_type": "stream",
          "name": "stdout",
          "text": [
            "\b\b\b\b\b\b\b\b\b\b\b\b\b\b\b\b\b\b\b\b\b\b\b\b\b\b\b\b\b\b\b\b\b\b\b\b\b\b\b\b\b\b\b\b\b\b\b\b\b\b\b\b\b\b\b\b\b\b\b\b\b\b\b\b\b\b\r17/17 [==============================] - 2s 143ms/step - loss: 1867.9215 - val_loss: 4396.6880\n",
            "Epoch 23/100\n",
            "17/17 [==============================] - 0s 10ms/step - loss: 1858.3438 - val_loss: 4470.1963\n",
            "Epoch 24/100\n",
            "14/17 [=======================>......] - ETA: 0s - loss: 1789.2992INFO:tensorflow:Assets written to: model_experiments/model_3_LSTM/assets\n"
          ]
        },
        {
          "output_type": "stream",
          "name": "stderr",
          "text": [
            "INFO:tensorflow:Assets written to: model_experiments/model_3_LSTM/assets\n",
            "WARNING:absl:<keras.layers.recurrent.LSTMCell object at 0x7f1dff4c2ed0> has the same name 'LSTMCell' as a built-in Keras object. Consider renaming <class 'keras.layers.recurrent.LSTMCell'> to avoid naming conflicts when loading with `tf.keras.models.load_model`. If renaming is not possible, pass the object in the `custom_objects` parameter of the load function.\n"
          ]
        },
        {
          "output_type": "stream",
          "name": "stdout",
          "text": [
            "\b\b\b\b\b\b\b\b\b\b\b\b\b\b\b\b\b\b\b\b\b\b\b\b\b\b\b\b\b\b\b\b\b\b\b\b\b\b\b\b\b\b\b\b\b\b\b\b\b\b\b\b\b\b\b\b\b\b\b\b\b\b\b\b\b\b\r17/17 [==============================] - 3s 168ms/step - loss: 1851.3463 - val_loss: 4363.0708\n",
            "Epoch 25/100\n",
            "13/17 [=====================>........] - ETA: 0s - loss: 1862.5182INFO:tensorflow:Assets written to: model_experiments/model_3_LSTM/assets\n"
          ]
        },
        {
          "output_type": "stream",
          "name": "stderr",
          "text": [
            "INFO:tensorflow:Assets written to: model_experiments/model_3_LSTM/assets\n",
            "WARNING:absl:<keras.layers.recurrent.LSTMCell object at 0x7f1dff4c2ed0> has the same name 'LSTMCell' as a built-in Keras object. Consider renaming <class 'keras.layers.recurrent.LSTMCell'> to avoid naming conflicts when loading with `tf.keras.models.load_model`. If renaming is not possible, pass the object in the `custom_objects` parameter of the load function.\n"
          ]
        },
        {
          "output_type": "stream",
          "name": "stdout",
          "text": [
            "\b\b\b\b\b\b\b\b\b\b\b\b\b\b\b\b\b\b\b\b\b\b\b\b\b\b\b\b\b\b\b\b\b\b\b\b\b\b\b\b\b\b\b\b\b\b\b\b\b\b\b\b\b\b\b\b\b\b\b\b\b\b\b\b\b\b\r17/17 [==============================] - 2s 153ms/step - loss: 1832.0664 - val_loss: 4331.5806\n",
            "Epoch 26/100\n",
            "14/17 [=======================>......] - ETA: 0s - loss: 1813.5471INFO:tensorflow:Assets written to: model_experiments/model_3_LSTM/assets\n"
          ]
        },
        {
          "output_type": "stream",
          "name": "stderr",
          "text": [
            "INFO:tensorflow:Assets written to: model_experiments/model_3_LSTM/assets\n",
            "WARNING:absl:<keras.layers.recurrent.LSTMCell object at 0x7f1dff4c2ed0> has the same name 'LSTMCell' as a built-in Keras object. Consider renaming <class 'keras.layers.recurrent.LSTMCell'> to avoid naming conflicts when loading with `tf.keras.models.load_model`. If renaming is not possible, pass the object in the `custom_objects` parameter of the load function.\n"
          ]
        },
        {
          "output_type": "stream",
          "name": "stdout",
          "text": [
            "\b\b\b\b\b\b\b\b\b\b\b\b\b\b\b\b\b\b\b\b\b\b\b\b\b\b\b\b\b\b\b\b\b\b\b\b\b\b\b\b\b\b\b\b\b\b\b\b\b\b\b\b\b\b\b\b\b\b\b\b\b\b\b\b\b\b\r17/17 [==============================] - 2s 148ms/step - loss: 1832.3064 - val_loss: 4288.4790\n",
            "Epoch 27/100\n",
            "13/17 [=====================>........] - ETA: 0s - loss: 1741.4943INFO:tensorflow:Assets written to: model_experiments/model_3_LSTM/assets\n"
          ]
        },
        {
          "output_type": "stream",
          "name": "stderr",
          "text": [
            "INFO:tensorflow:Assets written to: model_experiments/model_3_LSTM/assets\n",
            "WARNING:absl:<keras.layers.recurrent.LSTMCell object at 0x7f1dff4c2ed0> has the same name 'LSTMCell' as a built-in Keras object. Consider renaming <class 'keras.layers.recurrent.LSTMCell'> to avoid naming conflicts when loading with `tf.keras.models.load_model`. If renaming is not possible, pass the object in the `custom_objects` parameter of the load function.\n"
          ]
        },
        {
          "output_type": "stream",
          "name": "stdout",
          "text": [
            "\b\b\b\b\b\b\b\b\b\b\b\b\b\b\b\b\b\b\b\b\b\b\b\b\b\b\b\b\b\b\b\b\b\b\b\b\b\b\b\b\b\b\b\b\b\b\b\b\b\b\b\b\b\b\b\b\b\b\b\b\b\b\b\b\b\b\r17/17 [==============================] - 3s 171ms/step - loss: 1810.6099 - val_loss: 4228.3091\n",
            "Epoch 28/100\n",
            "13/17 [=====================>........] - ETA: 0s - loss: 1759.5278INFO:tensorflow:Assets written to: model_experiments/model_3_LSTM/assets\n"
          ]
        },
        {
          "output_type": "stream",
          "name": "stderr",
          "text": [
            "INFO:tensorflow:Assets written to: model_experiments/model_3_LSTM/assets\n",
            "WARNING:absl:<keras.layers.recurrent.LSTMCell object at 0x7f1dff4c2ed0> has the same name 'LSTMCell' as a built-in Keras object. Consider renaming <class 'keras.layers.recurrent.LSTMCell'> to avoid naming conflicts when loading with `tf.keras.models.load_model`. If renaming is not possible, pass the object in the `custom_objects` parameter of the load function.\n"
          ]
        },
        {
          "output_type": "stream",
          "name": "stdout",
          "text": [
            "\b\b\b\b\b\b\b\b\b\b\b\b\b\b\b\b\b\b\b\b\b\b\b\b\b\b\b\b\b\b\b\b\b\b\b\b\b\b\b\b\b\b\b\b\b\b\b\b\b\b\b\b\b\b\b\b\b\b\b\b\b\b\b\b\b\b\r17/17 [==============================] - 2s 151ms/step - loss: 1809.8212 - val_loss: 4222.3013\n",
            "Epoch 29/100\n",
            "14/17 [=======================>......] - ETA: 0s - loss: 1753.4144INFO:tensorflow:Assets written to: model_experiments/model_3_LSTM/assets\n"
          ]
        },
        {
          "output_type": "stream",
          "name": "stderr",
          "text": [
            "INFO:tensorflow:Assets written to: model_experiments/model_3_LSTM/assets\n",
            "WARNING:absl:<keras.layers.recurrent.LSTMCell object at 0x7f1dff4c2ed0> has the same name 'LSTMCell' as a built-in Keras object. Consider renaming <class 'keras.layers.recurrent.LSTMCell'> to avoid naming conflicts when loading with `tf.keras.models.load_model`. If renaming is not possible, pass the object in the `custom_objects` parameter of the load function.\n"
          ]
        },
        {
          "output_type": "stream",
          "name": "stdout",
          "text": [
            "\b\b\b\b\b\b\b\b\b\b\b\b\b\b\b\b\b\b\b\b\b\b\b\b\b\b\b\b\b\b\b\b\b\b\b\b\b\b\b\b\b\b\b\b\b\b\b\b\b\b\b\b\b\b\b\b\b\b\b\b\b\b\b\b\b\b\r17/17 [==============================] - 2s 155ms/step - loss: 1792.1235 - val_loss: 4172.3364\n",
            "Epoch 30/100\n",
            "17/17 [==============================] - 0s 11ms/step - loss: 1793.2998 - val_loss: 4179.8281\n",
            "Epoch 31/100\n",
            "17/17 [==============================] - ETA: 0s - loss: 1783.6826INFO:tensorflow:Assets written to: model_experiments/model_3_LSTM/assets\n"
          ]
        },
        {
          "output_type": "stream",
          "name": "stderr",
          "text": [
            "INFO:tensorflow:Assets written to: model_experiments/model_3_LSTM/assets\n",
            "WARNING:absl:<keras.layers.recurrent.LSTMCell object at 0x7f1dff4c2ed0> has the same name 'LSTMCell' as a built-in Keras object. Consider renaming <class 'keras.layers.recurrent.LSTMCell'> to avoid naming conflicts when loading with `tf.keras.models.load_model`. If renaming is not possible, pass the object in the `custom_objects` parameter of the load function.\n"
          ]
        },
        {
          "output_type": "stream",
          "name": "stdout",
          "text": [
            "\b\b\b\b\b\b\b\b\b\b\b\b\b\b\b\b\b\b\b\b\b\b\b\b\b\b\b\b\b\b\b\b\b\b\b\b\b\b\b\b\b\b\b\b\b\b\b\b\b\b\b\b\b\b\b\b\b\b\b\b\b\b\b\b\b\b\r17/17 [==============================] - 2s 150ms/step - loss: 1783.6826 - val_loss: 4133.5439\n",
            "Epoch 32/100\n",
            "14/17 [=======================>......] - ETA: 0s - loss: 1804.3174INFO:tensorflow:Assets written to: model_experiments/model_3_LSTM/assets\n"
          ]
        },
        {
          "output_type": "stream",
          "name": "stderr",
          "text": [
            "INFO:tensorflow:Assets written to: model_experiments/model_3_LSTM/assets\n",
            "WARNING:absl:<keras.layers.recurrent.LSTMCell object at 0x7f1dff4c2ed0> has the same name 'LSTMCell' as a built-in Keras object. Consider renaming <class 'keras.layers.recurrent.LSTMCell'> to avoid naming conflicts when loading with `tf.keras.models.load_model`. If renaming is not possible, pass the object in the `custom_objects` parameter of the load function.\n"
          ]
        },
        {
          "output_type": "stream",
          "name": "stdout",
          "text": [
            "\b\b\b\b\b\b\b\b\b\b\b\b\b\b\b\b\b\b\b\b\b\b\b\b\b\b\b\b\b\b\b\b\b\b\b\b\b\b\b\b\b\b\b\b\b\b\b\b\b\b\b\b\b\b\b\b\b\b\b\b\b\b\b\b\b\b\r17/17 [==============================] - 3s 169ms/step - loss: 1777.0728 - val_loss: 4079.3357\n",
            "Epoch 33/100\n",
            "17/17 [==============================] - 0s 13ms/step - loss: 1773.0574 - val_loss: 4101.0166\n",
            "Epoch 34/100\n",
            "13/17 [=====================>........] - ETA: 0s - loss: 1801.6245INFO:tensorflow:Assets written to: model_experiments/model_3_LSTM/assets\n"
          ]
        },
        {
          "output_type": "stream",
          "name": "stderr",
          "text": [
            "INFO:tensorflow:Assets written to: model_experiments/model_3_LSTM/assets\n",
            "WARNING:absl:<keras.layers.recurrent.LSTMCell object at 0x7f1dff4c2ed0> has the same name 'LSTMCell' as a built-in Keras object. Consider renaming <class 'keras.layers.recurrent.LSTMCell'> to avoid naming conflicts when loading with `tf.keras.models.load_model`. If renaming is not possible, pass the object in the `custom_objects` parameter of the load function.\n"
          ]
        },
        {
          "output_type": "stream",
          "name": "stdout",
          "text": [
            "\b\b\b\b\b\b\b\b\b\b\b\b\b\b\b\b\b\b\b\b\b\b\b\b\b\b\b\b\b\b\b\b\b\b\b\b\b\b\b\b\b\b\b\b\b\b\b\b\b\b\b\b\b\b\b\b\b\b\b\b\b\b\b\b\b\b\r17/17 [==============================] - 2s 155ms/step - loss: 1765.4825 - val_loss: 4015.9546\n",
            "Epoch 35/100\n",
            "17/17 [==============================] - 0s 11ms/step - loss: 1764.5065 - val_loss: 4017.3477\n",
            "Epoch 36/100\n",
            "13/17 [=====================>........] - ETA: 0s - loss: 1798.2246INFO:tensorflow:Assets written to: model_experiments/model_3_LSTM/assets\n"
          ]
        },
        {
          "output_type": "stream",
          "name": "stderr",
          "text": [
            "INFO:tensorflow:Assets written to: model_experiments/model_3_LSTM/assets\n",
            "WARNING:absl:<keras.layers.recurrent.LSTMCell object at 0x7f1dff4c2ed0> has the same name 'LSTMCell' as a built-in Keras object. Consider renaming <class 'keras.layers.recurrent.LSTMCell'> to avoid naming conflicts when loading with `tf.keras.models.load_model`. If renaming is not possible, pass the object in the `custom_objects` parameter of the load function.\n"
          ]
        },
        {
          "output_type": "stream",
          "name": "stdout",
          "text": [
            "\b\b\b\b\b\b\b\b\b\b\b\b\b\b\b\b\b\b\b\b\b\b\b\b\b\b\b\b\b\b\b\b\b\b\b\b\b\b\b\b\b\b\b\b\b\b\b\b\b\b\b\b\b\b\b\b\b\b\b\b\b\b\b\b\b\b\r17/17 [==============================] - 3s 157ms/step - loss: 1767.3551 - val_loss: 3944.5444\n",
            "Epoch 37/100\n",
            "17/17 [==============================] - 0s 11ms/step - loss: 1762.3328 - val_loss: 4049.4062\n",
            "Epoch 38/100\n",
            "17/17 [==============================] - 0s 11ms/step - loss: 1739.0486 - val_loss: 3950.0461\n",
            "Epoch 39/100\n",
            "17/17 [==============================] - 0s 13ms/step - loss: 1734.0815 - val_loss: 4035.8271\n",
            "Epoch 40/100\n",
            "17/17 [==============================] - 0s 13ms/step - loss: 1735.6532 - val_loss: 3967.8369\n",
            "Epoch 41/100\n",
            "13/17 [=====================>........] - ETA: 0s - loss: 1746.9336INFO:tensorflow:Assets written to: model_experiments/model_3_LSTM/assets\n"
          ]
        },
        {
          "output_type": "stream",
          "name": "stderr",
          "text": [
            "INFO:tensorflow:Assets written to: model_experiments/model_3_LSTM/assets\n",
            "WARNING:absl:<keras.layers.recurrent.LSTMCell object at 0x7f1dff4c2ed0> has the same name 'LSTMCell' as a built-in Keras object. Consider renaming <class 'keras.layers.recurrent.LSTMCell'> to avoid naming conflicts when loading with `tf.keras.models.load_model`. If renaming is not possible, pass the object in the `custom_objects` parameter of the load function.\n"
          ]
        },
        {
          "output_type": "stream",
          "name": "stdout",
          "text": [
            "\b\b\b\b\b\b\b\b\b\b\b\b\b\b\b\b\b\b\b\b\b\b\b\b\b\b\b\b\b\b\b\b\b\b\b\b\b\b\b\b\b\b\b\b\b\b\b\b\b\b\b\b\b\b\b\b\b\b\b\b\b\b\b\b\b\b\r17/17 [==============================] - 3s 171ms/step - loss: 1722.8445 - val_loss: 3926.1904\n",
            "Epoch 42/100\n",
            "17/17 [==============================] - 0s 11ms/step - loss: 1724.4976 - val_loss: 3968.6497\n",
            "Epoch 43/100\n",
            "14/17 [=======================>......] - ETA: 0s - loss: 1638.8510INFO:tensorflow:Assets written to: model_experiments/model_3_LSTM/assets\n"
          ]
        },
        {
          "output_type": "stream",
          "name": "stderr",
          "text": [
            "INFO:tensorflow:Assets written to: model_experiments/model_3_LSTM/assets\n",
            "WARNING:absl:<keras.layers.recurrent.LSTMCell object at 0x7f1dff4c2ed0> has the same name 'LSTMCell' as a built-in Keras object. Consider renaming <class 'keras.layers.recurrent.LSTMCell'> to avoid naming conflicts when loading with `tf.keras.models.load_model`. If renaming is not possible, pass the object in the `custom_objects` parameter of the load function.\n"
          ]
        },
        {
          "output_type": "stream",
          "name": "stdout",
          "text": [
            "\b\b\b\b\b\b\b\b\b\b\b\b\b\b\b\b\b\b\b\b\b\b\b\b\b\b\b\b\b\b\b\b\b\b\b\b\b\b\b\b\b\b\b\b\b\b\b\b\b\b\b\b\b\b\b\b\b\b\b\b\b\b\b\b\b\b\r17/17 [==============================] - 2s 149ms/step - loss: 1713.2787 - val_loss: 3874.9863\n",
            "Epoch 44/100\n",
            "17/17 [==============================] - 0s 11ms/step - loss: 1720.3693 - val_loss: 3903.9260\n",
            "Epoch 45/100\n",
            "17/17 [==============================] - 0s 11ms/step - loss: 1703.9106 - val_loss: 3876.8088\n",
            "Epoch 46/100\n",
            "17/17 [==============================] - 0s 12ms/step - loss: 1702.5216 - val_loss: 3919.2969\n",
            "Epoch 47/100\n",
            "17/17 [==============================] - 0s 12ms/step - loss: 1694.8097 - val_loss: 3903.2058\n",
            "Epoch 48/100\n",
            "12/17 [====================>.........] - ETA: 0s - loss: 1628.6881INFO:tensorflow:Assets written to: model_experiments/model_3_LSTM/assets\n"
          ]
        },
        {
          "output_type": "stream",
          "name": "stderr",
          "text": [
            "INFO:tensorflow:Assets written to: model_experiments/model_3_LSTM/assets\n",
            "WARNING:absl:<keras.layers.recurrent.LSTMCell object at 0x7f1dff4c2ed0> has the same name 'LSTMCell' as a built-in Keras object. Consider renaming <class 'keras.layers.recurrent.LSTMCell'> to avoid naming conflicts when loading with `tf.keras.models.load_model`. If renaming is not possible, pass the object in the `custom_objects` parameter of the load function.\n"
          ]
        },
        {
          "output_type": "stream",
          "name": "stdout",
          "text": [
            "\b\b\b\b\b\b\b\b\b\b\b\b\b\b\b\b\b\b\b\b\b\b\b\b\b\b\b\b\b\b\b\b\b\b\b\b\b\b\b\b\b\b\b\b\b\b\b\b\b\b\b\b\b\b\b\b\b\b\b\b\b\b\b\b\b\b\r17/17 [==============================] - 2s 154ms/step - loss: 1694.0503 - val_loss: 3853.2266\n",
            "Epoch 49/100\n",
            "17/17 [==============================] - 0s 10ms/step - loss: 1688.4934 - val_loss: 3885.3071\n",
            "Epoch 50/100\n",
            "14/17 [=======================>......] - ETA: 0s - loss: 1658.5286INFO:tensorflow:Assets written to: model_experiments/model_3_LSTM/assets\n"
          ]
        },
        {
          "output_type": "stream",
          "name": "stderr",
          "text": [
            "INFO:tensorflow:Assets written to: model_experiments/model_3_LSTM/assets\n",
            "WARNING:absl:<keras.layers.recurrent.LSTMCell object at 0x7f1dff4c2ed0> has the same name 'LSTMCell' as a built-in Keras object. Consider renaming <class 'keras.layers.recurrent.LSTMCell'> to avoid naming conflicts when loading with `tf.keras.models.load_model`. If renaming is not possible, pass the object in the `custom_objects` parameter of the load function.\n"
          ]
        },
        {
          "output_type": "stream",
          "name": "stdout",
          "text": [
            "\b\b\b\b\b\b\b\b\b\b\b\b\b\b\b\b\b\b\b\b\b\b\b\b\b\b\b\b\b\b\b\b\b\b\b\b\b\b\b\b\b\b\b\b\b\b\b\b\b\b\b\b\b\b\b\b\b\b\b\b\b\b\b\b\b\b\r17/17 [==============================] - 2s 145ms/step - loss: 1685.7626 - val_loss: 3827.8298\n",
            "Epoch 51/100\n",
            "17/17 [==============================] - ETA: 0s - loss: 1683.0754INFO:tensorflow:Assets written to: model_experiments/model_3_LSTM/assets\n"
          ]
        },
        {
          "output_type": "stream",
          "name": "stderr",
          "text": [
            "INFO:tensorflow:Assets written to: model_experiments/model_3_LSTM/assets\n",
            "WARNING:absl:<keras.layers.recurrent.LSTMCell object at 0x7f1dff4c2ed0> has the same name 'LSTMCell' as a built-in Keras object. Consider renaming <class 'keras.layers.recurrent.LSTMCell'> to avoid naming conflicts when loading with `tf.keras.models.load_model`. If renaming is not possible, pass the object in the `custom_objects` parameter of the load function.\n"
          ]
        },
        {
          "output_type": "stream",
          "name": "stdout",
          "text": [
            "\b\b\b\b\b\b\b\b\b\b\b\b\b\b\b\b\b\b\b\b\b\b\b\b\b\b\b\b\b\b\b\b\b\b\b\b\b\b\b\b\b\b\b\b\b\b\b\b\b\b\b\b\b\b\b\b\b\b\b\b\b\b\b\b\b\b\r17/17 [==============================] - 3s 171ms/step - loss: 1683.0754 - val_loss: 3824.4116\n",
            "Epoch 52/100\n",
            "17/17 [==============================] - 0s 12ms/step - loss: 1672.7397 - val_loss: 3845.3789\n",
            "Epoch 53/100\n",
            "14/17 [=======================>......] - ETA: 0s - loss: 1619.4283INFO:tensorflow:Assets written to: model_experiments/model_3_LSTM/assets\n"
          ]
        },
        {
          "output_type": "stream",
          "name": "stderr",
          "text": [
            "INFO:tensorflow:Assets written to: model_experiments/model_3_LSTM/assets\n",
            "WARNING:absl:<keras.layers.recurrent.LSTMCell object at 0x7f1dff4c2ed0> has the same name 'LSTMCell' as a built-in Keras object. Consider renaming <class 'keras.layers.recurrent.LSTMCell'> to avoid naming conflicts when loading with `tf.keras.models.load_model`. If renaming is not possible, pass the object in the `custom_objects` parameter of the load function.\n"
          ]
        },
        {
          "output_type": "stream",
          "name": "stdout",
          "text": [
            "\b\b\b\b\b\b\b\b\b\b\b\b\b\b\b\b\b\b\b\b\b\b\b\b\b\b\b\b\b\b\b\b\b\b\b\b\b\b\b\b\b\b\b\b\b\b\b\b\b\b\b\b\b\b\b\b\b\b\b\b\b\b\b\b\b\b\r17/17 [==============================] - 2s 154ms/step - loss: 1671.7832 - val_loss: 3740.5896\n",
            "Epoch 54/100\n",
            "17/17 [==============================] - 0s 12ms/step - loss: 1682.8744 - val_loss: 3856.6616\n",
            "Epoch 55/100\n",
            "17/17 [==============================] - 0s 12ms/step - loss: 1672.2289 - val_loss: 3827.3491\n",
            "Epoch 56/100\n",
            "17/17 [==============================] - 0s 12ms/step - loss: 1650.9398 - val_loss: 3772.9312\n",
            "Epoch 57/100\n",
            "17/17 [==============================] - 0s 12ms/step - loss: 1637.6943 - val_loss: 3768.2075\n",
            "Epoch 58/100\n",
            "17/17 [==============================] - 0s 11ms/step - loss: 1646.5223 - val_loss: 3779.7786\n",
            "Epoch 59/100\n",
            "17/17 [==============================] - 0s 11ms/step - loss: 1651.3148 - val_loss: 3788.1045\n",
            "Epoch 60/100\n",
            "17/17 [==============================] - 0s 12ms/step - loss: 1645.4167 - val_loss: 3750.2471\n",
            "Epoch 61/100\n",
            "13/17 [=====================>........] - ETA: 0s - loss: 1669.7195INFO:tensorflow:Assets written to: model_experiments/model_3_LSTM/assets\n"
          ]
        },
        {
          "output_type": "stream",
          "name": "stderr",
          "text": [
            "INFO:tensorflow:Assets written to: model_experiments/model_3_LSTM/assets\n",
            "WARNING:absl:<keras.layers.recurrent.LSTMCell object at 0x7f1dff4c2ed0> has the same name 'LSTMCell' as a built-in Keras object. Consider renaming <class 'keras.layers.recurrent.LSTMCell'> to avoid naming conflicts when loading with `tf.keras.models.load_model`. If renaming is not possible, pass the object in the `custom_objects` parameter of the load function.\n"
          ]
        },
        {
          "output_type": "stream",
          "name": "stdout",
          "text": [
            "\b\b\b\b\b\b\b\b\b\b\b\b\b\b\b\b\b\b\b\b\b\b\b\b\b\b\b\b\b\b\b\b\b\b\b\b\b\b\b\b\b\b\b\b\b\b\b\b\b\b\b\b\b\b\b\b\b\b\b\b\b\b\b\b\b\b\r17/17 [==============================] - 2s 153ms/step - loss: 1667.3148 - val_loss: 3670.3608\n",
            "Epoch 62/100\n",
            "17/17 [==============================] - 0s 12ms/step - loss: 1629.0800 - val_loss: 3759.3169\n",
            "Epoch 63/100\n",
            "17/17 [==============================] - 0s 11ms/step - loss: 1616.1223 - val_loss: 3735.8535\n",
            "Epoch 64/100\n",
            "17/17 [==============================] - 0s 11ms/step - loss: 1647.2051 - val_loss: 3764.5886\n",
            "Epoch 65/100\n",
            "17/17 [==============================] - 0s 12ms/step - loss: 1631.2157 - val_loss: 3810.6050\n",
            "Epoch 66/100\n",
            "17/17 [==============================] - 0s 12ms/step - loss: 1626.3022 - val_loss: 3715.7407\n",
            "Epoch 67/100\n",
            "17/17 [==============================] - 0s 11ms/step - loss: 1616.7286 - val_loss: 3719.0674\n",
            "Epoch 68/100\n",
            "17/17 [==============================] - 0s 11ms/step - loss: 1610.1652 - val_loss: 3726.1226\n",
            "Epoch 69/100\n",
            "17/17 [==============================] - 0s 12ms/step - loss: 1619.6549 - val_loss: 3785.3147\n",
            "Epoch 70/100\n",
            "17/17 [==============================] - 0s 12ms/step - loss: 1602.4551 - val_loss: 3676.7241\n",
            "Epoch 71/100\n",
            "17/17 [==============================] - 0s 12ms/step - loss: 1599.2401 - val_loss: 3731.6389\n",
            "Epoch 72/100\n",
            "17/17 [==============================] - 0s 12ms/step - loss: 1610.8694 - val_loss: 3815.8628\n",
            "Epoch 73/100\n",
            "13/17 [=====================>........] - ETA: 0s - loss: 1566.9358INFO:tensorflow:Assets written to: model_experiments/model_3_LSTM/assets\n"
          ]
        },
        {
          "output_type": "stream",
          "name": "stderr",
          "text": [
            "INFO:tensorflow:Assets written to: model_experiments/model_3_LSTM/assets\n",
            "WARNING:absl:<keras.layers.recurrent.LSTMCell object at 0x7f1dff4c2ed0> has the same name 'LSTMCell' as a built-in Keras object. Consider renaming <class 'keras.layers.recurrent.LSTMCell'> to avoid naming conflicts when loading with `tf.keras.models.load_model`. If renaming is not possible, pass the object in the `custom_objects` parameter of the load function.\n"
          ]
        },
        {
          "output_type": "stream",
          "name": "stdout",
          "text": [
            "\b\b\b\b\b\b\b\b\b\b\b\b\b\b\b\b\b\b\b\b\b\b\b\b\b\b\b\b\b\b\b\b\b\b\b\b\b\b\b\b\b\b\b\b\b\b\b\b\b\b\b\b\b\b\b\b\b\b\b\b\b\b\b\b\b\b\r17/17 [==============================] - 3s 173ms/step - loss: 1594.4070 - val_loss: 3597.4060\n",
            "Epoch 74/100\n",
            "17/17 [==============================] - 0s 11ms/step - loss: 1601.3531 - val_loss: 3697.5713\n",
            "Epoch 75/100\n",
            "17/17 [==============================] - 0s 11ms/step - loss: 1592.5831 - val_loss: 3689.7312\n",
            "Epoch 76/100\n",
            "17/17 [==============================] - 0s 11ms/step - loss: 1583.0652 - val_loss: 3674.7922\n",
            "Epoch 77/100\n",
            "17/17 [==============================] - 0s 12ms/step - loss: 1583.7319 - val_loss: 3630.3054\n",
            "Epoch 78/100\n",
            "17/17 [==============================] - 0s 12ms/step - loss: 1596.8967 - val_loss: 3733.9087\n",
            "Epoch 79/100\n",
            "17/17 [==============================] - 0s 11ms/step - loss: 1573.8435 - val_loss: 3647.2991\n",
            "Epoch 80/100\n",
            "17/17 [==============================] - 0s 11ms/step - loss: 1575.6915 - val_loss: 3611.0000\n",
            "Epoch 81/100\n",
            "17/17 [==============================] - 0s 11ms/step - loss: 1573.5338 - val_loss: 3631.3396\n",
            "Epoch 82/100\n",
            "17/17 [==============================] - 0s 11ms/step - loss: 1561.1354 - val_loss: 3724.9385\n",
            "Epoch 83/100\n",
            "17/17 [==============================] - 0s 12ms/step - loss: 1562.9290 - val_loss: 3621.1443\n",
            "Epoch 84/100\n",
            "17/17 [==============================] - 0s 11ms/step - loss: 1559.3363 - val_loss: 3616.2737\n",
            "Epoch 85/100\n",
            "17/17 [==============================] - 0s 11ms/step - loss: 1568.9188 - val_loss: 3646.7578\n",
            "Epoch 86/100\n",
            "17/17 [==============================] - 0s 11ms/step - loss: 1560.9631 - val_loss: 3654.5125\n",
            "Epoch 87/100\n",
            "17/17 [==============================] - 0s 11ms/step - loss: 1553.6074 - val_loss: 3642.7595\n",
            "Epoch 88/100\n",
            "14/17 [=======================>......] - ETA: 0s - loss: 1566.4049INFO:tensorflow:Assets written to: model_experiments/model_3_LSTM/assets\n"
          ]
        },
        {
          "output_type": "stream",
          "name": "stderr",
          "text": [
            "INFO:tensorflow:Assets written to: model_experiments/model_3_LSTM/assets\n",
            "WARNING:absl:<keras.layers.recurrent.LSTMCell object at 0x7f1dff4c2ed0> has the same name 'LSTMCell' as a built-in Keras object. Consider renaming <class 'keras.layers.recurrent.LSTMCell'> to avoid naming conflicts when loading with `tf.keras.models.load_model`. If renaming is not possible, pass the object in the `custom_objects` parameter of the load function.\n"
          ]
        },
        {
          "output_type": "stream",
          "name": "stdout",
          "text": [
            "\b\b\b\b\b\b\b\b\b\b\b\b\b\b\b\b\b\b\b\b\b\b\b\b\b\b\b\b\b\b\b\b\b\b\b\b\b\b\b\b\b\b\b\b\b\b\b\b\b\b\b\b\b\b\b\b\b\b\b\b\b\b\b\b\b\b\r17/17 [==============================] - 2s 151ms/step - loss: 1548.5793 - val_loss: 3593.2725\n",
            "Epoch 89/100\n",
            "17/17 [==============================] - 0s 11ms/step - loss: 1555.4871 - val_loss: 3636.3457\n",
            "Epoch 90/100\n",
            "17/17 [==============================] - 0s 11ms/step - loss: 1547.6970 - val_loss: 3633.5693\n",
            "Epoch 91/100\n",
            "17/17 [==============================] - 0s 11ms/step - loss: 1535.0176 - val_loss: 3650.9565\n",
            "Epoch 92/100\n",
            "17/17 [==============================] - 0s 11ms/step - loss: 1534.0181 - val_loss: 3631.4297\n",
            "Epoch 93/100\n",
            "17/17 [==============================] - 0s 12ms/step - loss: 1534.1985 - val_loss: 3658.5928\n",
            "Epoch 94/100\n",
            "13/17 [=====================>........] - ETA: 0s - loss: 1614.1069INFO:tensorflow:Assets written to: model_experiments/model_3_LSTM/assets\n"
          ]
        },
        {
          "output_type": "stream",
          "name": "stderr",
          "text": [
            "INFO:tensorflow:Assets written to: model_experiments/model_3_LSTM/assets\n",
            "WARNING:absl:<keras.layers.recurrent.LSTMCell object at 0x7f1dff4c2ed0> has the same name 'LSTMCell' as a built-in Keras object. Consider renaming <class 'keras.layers.recurrent.LSTMCell'> to avoid naming conflicts when loading with `tf.keras.models.load_model`. If renaming is not possible, pass the object in the `custom_objects` parameter of the load function.\n"
          ]
        },
        {
          "output_type": "stream",
          "name": "stdout",
          "text": [
            "\b\b\b\b\b\b\b\b\b\b\b\b\b\b\b\b\b\b\b\b\b\b\b\b\b\b\b\b\b\b\b\b\b\b\b\b\b\b\b\b\b\b\b\b\b\b\b\b\b\b\b\b\b\b\b\b\b\b\b\b\b\b\b\b\b\b\r17/17 [==============================] - 2s 150ms/step - loss: 1559.4819 - val_loss: 3507.6914\n",
            "Epoch 95/100\n",
            "17/17 [==============================] - 0s 11ms/step - loss: 1539.9861 - val_loss: 3762.5032\n",
            "Epoch 96/100\n",
            "17/17 [==============================] - 0s 11ms/step - loss: 1540.1069 - val_loss: 3664.1082\n",
            "Epoch 97/100\n",
            "17/17 [==============================] - 0s 12ms/step - loss: 1529.2579 - val_loss: 3634.5156\n",
            "Epoch 98/100\n",
            "17/17 [==============================] - 0s 12ms/step - loss: 1516.8925 - val_loss: 3646.5430\n",
            "Epoch 99/100\n",
            "17/17 [==============================] - 0s 11ms/step - loss: 1522.0176 - val_loss: 3596.8452\n",
            "Epoch 100/100\n",
            "17/17 [==============================] - 0s 11ms/step - loss: 1525.6108 - val_loss: 3686.3589\n"
          ]
        },
        {
          "output_type": "execute_result",
          "data": {
            "text/plain": [
              "<keras.callbacks.History at 0x7f1dff5e7ed0>"
            ]
          },
          "metadata": {},
          "execution_count": 43
        }
      ]
    },
    {
      "cell_type": "code",
      "source": [
        "model_3 = tf.keras.models.load_model('model_experiments/model_3_LSTM')\n",
        "model_3.evaluate(test_windows,test_labels)"
      ],
      "metadata": {
        "colab": {
          "base_uri": "https://localhost:8080/"
        },
        "id": "Ga6ZYddUWdwi",
        "outputId": "99236765-707c-4d52-a2e4-e9cc1206d55d"
      },
      "execution_count": null,
      "outputs": [
        {
          "output_type": "stream",
          "name": "stdout",
          "text": [
            "WARNING:tensorflow:Layer lstm will not use cuDNN kernels since it doesn't meet the criteria. It will use a generic GPU kernel as fallback when running on GPU.\n"
          ]
        },
        {
          "output_type": "stream",
          "name": "stderr",
          "text": [
            "WARNING:tensorflow:Layer lstm will not use cuDNN kernels since it doesn't meet the criteria. It will use a generic GPU kernel as fallback when running on GPU.\n"
          ]
        },
        {
          "output_type": "stream",
          "name": "stdout",
          "text": [
            "5/5 [==============================] - 0s 4ms/step - loss: 3507.6914\n"
          ]
        },
        {
          "output_type": "execute_result",
          "data": {
            "text/plain": [
              "3507.69140625"
            ]
          },
          "metadata": {},
          "execution_count": 44
        }
      ]
    },
    {
      "cell_type": "code",
      "source": [
        "model_3_preds = make_preds(model_3, test_windows)\n",
        "model_3_preds[:5]"
      ],
      "metadata": {
        "colab": {
          "base_uri": "https://localhost:8080/"
        },
        "id": "8NymGDGQW__P",
        "outputId": "2308d689-e7c5-4d91-c29c-40782eab93fb"
      },
      "execution_count": null,
      "outputs": [
        {
          "output_type": "execute_result",
          "data": {
            "text/plain": [
              "<tf.Tensor: shape=(5, 7), dtype=float32, numpy=\n",
              "array([[5868.6064, 5701.1763, 5370.4365, 5072.678 , 4482.6387, 3763.1765,\n",
              "        4590.7393],\n",
              "       [6166.663 , 5982.9727, 5703.8306, 4903.1694, 4022.5684, 4720.0093,\n",
              "        5873.5073],\n",
              "       [5687.342 , 5856.594 , 5138.18  , 4210.839 , 4752.1167, 5628.3896,\n",
              "        5326.086 ],\n",
              "       [5627.848 , 5388.7515, 4469.488 , 4954.364 , 5682.496 , 5220.506 ,\n",
              "        4946.9297],\n",
              "       [5467.7725, 5129.341 , 5339.6597, 5953.6074, 5571.018 , 5162.839 ,\n",
              "        5555.9897]], dtype=float32)>"
            ]
          },
          "metadata": {},
          "execution_count": 45
        }
      ]
    },
    {
      "cell_type": "code",
      "source": [
        "model_3_results = evaluate_preds(y_true = tf.squeeze(test_labels),\n",
        "                                 y_pred = model_3_preds)\n",
        "model_3_results"
      ],
      "metadata": {
        "colab": {
          "base_uri": "https://localhost:8080/"
        },
        "id": "yAMHal02XGas",
        "outputId": "8f89bf9f-0a86-4461-b0a7-b273b89197db"
      },
      "execution_count": null,
      "outputs": [
        {
          "output_type": "execute_result",
          "data": {
            "text/plain": [
              "{'mae': 3507.6914, 'mape': 29.66794, 'mse': 42620892.0, 'rmse': 3863.2405}"
            ]
          },
          "metadata": {},
          "execution_count": 46
        }
      ]
    },
    {
      "cell_type": "code",
      "source": [
        "model_2_results"
      ],
      "metadata": {
        "colab": {
          "base_uri": "https://localhost:8080/"
        },
        "id": "x7DmXV0bXQI3",
        "outputId": "b70a27ae-270f-4c27-89fe-195f5308e08d"
      },
      "execution_count": null,
      "outputs": [
        {
          "output_type": "execute_result",
          "data": {
            "text/plain": [
              "{'mae': 6364.078, 'mape': 46.891693, 'mse': 152749060.0, 'rmse': 6789.318}"
            ]
          },
          "metadata": {},
          "execution_count": 47
        }
      ]
    },
    {
      "cell_type": "code",
      "source": [
        "model_1_results"
      ],
      "metadata": {
        "colab": {
          "base_uri": "https://localhost:8080/"
        },
        "id": "SFUZnmXEXRli",
        "outputId": "f31a51c4-b59b-42cd-a034-6de3e2023008"
      },
      "execution_count": null,
      "outputs": [
        {
          "output_type": "execute_result",
          "data": {
            "text/plain": [
              "{'mae': 5806.5747, 'mape': 40.38666, 'mse': 133524930.0, 'rmse': 6193.2124}"
            ]
          },
          "metadata": {},
          "execution_count": 48
        }
      ]
    },
    {
      "cell_type": "markdown",
      "source": [
        "## MODEL 4 : N-Beats Algorithm"
      ],
      "metadata": {
        "id": "fnGwJm5IXT82"
      }
    },
    {
      "cell_type": "code",
      "source": [
        ""
      ],
      "metadata": {
        "id": "a2_PKYDT_-gJ"
      },
      "execution_count": null,
      "outputs": []
    },
    {
      "cell_type": "code",
      "source": [
        "# Create the NBeats Block\n",
        "class NBeatsBlock(tf.keras.layers.Layer):\n",
        "    def __init__(self,\n",
        "                 input_size = int,\n",
        "                 theta_size = int,\n",
        "                 horizon = int,\n",
        "                 n_neurons = int,\n",
        "                 n_layers = int,\n",
        "                 **kwargs):\n",
        "        super().__init__(**kwargs)\n",
        "        self.input_size = input_size\n",
        "        self.theta_size = theta_size\n",
        "        self.horizon = horizon\n",
        "        self.n_neurons = n_neurons\n",
        "        self.n_layers = n_layers\n",
        "\n",
        "        self.hidden = [tf.keras.layers.Dense(n_neurons, activation = 'relu') for _ in range(n_layers)]\n",
        "        self.theta_layer = tf.keras.layers.Dense(theta_size,activation = 'linear', name = 'theta')\n",
        "\n",
        "    def call(self,inputs):\n",
        "        x = inputs\n",
        "        for layer in self.hidden:\n",
        "            x = layer(x)\n",
        "        theta = self.theta_layer(x)\n",
        "        backcast, forecast = theta[:,:self.input_size], theta[:,-self.horizon:]\n",
        "        return backcast, forecast"
      ],
      "metadata": {
        "id": "R1pCZcwiQ1L2"
      },
      "execution_count": null,
      "outputs": []
    },
    {
      "cell_type": "code",
      "source": [
        "# Preparing data for N-Beats algorithms\n",
        "HORIZON = 7\n",
        "WINDOW_SIZE = 7\n"
      ],
      "metadata": {
        "id": "Vra_ZSvESWOh"
      },
      "execution_count": null,
      "outputs": []
    },
    {
      "cell_type": "code",
      "source": [
        "kerala_cases_nbeats = kerala_df.copy()\n",
        "for i in range(WINDOW_SIZE):\n",
        "    kerala_cases_nbeats[f\"Cases{i+1}\"] = kerala_cases_nbeats['Cases'].shift(i+1)\n",
        "kerala_cases_nbeats.head(10)"
      ],
      "metadata": {
        "colab": {
          "base_uri": "https://localhost:8080/",
          "height": 394
        },
        "id": "N9mV0056TFvI",
        "outputId": "be1c3aa6-10aa-4387-b4d8-3eff28636d0b"
      },
      "execution_count": null,
      "outputs": [
        {
          "output_type": "execute_result",
          "data": {
            "text/plain": [
              "            Cases  Cases1  Cases2  Cases3  Cases4  Cases5  Cases6  Cases7\n",
              "date                                                                     \n",
              "2020-06-01     57     NaN     NaN     NaN     NaN     NaN     NaN     NaN\n",
              "2020-06-02     86    57.0     NaN     NaN     NaN     NaN     NaN     NaN\n",
              "2020-06-03     82    86.0    57.0     NaN     NaN     NaN     NaN     NaN\n",
              "2020-06-04     94    82.0    86.0    57.0     NaN     NaN     NaN     NaN\n",
              "2020-06-05    111    94.0    82.0    86.0    57.0     NaN     NaN     NaN\n",
              "2020-06-06    108   111.0    94.0    82.0    86.0    57.0     NaN     NaN\n",
              "2020-06-07    107   108.0   111.0    94.0    82.0    86.0    57.0     NaN\n",
              "2020-06-08     91   107.0   108.0   111.0    94.0    82.0    86.0    57.0\n",
              "2020-06-09     91    91.0   107.0   108.0   111.0    94.0    82.0    86.0\n",
              "2020-06-10     65    91.0    91.0   107.0   108.0   111.0    94.0    82.0"
            ],
            "text/html": [
              "\n",
              "  <div id=\"df-d9b54412-0d68-4b44-9461-0ad17e6820f3\">\n",
              "    <div class=\"colab-df-container\">\n",
              "      <div>\n",
              "<style scoped>\n",
              "    .dataframe tbody tr th:only-of-type {\n",
              "        vertical-align: middle;\n",
              "    }\n",
              "\n",
              "    .dataframe tbody tr th {\n",
              "        vertical-align: top;\n",
              "    }\n",
              "\n",
              "    .dataframe thead th {\n",
              "        text-align: right;\n",
              "    }\n",
              "</style>\n",
              "<table border=\"1\" class=\"dataframe\">\n",
              "  <thead>\n",
              "    <tr style=\"text-align: right;\">\n",
              "      <th></th>\n",
              "      <th>Cases</th>\n",
              "      <th>Cases1</th>\n",
              "      <th>Cases2</th>\n",
              "      <th>Cases3</th>\n",
              "      <th>Cases4</th>\n",
              "      <th>Cases5</th>\n",
              "      <th>Cases6</th>\n",
              "      <th>Cases7</th>\n",
              "    </tr>\n",
              "    <tr>\n",
              "      <th>date</th>\n",
              "      <th></th>\n",
              "      <th></th>\n",
              "      <th></th>\n",
              "      <th></th>\n",
              "      <th></th>\n",
              "      <th></th>\n",
              "      <th></th>\n",
              "      <th></th>\n",
              "    </tr>\n",
              "  </thead>\n",
              "  <tbody>\n",
              "    <tr>\n",
              "      <th>2020-06-01</th>\n",
              "      <td>57</td>\n",
              "      <td>NaN</td>\n",
              "      <td>NaN</td>\n",
              "      <td>NaN</td>\n",
              "      <td>NaN</td>\n",
              "      <td>NaN</td>\n",
              "      <td>NaN</td>\n",
              "      <td>NaN</td>\n",
              "    </tr>\n",
              "    <tr>\n",
              "      <th>2020-06-02</th>\n",
              "      <td>86</td>\n",
              "      <td>57.0</td>\n",
              "      <td>NaN</td>\n",
              "      <td>NaN</td>\n",
              "      <td>NaN</td>\n",
              "      <td>NaN</td>\n",
              "      <td>NaN</td>\n",
              "      <td>NaN</td>\n",
              "    </tr>\n",
              "    <tr>\n",
              "      <th>2020-06-03</th>\n",
              "      <td>82</td>\n",
              "      <td>86.0</td>\n",
              "      <td>57.0</td>\n",
              "      <td>NaN</td>\n",
              "      <td>NaN</td>\n",
              "      <td>NaN</td>\n",
              "      <td>NaN</td>\n",
              "      <td>NaN</td>\n",
              "    </tr>\n",
              "    <tr>\n",
              "      <th>2020-06-04</th>\n",
              "      <td>94</td>\n",
              "      <td>82.0</td>\n",
              "      <td>86.0</td>\n",
              "      <td>57.0</td>\n",
              "      <td>NaN</td>\n",
              "      <td>NaN</td>\n",
              "      <td>NaN</td>\n",
              "      <td>NaN</td>\n",
              "    </tr>\n",
              "    <tr>\n",
              "      <th>2020-06-05</th>\n",
              "      <td>111</td>\n",
              "      <td>94.0</td>\n",
              "      <td>82.0</td>\n",
              "      <td>86.0</td>\n",
              "      <td>57.0</td>\n",
              "      <td>NaN</td>\n",
              "      <td>NaN</td>\n",
              "      <td>NaN</td>\n",
              "    </tr>\n",
              "    <tr>\n",
              "      <th>2020-06-06</th>\n",
              "      <td>108</td>\n",
              "      <td>111.0</td>\n",
              "      <td>94.0</td>\n",
              "      <td>82.0</td>\n",
              "      <td>86.0</td>\n",
              "      <td>57.0</td>\n",
              "      <td>NaN</td>\n",
              "      <td>NaN</td>\n",
              "    </tr>\n",
              "    <tr>\n",
              "      <th>2020-06-07</th>\n",
              "      <td>107</td>\n",
              "      <td>108.0</td>\n",
              "      <td>111.0</td>\n",
              "      <td>94.0</td>\n",
              "      <td>82.0</td>\n",
              "      <td>86.0</td>\n",
              "      <td>57.0</td>\n",
              "      <td>NaN</td>\n",
              "    </tr>\n",
              "    <tr>\n",
              "      <th>2020-06-08</th>\n",
              "      <td>91</td>\n",
              "      <td>107.0</td>\n",
              "      <td>108.0</td>\n",
              "      <td>111.0</td>\n",
              "      <td>94.0</td>\n",
              "      <td>82.0</td>\n",
              "      <td>86.0</td>\n",
              "      <td>57.0</td>\n",
              "    </tr>\n",
              "    <tr>\n",
              "      <th>2020-06-09</th>\n",
              "      <td>91</td>\n",
              "      <td>91.0</td>\n",
              "      <td>107.0</td>\n",
              "      <td>108.0</td>\n",
              "      <td>111.0</td>\n",
              "      <td>94.0</td>\n",
              "      <td>82.0</td>\n",
              "      <td>86.0</td>\n",
              "    </tr>\n",
              "    <tr>\n",
              "      <th>2020-06-10</th>\n",
              "      <td>65</td>\n",
              "      <td>91.0</td>\n",
              "      <td>91.0</td>\n",
              "      <td>107.0</td>\n",
              "      <td>108.0</td>\n",
              "      <td>111.0</td>\n",
              "      <td>94.0</td>\n",
              "      <td>82.0</td>\n",
              "    </tr>\n",
              "  </tbody>\n",
              "</table>\n",
              "</div>\n",
              "      <button class=\"colab-df-convert\" onclick=\"convertToInteractive('df-d9b54412-0d68-4b44-9461-0ad17e6820f3')\"\n",
              "              title=\"Convert this dataframe to an interactive table.\"\n",
              "              style=\"display:none;\">\n",
              "        \n",
              "  <svg xmlns=\"http://www.w3.org/2000/svg\" height=\"24px\"viewBox=\"0 0 24 24\"\n",
              "       width=\"24px\">\n",
              "    <path d=\"M0 0h24v24H0V0z\" fill=\"none\"/>\n",
              "    <path d=\"M18.56 5.44l.94 2.06.94-2.06 2.06-.94-2.06-.94-.94-2.06-.94 2.06-2.06.94zm-11 1L8.5 8.5l.94-2.06 2.06-.94-2.06-.94L8.5 2.5l-.94 2.06-2.06.94zm10 10l.94 2.06.94-2.06 2.06-.94-2.06-.94-.94-2.06-.94 2.06-2.06.94z\"/><path d=\"M17.41 7.96l-1.37-1.37c-.4-.4-.92-.59-1.43-.59-.52 0-1.04.2-1.43.59L10.3 9.45l-7.72 7.72c-.78.78-.78 2.05 0 2.83L4 21.41c.39.39.9.59 1.41.59.51 0 1.02-.2 1.41-.59l7.78-7.78 2.81-2.81c.8-.78.8-2.07 0-2.86zM5.41 20L4 18.59l7.72-7.72 1.47 1.35L5.41 20z\"/>\n",
              "  </svg>\n",
              "      </button>\n",
              "      \n",
              "  <style>\n",
              "    .colab-df-container {\n",
              "      display:flex;\n",
              "      flex-wrap:wrap;\n",
              "      gap: 12px;\n",
              "    }\n",
              "\n",
              "    .colab-df-convert {\n",
              "      background-color: #E8F0FE;\n",
              "      border: none;\n",
              "      border-radius: 50%;\n",
              "      cursor: pointer;\n",
              "      display: none;\n",
              "      fill: #1967D2;\n",
              "      height: 32px;\n",
              "      padding: 0 0 0 0;\n",
              "      width: 32px;\n",
              "    }\n",
              "\n",
              "    .colab-df-convert:hover {\n",
              "      background-color: #E2EBFA;\n",
              "      box-shadow: 0px 1px 2px rgba(60, 64, 67, 0.3), 0px 1px 3px 1px rgba(60, 64, 67, 0.15);\n",
              "      fill: #174EA6;\n",
              "    }\n",
              "\n",
              "    [theme=dark] .colab-df-convert {\n",
              "      background-color: #3B4455;\n",
              "      fill: #D2E3FC;\n",
              "    }\n",
              "\n",
              "    [theme=dark] .colab-df-convert:hover {\n",
              "      background-color: #434B5C;\n",
              "      box-shadow: 0px 1px 3px 1px rgba(0, 0, 0, 0.15);\n",
              "      filter: drop-shadow(0px 1px 2px rgba(0, 0, 0, 0.3));\n",
              "      fill: #FFFFFF;\n",
              "    }\n",
              "  </style>\n",
              "\n",
              "      <script>\n",
              "        const buttonEl =\n",
              "          document.querySelector('#df-d9b54412-0d68-4b44-9461-0ad17e6820f3 button.colab-df-convert');\n",
              "        buttonEl.style.display =\n",
              "          google.colab.kernel.accessAllowed ? 'block' : 'none';\n",
              "\n",
              "        async function convertToInteractive(key) {\n",
              "          const element = document.querySelector('#df-d9b54412-0d68-4b44-9461-0ad17e6820f3');\n",
              "          const dataTable =\n",
              "            await google.colab.kernel.invokeFunction('convertToInteractive',\n",
              "                                                     [key], {});\n",
              "          if (!dataTable) return;\n",
              "\n",
              "          const docLinkHtml = 'Like what you see? Visit the ' +\n",
              "            '<a target=\"_blank\" href=https://colab.research.google.com/notebooks/data_table.ipynb>data table notebook</a>'\n",
              "            + ' to learn more about interactive tables.';\n",
              "          element.innerHTML = '';\n",
              "          dataTable['output_type'] = 'display_data';\n",
              "          await google.colab.output.renderOutput(dataTable, element);\n",
              "          const docLink = document.createElement('div');\n",
              "          docLink.innerHTML = docLinkHtml;\n",
              "          element.appendChild(docLink);\n",
              "        }\n",
              "      </script>\n",
              "    </div>\n",
              "  </div>\n",
              "  "
            ]
          },
          "metadata": {},
          "execution_count": 54
        }
      ]
    },
    {
      "cell_type": "code",
      "source": [
        "# Make features and labels\n",
        "X = kerala_cases_nbeats.dropna().drop('Cases',axis = 1)\n",
        "y = kerala_cases_nbeats.dropna()['Cases']\n",
        "\n",
        "# Make train test splits\n",
        "split_size = int(len(X)*0.8)\n",
        "X_train,y_train = X[:split_size], y[:split_size]\n",
        "X_test,y_test = X[split_size:], y[split_size:]\n",
        "len(X_train), len(y_train), len(X_test), len(y_test)"
      ],
      "metadata": {
        "colab": {
          "base_uri": "https://localhost:8080/"
        },
        "id": "HOVr82l6TIUS",
        "outputId": "64eef4bd-0cb2-4562-f0d7-0e01c9deb504"
      },
      "execution_count": null,
      "outputs": [
        {
          "output_type": "execute_result",
          "data": {
            "text/plain": [
              "(533, 533, 134, 134)"
            ]
          },
          "metadata": {},
          "execution_count": 55
        }
      ]
    },
    {
      "cell_type": "code",
      "source": [
        "len(train_windows), len(train_labels), len(test_windows), len(test_labels)"
      ],
      "metadata": {
        "colab": {
          "base_uri": "https://localhost:8080/"
        },
        "id": "FuRgBoQJAByi",
        "outputId": "bef5d20a-34e3-40f9-f102-6c578ecc2e88"
      },
      "execution_count": null,
      "outputs": [
        {
          "output_type": "execute_result",
          "data": {
            "text/plain": [
              "(527, 527, 132, 132)"
            ]
          },
          "metadata": {},
          "execution_count": 51
        }
      ]
    },
    {
      "cell_type": "code",
      "source": [
        "# Make the data performant using tf.data API\n",
        "train_features_dataset = tf.data.Dataset.from_tensor_slices(train_windows)\n",
        "train_labels_dataset = tf.data.Dataset.from_tensor_slices(train_labels)\n",
        "\n",
        "test_features_dataset = tf.data.Dataset.from_tensor_slices(test_windows)\n",
        "test_labels_dataset = tf.data.Dataset.from_tensor_slices(test_labels)\n",
        "\n",
        "# Combine labels and features by zipping them together\n",
        "train_dataset = tf.data.Dataset.zip((train_features_dataset, train_labels_dataset))\n",
        "test_dataset = tf.data.Dataset.zip((test_features_dataset, test_labels_dataset))\n",
        "\n",
        "# Batch and prefetch the dataset\n",
        "BATCH_SIZE = 32\n",
        "train_dataset = train_dataset.batch(BATCH_SIZE).prefetch(tf.data.AUTOTUNE)\n",
        "test_dataset = test_dataset.batch(BATCH_SIZE).prefetch(tf.data.AUTOTUNE)\n",
        "\n",
        "train_dataset, test_dataset"
      ],
      "metadata": {
        "colab": {
          "base_uri": "https://localhost:8080/"
        },
        "id": "jj2hpOkXUHC1",
        "outputId": "d7342909-0f0e-4e7b-b510-ebe4c59f3dc4"
      },
      "execution_count": null,
      "outputs": [
        {
          "output_type": "execute_result",
          "data": {
            "text/plain": [
              "(<PrefetchDataset element_spec=(TensorSpec(shape=(None, 7), dtype=tf.float32, name=None), TensorSpec(shape=(None, 7), dtype=tf.float32, name=None))>,\n",
              " <PrefetchDataset element_spec=(TensorSpec(shape=(None, 7), dtype=tf.float32, name=None), TensorSpec(shape=(None, 7), dtype=tf.float32, name=None))>)"
            ]
          },
          "metadata": {},
          "execution_count": 52
        }
      ]
    },
    {
      "cell_type": "code",
      "source": [
        "# Setup the hyperparameters\n",
        "N_EPOCHS = 5000\n",
        "N_NEURONS = 512\n",
        "N_LAYERS = 4\n",
        "N_STACK = 30\n",
        "\n",
        "INPUT_SIZE = WINDOW_SIZE\n",
        "THETA_SIZE = INPUT_SIZE + HORIZON"
      ],
      "metadata": {
        "id": "Vhq0_384VLu5"
      },
      "execution_count": null,
      "outputs": []
    },
    {
      "cell_type": "code",
      "source": [
        "%%time\n",
        "\n",
        "tf.random.set_seed(42)\n",
        "\n",
        "nbeats_block_layer = NBeatsBlock(input_size = INPUT_SIZE,\n",
        "                                 theta_size = THETA_SIZE,\n",
        "                                 horizon = HORIZON,\n",
        "                                 n_neurons = N_NEURONS,\n",
        "                                 n_layers = N_LAYERS,\n",
        "                                 name = \"InitialBlock\")\n",
        "\n",
        "stack_input = layers.Input(shape = (INPUT_SIZE), name = 'stack_input')\n",
        "backcast, forecast = nbeats_block_layer(stack_input)\n",
        "residuals = layers.subtract([stack_input, backcast], name = f\"subtract_00\")\n",
        "\n",
        "for i,_ in enumerate(range(N_STACK-1)):\n",
        "    backcast,block_forecast = NBeatsBlock(\n",
        "        input_size = INPUT_SIZE,\n",
        "        theta_size = THETA_SIZE,\n",
        "        horizon = HORIZON,\n",
        "        n_neurons = N_NEURONS,\n",
        "        n_layers = N_LAYERS,\n",
        "        name = f\"NBeatsBlock_{i}\"\n",
        "    )(residuals) \n",
        "\n",
        "    residuals = layers.subtract([residuals, backcast], name = f'Subtract_{i}')\n",
        "    forecast = layers.add([forecast,block_forecast],name = f\"Add_{i}\")\n",
        "\n",
        "model_4 = tf.keras.Model(inputs = stack_input,\n",
        "                         outputs = forecast,\n",
        "                         name = \"model_4_N-Beats\")\n",
        "\n",
        "model_4.compile(loss = 'mae',\n",
        "                optimizer = tf.keras.optimizers.Adam())\n",
        "\n",
        "model_4.fit(train_dataset,\n",
        "            epochs = N_EPOCHS,\n",
        "            validation_data = test_dataset,\n",
        "            verbose = 0,\n",
        "            callbacks = [tf.keras.callbacks.EarlyStopping(monitor = 'val_loss', patience = 200, restore_best_weights =True),\n",
        "                         tf.keras.callbacks.ReduceLROnPlateau(monitor = 'val_loss', patience = 100, verbose = 1)])"
      ],
      "metadata": {
        "id": "lxNjLHurVyLv",
        "colab": {
          "base_uri": "https://localhost:8080/"
        },
        "outputId": "034924cb-01dd-4182-e1c6-d142e0162e57"
      },
      "execution_count": null,
      "outputs": [
        {
          "output_type": "stream",
          "name": "stdout",
          "text": [
            "\n",
            "Epoch 127: ReduceLROnPlateau reducing learning rate to 0.00010000000474974513.\n",
            "\n",
            "Epoch 227: ReduceLROnPlateau reducing learning rate to 1.0000000474974514e-05.\n",
            "CPU times: user 3min 18s, sys: 4.36 s, total: 3min 22s\n",
            "Wall time: 3min 45s\n"
          ]
        }
      ]
    },
    {
      "cell_type": "code",
      "source": [
        "model_4.evaluate(test_dataset)"
      ],
      "metadata": {
        "id": "xYxkl9YMYWnv",
        "colab": {
          "base_uri": "https://localhost:8080/"
        },
        "outputId": "676a26af-f2bb-40c5-f2d7-eae9450ed73e"
      },
      "execution_count": null,
      "outputs": [
        {
          "output_type": "stream",
          "name": "stdout",
          "text": [
            "5/5 [==============================] - 0s 34ms/step - loss: 3315.7573\n"
          ]
        },
        {
          "output_type": "execute_result",
          "data": {
            "text/plain": [
              "3315.75732421875"
            ]
          },
          "metadata": {},
          "execution_count": 60
        }
      ]
    },
    {
      "cell_type": "code",
      "source": [
        "model_4_preds = make_preds(model_4, test_dataset)\n",
        "model_4_preds[:5]"
      ],
      "metadata": {
        "colab": {
          "base_uri": "https://localhost:8080/"
        },
        "id": "knttk0ZuC6FL",
        "outputId": "817dceed-fac1-475e-84cf-75587e55bf71"
      },
      "execution_count": null,
      "outputs": [
        {
          "output_type": "execute_result",
          "data": {
            "text/plain": [
              "<tf.Tensor: shape=(5, 7), dtype=float32, numpy=\n",
              "array([[6046.743 , 5567.411 , 5202.3335, 4868.823 , 4398.6934, 3467.155 ,\n",
              "        4735.6245],\n",
              "       [6115.1006, 5167.4336, 5082.762 , 4638.07  , 3447.0393, 4584.9917,\n",
              "        5584.1455],\n",
              "       [5730.9014, 5218.595 , 4459.624 , 3374.9688, 4547.2676, 5397.455 ,\n",
              "        4854.7085],\n",
              "       [5544.9585, 4633.026 , 3305.2542, 4371.382 , 5196.484 , 4687.7695,\n",
              "        4710.016 ],\n",
              "       [5604.347 , 3380.0964, 4553.587 , 5563.162 , 4907.4   , 4713.6934,\n",
              "        5204.508 ]], dtype=float32)>"
            ]
          },
          "metadata": {},
          "execution_count": 61
        }
      ]
    },
    {
      "cell_type": "code",
      "source": [
        "model_4_results = evaluate_preds(y_true = tf.squeeze(test_labels),\n",
        "                                 y_pred = model_4_preds)\n",
        "model_4_results"
      ],
      "metadata": {
        "colab": {
          "base_uri": "https://localhost:8080/"
        },
        "id": "AWMG-OaGDFPs",
        "outputId": "8a53623b-fcbb-4603-9662-856c9af08f7e"
      },
      "execution_count": null,
      "outputs": [
        {
          "output_type": "execute_result",
          "data": {
            "text/plain": [
              "{'mae': 3315.7573, 'mape': 29.323132, 'mse': 36234536.0, 'rmse': 3719.2344}"
            ]
          },
          "metadata": {},
          "execution_count": 62
        }
      ]
    },
    {
      "cell_type": "markdown",
      "source": [
        "## MODEL - 5 : GRU Model"
      ],
      "metadata": {
        "id": "JlL1wh3IRCv7"
      }
    },
    {
      "cell_type": "code",
      "source": [
        "# GRU Model architecture\n",
        "tf.random.set_seed(42)\n",
        "\n",
        "inputs = layers.Input(shape = (WINDOW_SIZE))\n",
        "x = layers.Lambda(lambda x: tf.expand_dims(x,axis = 1))(inputs)\n",
        "x = layers.GRU(128, activation = 'relu')(x)\n",
        "outputs = layers.Dense(HORIZON)(x)\n",
        "model_5 = tf.keras.Model(inputs = inputs, outputs = outputs, name = 'model_5_GRU')\n",
        "\n",
        "model_5.compile(loss = 'mae',\n",
        "                optimizer = tf.keras.optimizers.Adam())\n",
        "\n",
        "model_5.fit(train_windows,\n",
        "            train_labels,\n",
        "            epochs = 100,\n",
        "            batch_size = 32,\n",
        "            validation_data = (test_windows, test_labels),\n",
        "            callbacks = [create_model_checkpoint(model_name = model_5.name)])"
      ],
      "metadata": {
        "colab": {
          "base_uri": "https://localhost:8080/"
        },
        "id": "DvNNDyNdRGw1",
        "outputId": "46b449cd-a778-4ed2-8291-74f5b481b5b6"
      },
      "execution_count": null,
      "outputs": [
        {
          "output_type": "stream",
          "name": "stdout",
          "text": [
            "WARNING:tensorflow:Layer gru will not use cuDNN kernels since it doesn't meet the criteria. It will use a generic GPU kernel as fallback when running on GPU.\n"
          ]
        },
        {
          "output_type": "stream",
          "name": "stderr",
          "text": [
            "WARNING:tensorflow:Layer gru will not use cuDNN kernels since it doesn't meet the criteria. It will use a generic GPU kernel as fallback when running on GPU.\n"
          ]
        },
        {
          "output_type": "stream",
          "name": "stdout",
          "text": [
            "Epoch 1/100\n",
            "13/17 [=====================>........] - ETA: 0s - loss: 8842.3965INFO:tensorflow:Assets written to: model_experiments/model_5_GRU/assets\n"
          ]
        },
        {
          "output_type": "stream",
          "name": "stderr",
          "text": [
            "INFO:tensorflow:Assets written to: model_experiments/model_5_GRU/assets\n",
            "WARNING:absl:<keras.layers.recurrent.GRUCell object at 0x7f1d82968b50> has the same name 'GRUCell' as a built-in Keras object. Consider renaming <class 'keras.layers.recurrent.GRUCell'> to avoid naming conflicts when loading with `tf.keras.models.load_model`. If renaming is not possible, pass the object in the `custom_objects` parameter of the load function.\n"
          ]
        },
        {
          "output_type": "stream",
          "name": "stdout",
          "text": [
            "\b\b\b\b\b\b\b\b\b\b\b\b\b\b\b\b\b\b\b\b\b\b\b\b\b\b\b\b\b\b\b\b\b\b\b\b\b\b\b\b\b\b\b\b\b\b\b\b\b\b\b\b\b\b\b\b\b\b\b\b\b\b\b\b\b\b\r17/17 [==============================] - 4s 155ms/step - loss: 8370.9844 - val_loss: 7586.6851\n",
            "Epoch 2/100\n",
            "17/17 [==============================] - ETA: 0s - loss: 4959.2456INFO:tensorflow:Assets written to: model_experiments/model_5_GRU/assets\n"
          ]
        },
        {
          "output_type": "stream",
          "name": "stderr",
          "text": [
            "INFO:tensorflow:Assets written to: model_experiments/model_5_GRU/assets\n",
            "WARNING:absl:<keras.layers.recurrent.GRUCell object at 0x7f1d82968b50> has the same name 'GRUCell' as a built-in Keras object. Consider renaming <class 'keras.layers.recurrent.GRUCell'> to avoid naming conflicts when loading with `tf.keras.models.load_model`. If renaming is not possible, pass the object in the `custom_objects` parameter of the load function.\n"
          ]
        },
        {
          "output_type": "stream",
          "name": "stdout",
          "text": [
            "\b\b\b\b\b\b\b\b\b\b\b\b\b\b\b\b\b\b\b\b\b\b\b\b\b\b\b\b\b\b\b\b\b\b\b\b\b\b\b\b\b\b\b\b\b\b\b\b\b\b\b\b\b\b\b\b\b\b\b\b\b\b\b\b\b\b\r17/17 [==============================] - 3s 163ms/step - loss: 4959.2456 - val_loss: 5637.7939\n",
            "Epoch 3/100\n",
            "13/17 [=====================>........] - ETA: 0s - loss: 2963.5386INFO:tensorflow:Assets written to: model_experiments/model_5_GRU/assets\n"
          ]
        },
        {
          "output_type": "stream",
          "name": "stderr",
          "text": [
            "INFO:tensorflow:Assets written to: model_experiments/model_5_GRU/assets\n",
            "WARNING:absl:<keras.layers.recurrent.GRUCell object at 0x7f1d82968b50> has the same name 'GRUCell' as a built-in Keras object. Consider renaming <class 'keras.layers.recurrent.GRUCell'> to avoid naming conflicts when loading with `tf.keras.models.load_model`. If renaming is not possible, pass the object in the `custom_objects` parameter of the load function.\n"
          ]
        },
        {
          "output_type": "stream",
          "name": "stdout",
          "text": [
            "\b\b\b\b\b\b\b\b\b\b\b\b\b\b\b\b\b\b\b\b\b\b\b\b\b\b\b\b\b\b\b\b\b\b\b\b\b\b\b\b\b\b\b\b\b\b\b\b\b\b\b\b\b\b\b\b\b\b\b\b\b\b\b\b\b\b\r17/17 [==============================] - 2s 139ms/step - loss: 2749.5237 - val_loss: 5340.6714\n",
            "Epoch 4/100\n",
            "12/17 [====================>.........] - ETA: 0s - loss: 2013.7521INFO:tensorflow:Assets written to: model_experiments/model_5_GRU/assets\n"
          ]
        },
        {
          "output_type": "stream",
          "name": "stderr",
          "text": [
            "INFO:tensorflow:Assets written to: model_experiments/model_5_GRU/assets\n",
            "WARNING:absl:<keras.layers.recurrent.GRUCell object at 0x7f1d82968b50> has the same name 'GRUCell' as a built-in Keras object. Consider renaming <class 'keras.layers.recurrent.GRUCell'> to avoid naming conflicts when loading with `tf.keras.models.load_model`. If renaming is not possible, pass the object in the `custom_objects` parameter of the load function.\n"
          ]
        },
        {
          "output_type": "stream",
          "name": "stdout",
          "text": [
            "\b\b\b\b\b\b\b\b\b\b\b\b\b\b\b\b\b\b\b\b\b\b\b\b\b\b\b\b\b\b\b\b\b\b\b\b\b\b\b\b\b\b\b\b\b\b\b\b\b\b\b\b\b\b\b\b\b\b\b\b\b\b\b\b\b\b\r17/17 [==============================] - 2s 139ms/step - loss: 2165.5537 - val_loss: 5242.8032\n",
            "Epoch 5/100\n",
            "13/17 [=====================>........] - ETA: 0s - loss: 2189.2810INFO:tensorflow:Assets written to: model_experiments/model_5_GRU/assets\n"
          ]
        },
        {
          "output_type": "stream",
          "name": "stderr",
          "text": [
            "INFO:tensorflow:Assets written to: model_experiments/model_5_GRU/assets\n",
            "WARNING:absl:<keras.layers.recurrent.GRUCell object at 0x7f1d82968b50> has the same name 'GRUCell' as a built-in Keras object. Consider renaming <class 'keras.layers.recurrent.GRUCell'> to avoid naming conflicts when loading with `tf.keras.models.load_model`. If renaming is not possible, pass the object in the `custom_objects` parameter of the load function.\n"
          ]
        },
        {
          "output_type": "stream",
          "name": "stdout",
          "text": [
            "\b\b\b\b\b\b\b\b\b\b\b\b\b\b\b\b\b\b\b\b\b\b\b\b\b\b\b\b\b\b\b\b\b\b\b\b\b\b\b\b\b\b\b\b\b\b\b\b\b\b\b\b\b\b\b\b\b\b\b\b\b\b\b\b\b\b\r17/17 [==============================] - 2s 138ms/step - loss: 2093.0984 - val_loss: 5059.3755\n",
            "Epoch 6/100\n",
            "12/17 [====================>.........] - ETA: 0s - loss: 2121.5320INFO:tensorflow:Assets written to: model_experiments/model_5_GRU/assets\n"
          ]
        },
        {
          "output_type": "stream",
          "name": "stderr",
          "text": [
            "INFO:tensorflow:Assets written to: model_experiments/model_5_GRU/assets\n",
            "WARNING:absl:<keras.layers.recurrent.GRUCell object at 0x7f1d82968b50> has the same name 'GRUCell' as a built-in Keras object. Consider renaming <class 'keras.layers.recurrent.GRUCell'> to avoid naming conflicts when loading with `tf.keras.models.load_model`. If renaming is not possible, pass the object in the `custom_objects` parameter of the load function.\n"
          ]
        },
        {
          "output_type": "stream",
          "name": "stdout",
          "text": [
            "\b\b\b\b\b\b\b\b\b\b\b\b\b\b\b\b\b\b\b\b\b\b\b\b\b\b\b\b\b\b\b\b\b\b\b\b\b\b\b\b\b\b\b\b\b\b\b\b\b\b\b\b\b\b\b\b\b\b\b\b\b\b\b\b\b\b\r17/17 [==============================] - 2s 143ms/step - loss: 2076.8359 - val_loss: 5008.4722\n",
            "Epoch 7/100\n",
            "13/17 [=====================>........] - ETA: 0s - loss: 2098.7571INFO:tensorflow:Assets written to: model_experiments/model_5_GRU/assets\n"
          ]
        },
        {
          "output_type": "stream",
          "name": "stderr",
          "text": [
            "INFO:tensorflow:Assets written to: model_experiments/model_5_GRU/assets\n",
            "WARNING:absl:<keras.layers.recurrent.GRUCell object at 0x7f1d82968b50> has the same name 'GRUCell' as a built-in Keras object. Consider renaming <class 'keras.layers.recurrent.GRUCell'> to avoid naming conflicts when loading with `tf.keras.models.load_model`. If renaming is not possible, pass the object in the `custom_objects` parameter of the load function.\n"
          ]
        },
        {
          "output_type": "stream",
          "name": "stdout",
          "text": [
            "\b\b\b\b\b\b\b\b\b\b\b\b\b\b\b\b\b\b\b\b\b\b\b\b\b\b\b\b\b\b\b\b\b\b\b\b\b\b\b\b\b\b\b\b\b\b\b\b\b\b\b\b\b\b\b\b\b\b\b\b\b\b\b\b\b\b\r17/17 [==============================] - 3s 217ms/step - loss: 2037.7291 - val_loss: 4935.8267\n",
            "Epoch 8/100\n",
            "17/17 [==============================] - 0s 12ms/step - loss: 2015.6212 - val_loss: 4994.5698\n",
            "Epoch 9/100\n",
            "17/17 [==============================] - ETA: 0s - loss: 2011.3674INFO:tensorflow:Assets written to: model_experiments/model_5_GRU/assets\n"
          ]
        },
        {
          "output_type": "stream",
          "name": "stderr",
          "text": [
            "INFO:tensorflow:Assets written to: model_experiments/model_5_GRU/assets\n",
            "WARNING:absl:<keras.layers.recurrent.GRUCell object at 0x7f1d82968b50> has the same name 'GRUCell' as a built-in Keras object. Consider renaming <class 'keras.layers.recurrent.GRUCell'> to avoid naming conflicts when loading with `tf.keras.models.load_model`. If renaming is not possible, pass the object in the `custom_objects` parameter of the load function.\n"
          ]
        },
        {
          "output_type": "stream",
          "name": "stdout",
          "text": [
            "\b\b\b\b\b\b\b\b\b\b\b\b\b\b\b\b\b\b\b\b\b\b\b\b\b\b\b\b\b\b\b\b\b\b\b\b\b\b\b\b\b\b\b\b\b\b\b\b\b\b\b\b\b\b\b\b\b\b\b\b\b\b\b\b\b\b\r17/17 [==============================] - 2s 144ms/step - loss: 2011.3674 - val_loss: 4825.4980\n",
            "Epoch 10/100\n",
            "17/17 [==============================] - 0s 11ms/step - loss: 2012.0344 - val_loss: 4922.3530\n",
            "Epoch 11/100\n",
            "17/17 [==============================] - 0s 11ms/step - loss: 2017.3798 - val_loss: 4834.8213\n",
            "Epoch 12/100\n",
            "14/17 [=======================>......] - ETA: 0s - loss: 1956.6710INFO:tensorflow:Assets written to: model_experiments/model_5_GRU/assets\n"
          ]
        },
        {
          "output_type": "stream",
          "name": "stderr",
          "text": [
            "INFO:tensorflow:Assets written to: model_experiments/model_5_GRU/assets\n",
            "WARNING:absl:<keras.layers.recurrent.GRUCell object at 0x7f1d82968b50> has the same name 'GRUCell' as a built-in Keras object. Consider renaming <class 'keras.layers.recurrent.GRUCell'> to avoid naming conflicts when loading with `tf.keras.models.load_model`. If renaming is not possible, pass the object in the `custom_objects` parameter of the load function.\n"
          ]
        },
        {
          "output_type": "stream",
          "name": "stdout",
          "text": [
            "\b\b\b\b\b\b\b\b\b\b\b\b\b\b\b\b\b\b\b\b\b\b\b\b\b\b\b\b\b\b\b\b\b\b\b\b\b\b\b\b\b\b\b\b\b\b\b\b\b\b\b\b\b\b\b\b\b\b\b\b\b\b\b\b\b\b\r17/17 [==============================] - 2s 141ms/step - loss: 1990.6509 - val_loss: 4776.3359\n",
            "Epoch 13/100\n",
            "12/17 [====================>.........] - ETA: 0s - loss: 1953.1581INFO:tensorflow:Assets written to: model_experiments/model_5_GRU/assets\n"
          ]
        },
        {
          "output_type": "stream",
          "name": "stderr",
          "text": [
            "INFO:tensorflow:Assets written to: model_experiments/model_5_GRU/assets\n",
            "WARNING:absl:<keras.layers.recurrent.GRUCell object at 0x7f1d82968b50> has the same name 'GRUCell' as a built-in Keras object. Consider renaming <class 'keras.layers.recurrent.GRUCell'> to avoid naming conflicts when loading with `tf.keras.models.load_model`. If renaming is not possible, pass the object in the `custom_objects` parameter of the load function.\n"
          ]
        },
        {
          "output_type": "stream",
          "name": "stdout",
          "text": [
            "\b\b\b\b\b\b\b\b\b\b\b\b\b\b\b\b\b\b\b\b\b\b\b\b\b\b\b\b\b\b\b\b\b\b\b\b\b\b\b\b\b\b\b\b\b\b\b\b\b\b\b\b\b\b\b\b\b\b\b\b\b\b\b\b\b\b\r17/17 [==============================] - 2s 142ms/step - loss: 1938.2404 - val_loss: 4626.7090\n",
            "Epoch 14/100\n",
            "13/17 [=====================>........] - ETA: 0s - loss: 1929.7443INFO:tensorflow:Assets written to: model_experiments/model_5_GRU/assets\n"
          ]
        },
        {
          "output_type": "stream",
          "name": "stderr",
          "text": [
            "INFO:tensorflow:Assets written to: model_experiments/model_5_GRU/assets\n",
            "WARNING:absl:<keras.layers.recurrent.GRUCell object at 0x7f1d82968b50> has the same name 'GRUCell' as a built-in Keras object. Consider renaming <class 'keras.layers.recurrent.GRUCell'> to avoid naming conflicts when loading with `tf.keras.models.load_model`. If renaming is not possible, pass the object in the `custom_objects` parameter of the load function.\n"
          ]
        },
        {
          "output_type": "stream",
          "name": "stdout",
          "text": [
            "\b\b\b\b\b\b\b\b\b\b\b\b\b\b\b\b\b\b\b\b\b\b\b\b\b\b\b\b\b\b\b\b\b\b\b\b\b\b\b\b\b\b\b\b\b\b\b\b\b\b\b\b\b\b\b\b\b\b\b\b\b\b\b\b\b\b\r17/17 [==============================] - 2s 141ms/step - loss: 1922.1958 - val_loss: 4616.8560\n",
            "Epoch 15/100\n",
            "13/17 [=====================>........] - ETA: 0s - loss: 1837.4354INFO:tensorflow:Assets written to: model_experiments/model_5_GRU/assets\n"
          ]
        },
        {
          "output_type": "stream",
          "name": "stderr",
          "text": [
            "INFO:tensorflow:Assets written to: model_experiments/model_5_GRU/assets\n",
            "WARNING:absl:<keras.layers.recurrent.GRUCell object at 0x7f1d82968b50> has the same name 'GRUCell' as a built-in Keras object. Consider renaming <class 'keras.layers.recurrent.GRUCell'> to avoid naming conflicts when loading with `tf.keras.models.load_model`. If renaming is not possible, pass the object in the `custom_objects` parameter of the load function.\n"
          ]
        },
        {
          "output_type": "stream",
          "name": "stdout",
          "text": [
            "\b\b\b\b\b\b\b\b\b\b\b\b\b\b\b\b\b\b\b\b\b\b\b\b\b\b\b\b\b\b\b\b\b\b\b\b\b\b\b\b\b\b\b\b\b\b\b\b\b\b\b\b\b\b\b\b\b\b\b\b\b\b\b\b\b\b\r17/17 [==============================] - 2s 137ms/step - loss: 1889.0913 - val_loss: 4553.6724\n",
            "Epoch 16/100\n",
            "13/17 [=====================>........] - ETA: 0s - loss: 1938.3756INFO:tensorflow:Assets written to: model_experiments/model_5_GRU/assets\n"
          ]
        },
        {
          "output_type": "stream",
          "name": "stderr",
          "text": [
            "INFO:tensorflow:Assets written to: model_experiments/model_5_GRU/assets\n",
            "WARNING:absl:<keras.layers.recurrent.GRUCell object at 0x7f1d82968b50> has the same name 'GRUCell' as a built-in Keras object. Consider renaming <class 'keras.layers.recurrent.GRUCell'> to avoid naming conflicts when loading with `tf.keras.models.load_model`. If renaming is not possible, pass the object in the `custom_objects` parameter of the load function.\n"
          ]
        },
        {
          "output_type": "stream",
          "name": "stdout",
          "text": [
            "\b\b\b\b\b\b\b\b\b\b\b\b\b\b\b\b\b\b\b\b\b\b\b\b\b\b\b\b\b\b\b\b\b\b\b\b\b\b\b\b\b\b\b\b\b\b\b\b\b\b\b\b\b\b\b\b\b\b\b\b\b\b\b\b\b\b\r17/17 [==============================] - 3s 175ms/step - loss: 1868.4860 - val_loss: 4519.4409\n",
            "Epoch 17/100\n",
            "17/17 [==============================] - ETA: 0s - loss: 1850.8666INFO:tensorflow:Assets written to: model_experiments/model_5_GRU/assets\n"
          ]
        },
        {
          "output_type": "stream",
          "name": "stderr",
          "text": [
            "INFO:tensorflow:Assets written to: model_experiments/model_5_GRU/assets\n",
            "WARNING:absl:<keras.layers.recurrent.GRUCell object at 0x7f1d82968b50> has the same name 'GRUCell' as a built-in Keras object. Consider renaming <class 'keras.layers.recurrent.GRUCell'> to avoid naming conflicts when loading with `tf.keras.models.load_model`. If renaming is not possible, pass the object in the `custom_objects` parameter of the load function.\n"
          ]
        },
        {
          "output_type": "stream",
          "name": "stdout",
          "text": [
            "\b\b\b\b\b\b\b\b\b\b\b\b\b\b\b\b\b\b\b\b\b\b\b\b\b\b\b\b\b\b\b\b\b\b\b\b\b\b\b\b\b\b\b\b\b\b\b\b\b\b\b\b\b\b\b\b\b\b\b\b\b\b\b\b\b\b\r17/17 [==============================] - 2s 148ms/step - loss: 1850.8666 - val_loss: 4479.2656\n",
            "Epoch 18/100\n",
            "13/17 [=====================>........] - ETA: 0s - loss: 1769.6061INFO:tensorflow:Assets written to: model_experiments/model_5_GRU/assets\n"
          ]
        },
        {
          "output_type": "stream",
          "name": "stderr",
          "text": [
            "INFO:tensorflow:Assets written to: model_experiments/model_5_GRU/assets\n",
            "WARNING:absl:<keras.layers.recurrent.GRUCell object at 0x7f1d82968b50> has the same name 'GRUCell' as a built-in Keras object. Consider renaming <class 'keras.layers.recurrent.GRUCell'> to avoid naming conflicts when loading with `tf.keras.models.load_model`. If renaming is not possible, pass the object in the `custom_objects` parameter of the load function.\n"
          ]
        },
        {
          "output_type": "stream",
          "name": "stdout",
          "text": [
            "\b\b\b\b\b\b\b\b\b\b\b\b\b\b\b\b\b\b\b\b\b\b\b\b\b\b\b\b\b\b\b\b\b\b\b\b\b\b\b\b\b\b\b\b\b\b\b\b\b\b\b\b\b\b\b\b\b\b\b\b\b\b\b\b\b\b\r17/17 [==============================] - 2s 141ms/step - loss: 1825.6395 - val_loss: 4394.7900\n",
            "Epoch 19/100\n",
            "17/17 [==============================] - 0s 11ms/step - loss: 1839.6029 - val_loss: 4479.4150\n",
            "Epoch 20/100\n",
            "12/17 [====================>.........] - ETA: 0s - loss: 1847.5282INFO:tensorflow:Assets written to: model_experiments/model_5_GRU/assets\n"
          ]
        },
        {
          "output_type": "stream",
          "name": "stderr",
          "text": [
            "INFO:tensorflow:Assets written to: model_experiments/model_5_GRU/assets\n",
            "WARNING:absl:<keras.layers.recurrent.GRUCell object at 0x7f1d82968b50> has the same name 'GRUCell' as a built-in Keras object. Consider renaming <class 'keras.layers.recurrent.GRUCell'> to avoid naming conflicts when loading with `tf.keras.models.load_model`. If renaming is not possible, pass the object in the `custom_objects` parameter of the load function.\n"
          ]
        },
        {
          "output_type": "stream",
          "name": "stdout",
          "text": [
            "\b\b\b\b\b\b\b\b\b\b\b\b\b\b\b\b\b\b\b\b\b\b\b\b\b\b\b\b\b\b\b\b\b\b\b\b\b\b\b\b\b\b\b\b\b\b\b\b\b\b\b\b\b\b\b\b\b\b\b\b\b\b\b\b\b\b\r17/17 [==============================] - 2s 142ms/step - loss: 1857.1293 - val_loss: 4377.5879\n",
            "Epoch 21/100\n",
            "17/17 [==============================] - 0s 12ms/step - loss: 1846.8850 - val_loss: 4381.4546\n",
            "Epoch 22/100\n",
            "13/17 [=====================>........] - ETA: 0s - loss: 1814.6310INFO:tensorflow:Assets written to: model_experiments/model_5_GRU/assets\n"
          ]
        },
        {
          "output_type": "stream",
          "name": "stderr",
          "text": [
            "INFO:tensorflow:Assets written to: model_experiments/model_5_GRU/assets\n",
            "WARNING:absl:<keras.layers.recurrent.GRUCell object at 0x7f1d82968b50> has the same name 'GRUCell' as a built-in Keras object. Consider renaming <class 'keras.layers.recurrent.GRUCell'> to avoid naming conflicts when loading with `tf.keras.models.load_model`. If renaming is not possible, pass the object in the `custom_objects` parameter of the load function.\n"
          ]
        },
        {
          "output_type": "stream",
          "name": "stdout",
          "text": [
            "\b\b\b\b\b\b\b\b\b\b\b\b\b\b\b\b\b\b\b\b\b\b\b\b\b\b\b\b\b\b\b\b\b\b\b\b\b\b\b\b\b\b\b\b\b\b\b\b\b\b\b\b\b\b\b\b\b\b\b\b\b\b\b\b\b\b\r17/17 [==============================] - 2s 138ms/step - loss: 1822.2448 - val_loss: 4243.4990\n",
            "Epoch 23/100\n",
            "17/17 [==============================] - 0s 11ms/step - loss: 1818.1357 - val_loss: 4347.6323\n",
            "Epoch 24/100\n",
            "13/17 [=====================>........] - ETA: 0s - loss: 1737.8058INFO:tensorflow:Assets written to: model_experiments/model_5_GRU/assets\n"
          ]
        },
        {
          "output_type": "stream",
          "name": "stderr",
          "text": [
            "INFO:tensorflow:Assets written to: model_experiments/model_5_GRU/assets\n",
            "WARNING:absl:<keras.layers.recurrent.GRUCell object at 0x7f1d82968b50> has the same name 'GRUCell' as a built-in Keras object. Consider renaming <class 'keras.layers.recurrent.GRUCell'> to avoid naming conflicts when loading with `tf.keras.models.load_model`. If renaming is not possible, pass the object in the `custom_objects` parameter of the load function.\n"
          ]
        },
        {
          "output_type": "stream",
          "name": "stdout",
          "text": [
            "\b\b\b\b\b\b\b\b\b\b\b\b\b\b\b\b\b\b\b\b\b\b\b\b\b\b\b\b\b\b\b\b\b\b\b\b\b\b\b\b\b\b\b\b\b\b\b\b\b\b\b\b\b\b\b\b\b\b\b\b\b\b\b\b\b\b\r17/17 [==============================] - 2s 139ms/step - loss: 1788.3228 - val_loss: 4207.7480\n",
            "Epoch 25/100\n",
            "12/17 [====================>.........] - ETA: 0s - loss: 1791.9283INFO:tensorflow:Assets written to: model_experiments/model_5_GRU/assets\n"
          ]
        },
        {
          "output_type": "stream",
          "name": "stderr",
          "text": [
            "INFO:tensorflow:Assets written to: model_experiments/model_5_GRU/assets\n",
            "WARNING:absl:<keras.layers.recurrent.GRUCell object at 0x7f1d82968b50> has the same name 'GRUCell' as a built-in Keras object. Consider renaming <class 'keras.layers.recurrent.GRUCell'> to avoid naming conflicts when loading with `tf.keras.models.load_model`. If renaming is not possible, pass the object in the `custom_objects` parameter of the load function.\n"
          ]
        },
        {
          "output_type": "stream",
          "name": "stdout",
          "text": [
            "\b\b\b\b\b\b\b\b\b\b\b\b\b\b\b\b\b\b\b\b\b\b\b\b\b\b\b\b\b\b\b\b\b\b\b\b\b\b\b\b\b\b\b\b\b\b\b\b\b\b\b\b\b\b\b\b\b\b\b\b\b\b\b\b\b\b\r17/17 [==============================] - 3s 179ms/step - loss: 1789.5590 - val_loss: 4104.9448\n",
            "Epoch 26/100\n",
            "17/17 [==============================] - 0s 12ms/step - loss: 1797.4412 - val_loss: 4122.7925\n",
            "Epoch 27/100\n",
            "13/17 [=====================>........] - ETA: 0s - loss: 1713.7050INFO:tensorflow:Assets written to: model_experiments/model_5_GRU/assets\n"
          ]
        },
        {
          "output_type": "stream",
          "name": "stderr",
          "text": [
            "INFO:tensorflow:Assets written to: model_experiments/model_5_GRU/assets\n",
            "WARNING:absl:<keras.layers.recurrent.GRUCell object at 0x7f1d82968b50> has the same name 'GRUCell' as a built-in Keras object. Consider renaming <class 'keras.layers.recurrent.GRUCell'> to avoid naming conflicts when loading with `tf.keras.models.load_model`. If renaming is not possible, pass the object in the `custom_objects` parameter of the load function.\n"
          ]
        },
        {
          "output_type": "stream",
          "name": "stdout",
          "text": [
            "\b\b\b\b\b\b\b\b\b\b\b\b\b\b\b\b\b\b\b\b\b\b\b\b\b\b\b\b\b\b\b\b\b\b\b\b\b\b\b\b\b\b\b\b\b\b\b\b\b\b\b\b\b\b\b\b\b\b\b\b\b\b\b\b\b\b\r17/17 [==============================] - 2s 140ms/step - loss: 1776.2633 - val_loss: 4010.0664\n",
            "Epoch 28/100\n",
            "17/17 [==============================] - 0s 10ms/step - loss: 1775.5426 - val_loss: 4030.2007\n",
            "Epoch 29/100\n",
            "12/17 [====================>.........] - ETA: 0s - loss: 1786.2554INFO:tensorflow:Assets written to: model_experiments/model_5_GRU/assets\n"
          ]
        },
        {
          "output_type": "stream",
          "name": "stderr",
          "text": [
            "INFO:tensorflow:Assets written to: model_experiments/model_5_GRU/assets\n",
            "WARNING:absl:<keras.layers.recurrent.GRUCell object at 0x7f1d82968b50> has the same name 'GRUCell' as a built-in Keras object. Consider renaming <class 'keras.layers.recurrent.GRUCell'> to avoid naming conflicts when loading with `tf.keras.models.load_model`. If renaming is not possible, pass the object in the `custom_objects` parameter of the load function.\n"
          ]
        },
        {
          "output_type": "stream",
          "name": "stdout",
          "text": [
            "\b\b\b\b\b\b\b\b\b\b\b\b\b\b\b\b\b\b\b\b\b\b\b\b\b\b\b\b\b\b\b\b\b\b\b\b\b\b\b\b\b\b\b\b\b\b\b\b\b\b\b\b\b\b\b\b\b\b\b\b\b\b\b\b\b\b\r17/17 [==============================] - 2s 138ms/step - loss: 1754.3417 - val_loss: 3994.3730\n",
            "Epoch 30/100\n",
            "13/17 [=====================>........] - ETA: 0s - loss: 1796.9551INFO:tensorflow:Assets written to: model_experiments/model_5_GRU/assets\n"
          ]
        },
        {
          "output_type": "stream",
          "name": "stderr",
          "text": [
            "INFO:tensorflow:Assets written to: model_experiments/model_5_GRU/assets\n",
            "WARNING:absl:<keras.layers.recurrent.GRUCell object at 0x7f1d82968b50> has the same name 'GRUCell' as a built-in Keras object. Consider renaming <class 'keras.layers.recurrent.GRUCell'> to avoid naming conflicts when loading with `tf.keras.models.load_model`. If renaming is not possible, pass the object in the `custom_objects` parameter of the load function.\n"
          ]
        },
        {
          "output_type": "stream",
          "name": "stdout",
          "text": [
            "\b\b\b\b\b\b\b\b\b\b\b\b\b\b\b\b\b\b\b\b\b\b\b\b\b\b\b\b\b\b\b\b\b\b\b\b\b\b\b\b\b\b\b\b\b\b\b\b\b\b\b\b\b\b\b\b\b\b\b\b\b\b\b\b\b\b\r17/17 [==============================] - 2s 138ms/step - loss: 1744.5078 - val_loss: 3975.6326\n",
            "Epoch 31/100\n",
            "13/17 [=====================>........] - ETA: 0s - loss: 1772.0376INFO:tensorflow:Assets written to: model_experiments/model_5_GRU/assets\n"
          ]
        },
        {
          "output_type": "stream",
          "name": "stderr",
          "text": [
            "INFO:tensorflow:Assets written to: model_experiments/model_5_GRU/assets\n",
            "WARNING:absl:<keras.layers.recurrent.GRUCell object at 0x7f1d82968b50> has the same name 'GRUCell' as a built-in Keras object. Consider renaming <class 'keras.layers.recurrent.GRUCell'> to avoid naming conflicts when loading with `tf.keras.models.load_model`. If renaming is not possible, pass the object in the `custom_objects` parameter of the load function.\n"
          ]
        },
        {
          "output_type": "stream",
          "name": "stdout",
          "text": [
            "\b\b\b\b\b\b\b\b\b\b\b\b\b\b\b\b\b\b\b\b\b\b\b\b\b\b\b\b\b\b\b\b\b\b\b\b\b\b\b\b\b\b\b\b\b\b\b\b\b\b\b\b\b\b\b\b\b\b\b\b\b\b\b\b\b\b\r17/17 [==============================] - 2s 139ms/step - loss: 1736.6521 - val_loss: 3951.6406\n",
            "Epoch 32/100\n",
            "17/17 [==============================] - ETA: 0s - loss: 1722.2448INFO:tensorflow:Assets written to: model_experiments/model_5_GRU/assets\n"
          ]
        },
        {
          "output_type": "stream",
          "name": "stderr",
          "text": [
            "INFO:tensorflow:Assets written to: model_experiments/model_5_GRU/assets\n",
            "WARNING:absl:<keras.layers.recurrent.GRUCell object at 0x7f1d82968b50> has the same name 'GRUCell' as a built-in Keras object. Consider renaming <class 'keras.layers.recurrent.GRUCell'> to avoid naming conflicts when loading with `tf.keras.models.load_model`. If renaming is not possible, pass the object in the `custom_objects` parameter of the load function.\n"
          ]
        },
        {
          "output_type": "stream",
          "name": "stdout",
          "text": [
            "\b\b\b\b\b\b\b\b\b\b\b\b\b\b\b\b\b\b\b\b\b\b\b\b\b\b\b\b\b\b\b\b\b\b\b\b\b\b\b\b\b\b\b\b\b\b\b\b\b\b\b\b\b\b\b\b\b\b\b\b\b\b\b\b\b\b\r17/17 [==============================] - 2s 139ms/step - loss: 1722.2448 - val_loss: 3914.7458\n",
            "Epoch 33/100\n",
            "13/17 [=====================>........] - ETA: 0s - loss: 1765.3430INFO:tensorflow:Assets written to: model_experiments/model_5_GRU/assets\n"
          ]
        },
        {
          "output_type": "stream",
          "name": "stderr",
          "text": [
            "INFO:tensorflow:Assets written to: model_experiments/model_5_GRU/assets\n",
            "WARNING:absl:<keras.layers.recurrent.GRUCell object at 0x7f1d82968b50> has the same name 'GRUCell' as a built-in Keras object. Consider renaming <class 'keras.layers.recurrent.GRUCell'> to avoid naming conflicts when loading with `tf.keras.models.load_model`. If renaming is not possible, pass the object in the `custom_objects` parameter of the load function.\n"
          ]
        },
        {
          "output_type": "stream",
          "name": "stdout",
          "text": [
            "\b\b\b\b\b\b\b\b\b\b\b\b\b\b\b\b\b\b\b\b\b\b\b\b\b\b\b\b\b\b\b\b\b\b\b\b\b\b\b\b\b\b\b\b\b\b\b\b\b\b\b\b\b\b\b\b\b\b\b\b\b\b\b\b\b\b\r17/17 [==============================] - 3s 179ms/step - loss: 1725.7660 - val_loss: 3894.9631\n",
            "Epoch 34/100\n",
            "13/17 [=====================>........] - ETA: 0s - loss: 1737.4755INFO:tensorflow:Assets written to: model_experiments/model_5_GRU/assets\n"
          ]
        },
        {
          "output_type": "stream",
          "name": "stderr",
          "text": [
            "INFO:tensorflow:Assets written to: model_experiments/model_5_GRU/assets\n",
            "WARNING:absl:<keras.layers.recurrent.GRUCell object at 0x7f1d82968b50> has the same name 'GRUCell' as a built-in Keras object. Consider renaming <class 'keras.layers.recurrent.GRUCell'> to avoid naming conflicts when loading with `tf.keras.models.load_model`. If renaming is not possible, pass the object in the `custom_objects` parameter of the load function.\n"
          ]
        },
        {
          "output_type": "stream",
          "name": "stdout",
          "text": [
            "\b\b\b\b\b\b\b\b\b\b\b\b\b\b\b\b\b\b\b\b\b\b\b\b\b\b\b\b\b\b\b\b\b\b\b\b\b\b\b\b\b\b\b\b\b\b\b\b\b\b\b\b\b\b\b\b\b\b\b\b\b\b\b\b\b\b\r17/17 [==============================] - 2s 143ms/step - loss: 1698.7561 - val_loss: 3721.9265\n",
            "Epoch 35/100\n",
            "17/17 [==============================] - 0s 11ms/step - loss: 1669.4055 - val_loss: 3741.4080\n",
            "Epoch 36/100\n",
            "12/17 [====================>.........] - ETA: 0s - loss: 1729.8312INFO:tensorflow:Assets written to: model_experiments/model_5_GRU/assets\n"
          ]
        },
        {
          "output_type": "stream",
          "name": "stderr",
          "text": [
            "INFO:tensorflow:Assets written to: model_experiments/model_5_GRU/assets\n",
            "WARNING:absl:<keras.layers.recurrent.GRUCell object at 0x7f1d82968b50> has the same name 'GRUCell' as a built-in Keras object. Consider renaming <class 'keras.layers.recurrent.GRUCell'> to avoid naming conflicts when loading with `tf.keras.models.load_model`. If renaming is not possible, pass the object in the `custom_objects` parameter of the load function.\n"
          ]
        },
        {
          "output_type": "stream",
          "name": "stdout",
          "text": [
            "\b\b\b\b\b\b\b\b\b\b\b\b\b\b\b\b\b\b\b\b\b\b\b\b\b\b\b\b\b\b\b\b\b\b\b\b\b\b\b\b\b\b\b\b\b\b\b\b\b\b\b\b\b\b\b\b\b\b\b\b\b\b\b\b\b\b\r17/17 [==============================] - 2s 144ms/step - loss: 1657.2164 - val_loss: 3656.4727\n",
            "Epoch 37/100\n",
            "17/17 [==============================] - 0s 22ms/step - loss: 1694.8307 - val_loss: 3703.2156\n",
            "Epoch 38/100\n",
            "17/17 [==============================] - 0s 27ms/step - loss: 1640.8389 - val_loss: 3877.2830\n",
            "Epoch 39/100\n",
            "17/17 [==============================] - 0s 26ms/step - loss: 1680.1465 - val_loss: 3900.1919\n",
            "Epoch 40/100\n",
            "17/17 [==============================] - 0s 16ms/step - loss: 1678.1675 - val_loss: 3846.8125\n",
            "Epoch 41/100\n",
            "17/17 [==============================] - 0s 11ms/step - loss: 1660.5498 - val_loss: 3795.7017\n",
            "Epoch 42/100\n",
            "17/17 [==============================] - 0s 28ms/step - loss: 1665.9816 - val_loss: 3836.2498\n",
            "Epoch 43/100\n",
            "17/17 [==============================] - 1s 38ms/step - loss: 1641.0103 - val_loss: 3700.2788\n",
            "Epoch 44/100\n",
            "17/17 [==============================] - 0s 15ms/step - loss: 1652.8396 - val_loss: 3713.3325\n",
            "Epoch 45/100\n",
            "17/17 [==============================] - 0s 11ms/step - loss: 1645.0863 - val_loss: 3744.6775\n",
            "Epoch 46/100\n",
            "17/17 [==============================] - 0s 12ms/step - loss: 1634.7747 - val_loss: 3769.4180\n",
            "Epoch 47/100\n",
            "17/17 [==============================] - 0s 11ms/step - loss: 1627.4156 - val_loss: 3760.4001\n",
            "Epoch 48/100\n",
            "17/17 [==============================] - 0s 11ms/step - loss: 1621.3274 - val_loss: 3701.3074\n",
            "Epoch 49/100\n",
            "17/17 [==============================] - 0s 13ms/step - loss: 1613.8468 - val_loss: 3776.2471\n",
            "Epoch 50/100\n",
            "17/17 [==============================] - 0s 12ms/step - loss: 1609.5167 - val_loss: 3718.6685\n",
            "Epoch 51/100\n",
            "17/17 [==============================] - ETA: 0s - loss: 1615.1852INFO:tensorflow:Assets written to: model_experiments/model_5_GRU/assets\n"
          ]
        },
        {
          "output_type": "stream",
          "name": "stderr",
          "text": [
            "INFO:tensorflow:Assets written to: model_experiments/model_5_GRU/assets\n",
            "WARNING:absl:<keras.layers.recurrent.GRUCell object at 0x7f1d82968b50> has the same name 'GRUCell' as a built-in Keras object. Consider renaming <class 'keras.layers.recurrent.GRUCell'> to avoid naming conflicts when loading with `tf.keras.models.load_model`. If renaming is not possible, pass the object in the `custom_objects` parameter of the load function.\n"
          ]
        },
        {
          "output_type": "stream",
          "name": "stdout",
          "text": [
            "\b\b\b\b\b\b\b\b\b\b\b\b\b\b\b\b\b\b\b\b\b\b\b\b\b\b\b\b\b\b\b\b\b\b\b\b\b\b\b\b\b\b\b\b\b\b\b\b\b\b\b\b\b\b\b\b\b\b\b\b\b\b\b\b\b\b\r17/17 [==============================] - 2s 144ms/step - loss: 1615.1852 - val_loss: 3652.8567\n",
            "Epoch 52/100\n",
            "17/17 [==============================] - 0s 11ms/step - loss: 1596.2700 - val_loss: 3747.9326\n",
            "Epoch 53/100\n",
            "13/17 [=====================>........] - ETA: 0s - loss: 1501.0332INFO:tensorflow:Assets written to: model_experiments/model_5_GRU/assets\n"
          ]
        },
        {
          "output_type": "stream",
          "name": "stderr",
          "text": [
            "INFO:tensorflow:Assets written to: model_experiments/model_5_GRU/assets\n",
            "WARNING:absl:<keras.layers.recurrent.GRUCell object at 0x7f1d82968b50> has the same name 'GRUCell' as a built-in Keras object. Consider renaming <class 'keras.layers.recurrent.GRUCell'> to avoid naming conflicts when loading with `tf.keras.models.load_model`. If renaming is not possible, pass the object in the `custom_objects` parameter of the load function.\n"
          ]
        },
        {
          "output_type": "stream",
          "name": "stdout",
          "text": [
            "\b\b\b\b\b\b\b\b\b\b\b\b\b\b\b\b\b\b\b\b\b\b\b\b\b\b\b\b\b\b\b\b\b\b\b\b\b\b\b\b\b\b\b\b\b\b\b\b\b\b\b\b\b\b\b\b\b\b\b\b\b\b\b\b\b\b\r17/17 [==============================] - 2s 141ms/step - loss: 1595.4985 - val_loss: 3601.1670\n",
            "Epoch 54/100\n",
            "17/17 [==============================] - 0s 11ms/step - loss: 1582.7487 - val_loss: 3617.0706\n",
            "Epoch 55/100\n",
            "12/17 [====================>.........] - ETA: 0s - loss: 1598.9633INFO:tensorflow:Assets written to: model_experiments/model_5_GRU/assets\n"
          ]
        },
        {
          "output_type": "stream",
          "name": "stderr",
          "text": [
            "INFO:tensorflow:Assets written to: model_experiments/model_5_GRU/assets\n",
            "WARNING:absl:<keras.layers.recurrent.GRUCell object at 0x7f1d82968b50> has the same name 'GRUCell' as a built-in Keras object. Consider renaming <class 'keras.layers.recurrent.GRUCell'> to avoid naming conflicts when loading with `tf.keras.models.load_model`. If renaming is not possible, pass the object in the `custom_objects` parameter of the load function.\n"
          ]
        },
        {
          "output_type": "stream",
          "name": "stdout",
          "text": [
            "\b\b\b\b\b\b\b\b\b\b\b\b\b\b\b\b\b\b\b\b\b\b\b\b\b\b\b\b\b\b\b\b\b\b\b\b\b\b\b\b\b\b\b\b\b\b\b\b\b\b\b\b\b\b\b\b\b\b\b\b\b\b\b\b\b\b\r17/17 [==============================] - 2s 144ms/step - loss: 1559.1140 - val_loss: 3575.3191\n",
            "Epoch 56/100\n",
            "12/17 [====================>.........] - ETA: 0s - loss: 1512.8955INFO:tensorflow:Assets written to: model_experiments/model_5_GRU/assets\n"
          ]
        },
        {
          "output_type": "stream",
          "name": "stderr",
          "text": [
            "INFO:tensorflow:Assets written to: model_experiments/model_5_GRU/assets\n",
            "WARNING:absl:<keras.layers.recurrent.GRUCell object at 0x7f1d82968b50> has the same name 'GRUCell' as a built-in Keras object. Consider renaming <class 'keras.layers.recurrent.GRUCell'> to avoid naming conflicts when loading with `tf.keras.models.load_model`. If renaming is not possible, pass the object in the `custom_objects` parameter of the load function.\n"
          ]
        },
        {
          "output_type": "stream",
          "name": "stdout",
          "text": [
            "\b\b\b\b\b\b\b\b\b\b\b\b\b\b\b\b\b\b\b\b\b\b\b\b\b\b\b\b\b\b\b\b\b\b\b\b\b\b\b\b\b\b\b\b\b\b\b\b\b\b\b\b\b\b\b\b\b\b\b\b\b\b\b\b\b\b\r17/17 [==============================] - 3s 179ms/step - loss: 1575.5370 - val_loss: 3555.8562\n",
            "Epoch 57/100\n",
            "17/17 [==============================] - 0s 12ms/step - loss: 1559.2426 - val_loss: 3697.1316\n",
            "Epoch 58/100\n",
            "17/17 [==============================] - 0s 11ms/step - loss: 1589.1357 - val_loss: 4013.1577\n",
            "Epoch 59/100\n",
            "17/17 [==============================] - 0s 13ms/step - loss: 1611.7346 - val_loss: 3948.9675\n",
            "Epoch 60/100\n",
            "17/17 [==============================] - 0s 11ms/step - loss: 1600.2941 - val_loss: 3896.2341\n",
            "Epoch 61/100\n",
            "17/17 [==============================] - 0s 12ms/step - loss: 1619.4700 - val_loss: 3806.2861\n",
            "Epoch 62/100\n",
            "17/17 [==============================] - 0s 11ms/step - loss: 1592.7695 - val_loss: 3854.1824\n",
            "Epoch 63/100\n",
            "17/17 [==============================] - 0s 11ms/step - loss: 1587.5498 - val_loss: 3855.1096\n",
            "Epoch 64/100\n",
            "17/17 [==============================] - 0s 12ms/step - loss: 1581.1599 - val_loss: 3840.8352\n",
            "Epoch 65/100\n",
            "17/17 [==============================] - 0s 11ms/step - loss: 1579.0254 - val_loss: 3916.1382\n",
            "Epoch 66/100\n",
            "17/17 [==============================] - 0s 11ms/step - loss: 1576.1777 - val_loss: 3798.9446\n",
            "Epoch 67/100\n",
            "17/17 [==============================] - 0s 12ms/step - loss: 1569.5450 - val_loss: 3844.6023\n",
            "Epoch 68/100\n",
            "17/17 [==============================] - 0s 12ms/step - loss: 1562.8578 - val_loss: 3812.0544\n",
            "Epoch 69/100\n",
            "17/17 [==============================] - 0s 11ms/step - loss: 1573.5516 - val_loss: 3842.0928\n",
            "Epoch 70/100\n",
            "17/17 [==============================] - 0s 11ms/step - loss: 1553.6791 - val_loss: 3723.1548\n",
            "Epoch 71/100\n",
            "17/17 [==============================] - 0s 11ms/step - loss: 1548.2574 - val_loss: 3803.5337\n",
            "Epoch 72/100\n",
            "17/17 [==============================] - 0s 13ms/step - loss: 1565.1764 - val_loss: 3880.9712\n",
            "Epoch 73/100\n",
            "17/17 [==============================] - 0s 11ms/step - loss: 1540.7205 - val_loss: 3665.7471\n",
            "Epoch 74/100\n",
            "17/17 [==============================] - 0s 13ms/step - loss: 1549.2803 - val_loss: 3762.0825\n",
            "Epoch 75/100\n",
            "17/17 [==============================] - 0s 11ms/step - loss: 1541.1700 - val_loss: 3727.3181\n",
            "Epoch 76/100\n",
            "17/17 [==============================] - 0s 11ms/step - loss: 1537.9811 - val_loss: 3745.1467\n",
            "Epoch 77/100\n",
            "17/17 [==============================] - 0s 12ms/step - loss: 1538.0726 - val_loss: 3694.4578\n",
            "Epoch 78/100\n",
            "17/17 [==============================] - 0s 11ms/step - loss: 1556.7280 - val_loss: 3810.7791\n",
            "Epoch 79/100\n",
            "17/17 [==============================] - 0s 11ms/step - loss: 1533.6997 - val_loss: 3695.3103\n",
            "Epoch 80/100\n",
            "17/17 [==============================] - 0s 11ms/step - loss: 1528.7566 - val_loss: 3654.2244\n",
            "Epoch 81/100\n",
            "17/17 [==============================] - 0s 11ms/step - loss: 1531.0120 - val_loss: 3672.6602\n",
            "Epoch 82/100\n",
            "17/17 [==============================] - 0s 12ms/step - loss: 1516.0575 - val_loss: 3749.4062\n",
            "Epoch 83/100\n",
            "17/17 [==============================] - 0s 11ms/step - loss: 1517.4973 - val_loss: 3639.0862\n",
            "Epoch 84/100\n",
            "17/17 [==============================] - 0s 12ms/step - loss: 1523.1963 - val_loss: 3678.7729\n",
            "Epoch 85/100\n",
            "17/17 [==============================] - 0s 11ms/step - loss: 1524.7896 - val_loss: 3689.7610\n",
            "Epoch 86/100\n",
            "17/17 [==============================] - 0s 15ms/step - loss: 1518.2729 - val_loss: 3653.1765\n",
            "Epoch 87/100\n",
            "17/17 [==============================] - 0s 15ms/step - loss: 1511.3572 - val_loss: 3708.7864\n",
            "Epoch 88/100\n",
            "17/17 [==============================] - 0s 12ms/step - loss: 1500.9230 - val_loss: 3610.8689\n",
            "Epoch 89/100\n",
            "17/17 [==============================] - 0s 12ms/step - loss: 1506.9423 - val_loss: 3649.1526\n",
            "Epoch 90/100\n",
            "17/17 [==============================] - 0s 12ms/step - loss: 1502.8572 - val_loss: 3655.4751\n",
            "Epoch 91/100\n",
            "17/17 [==============================] - 0s 11ms/step - loss: 1493.2980 - val_loss: 3662.7966\n",
            "Epoch 92/100\n",
            "17/17 [==============================] - 0s 12ms/step - loss: 1490.4812 - val_loss: 3637.7551\n",
            "Epoch 93/100\n",
            "17/17 [==============================] - 0s 12ms/step - loss: 1491.2988 - val_loss: 3640.3435\n",
            "Epoch 94/100\n",
            "13/17 [=====================>........] - ETA: 0s - loss: 1559.2209INFO:tensorflow:Assets written to: model_experiments/model_5_GRU/assets\n"
          ]
        },
        {
          "output_type": "stream",
          "name": "stderr",
          "text": [
            "INFO:tensorflow:Assets written to: model_experiments/model_5_GRU/assets\n",
            "WARNING:absl:<keras.layers.recurrent.GRUCell object at 0x7f1d82968b50> has the same name 'GRUCell' as a built-in Keras object. Consider renaming <class 'keras.layers.recurrent.GRUCell'> to avoid naming conflicts when loading with `tf.keras.models.load_model`. If renaming is not possible, pass the object in the `custom_objects` parameter of the load function.\n"
          ]
        },
        {
          "output_type": "stream",
          "name": "stdout",
          "text": [
            "\b\b\b\b\b\b\b\b\b\b\b\b\b\b\b\b\b\b\b\b\b\b\b\b\b\b\b\b\b\b\b\b\b\b\b\b\b\b\b\b\b\b\b\b\b\b\b\b\b\b\b\b\b\b\b\b\b\b\b\b\b\b\b\b\b\b\r17/17 [==============================] - 2s 145ms/step - loss: 1509.5613 - val_loss: 3551.8445\n",
            "Epoch 95/100\n",
            "17/17 [==============================] - 0s 12ms/step - loss: 1498.5675 - val_loss: 3778.8374\n",
            "Epoch 96/100\n",
            "17/17 [==============================] - 0s 14ms/step - loss: 1502.0918 - val_loss: 3697.6680\n",
            "Epoch 97/100\n",
            "17/17 [==============================] - 0s 12ms/step - loss: 1491.9320 - val_loss: 3634.6914\n",
            "Epoch 98/100\n",
            "17/17 [==============================] - 0s 12ms/step - loss: 1476.5519 - val_loss: 3643.1958\n",
            "Epoch 99/100\n",
            "17/17 [==============================] - 0s 11ms/step - loss: 1481.1925 - val_loss: 3604.4729\n",
            "Epoch 100/100\n",
            "17/17 [==============================] - 0s 11ms/step - loss: 1486.2815 - val_loss: 3686.4568\n"
          ]
        },
        {
          "output_type": "execute_result",
          "data": {
            "text/plain": [
              "<keras.callbacks.History at 0x7f1d82784990>"
            ]
          },
          "metadata": {},
          "execution_count": 89
        }
      ]
    },
    {
      "cell_type": "code",
      "source": [
        "model_5.evaluate(test_windows,test_labels)"
      ],
      "metadata": {
        "colab": {
          "base_uri": "https://localhost:8080/"
        },
        "id": "ZCDtOMsRRHUS",
        "outputId": "86ce3388-0615-48f9-9288-f133e102559a"
      },
      "execution_count": null,
      "outputs": [
        {
          "output_type": "stream",
          "name": "stdout",
          "text": [
            "5/5 [==============================] - 0s 7ms/step - loss: 3686.4568\n"
          ]
        },
        {
          "output_type": "execute_result",
          "data": {
            "text/plain": [
              "3686.456787109375"
            ]
          },
          "metadata": {},
          "execution_count": 90
        }
      ]
    },
    {
      "cell_type": "code",
      "source": [
        "model_5 = tf.keras.models.load_model('model_experiments/model_5_GRU')\n",
        "model_5.evaluate(test_windows,test_labels)"
      ],
      "metadata": {
        "colab": {
          "base_uri": "https://localhost:8080/"
        },
        "id": "3V4FMQoIRHRS",
        "outputId": "cc7fbd89-609e-4496-b34e-6fe6f631b939"
      },
      "execution_count": null,
      "outputs": [
        {
          "output_type": "stream",
          "name": "stdout",
          "text": [
            "WARNING:tensorflow:Layer gru will not use cuDNN kernels since it doesn't meet the criteria. It will use a generic GPU kernel as fallback when running on GPU.\n"
          ]
        },
        {
          "output_type": "stream",
          "name": "stderr",
          "text": [
            "WARNING:tensorflow:Layer gru will not use cuDNN kernels since it doesn't meet the criteria. It will use a generic GPU kernel as fallback when running on GPU.\n"
          ]
        },
        {
          "output_type": "stream",
          "name": "stdout",
          "text": [
            "5/5 [==============================] - 0s 6ms/step - loss: 3551.8445\n"
          ]
        },
        {
          "output_type": "execute_result",
          "data": {
            "text/plain": [
              "3551.844482421875"
            ]
          },
          "metadata": {},
          "execution_count": 91
        }
      ]
    },
    {
      "cell_type": "code",
      "source": [
        "model_5_preds = make_preds(model_5, test_windows)"
      ],
      "metadata": {
        "id": "6aV11hFnRHLg"
      },
      "execution_count": null,
      "outputs": []
    },
    {
      "cell_type": "code",
      "source": [
        "model_5_results = evaluate_preds(test_labels,model_5_preds)\n",
        "model_5_results"
      ],
      "metadata": {
        "colab": {
          "base_uri": "https://localhost:8080/"
        },
        "id": "fMEdo7iURHH_",
        "outputId": "f4c7dc22-4b2e-4f13-8d38-59fe477a6c6d"
      },
      "execution_count": null,
      "outputs": [
        {
          "output_type": "execute_result",
          "data": {
            "text/plain": [
              "{'mae': 3551.8445, 'mape': 30.14126, 'mse': 43600064.0, 'rmse': 3918.8289}"
            ]
          },
          "metadata": {},
          "execution_count": 93
        }
      ]
    },
    {
      "cell_type": "code",
      "source": [
        "pd.DataFrame({\n",
        "              \"Conv1D_horizon_7_window_7\": model_1_results['mae'],\n",
        "              \"Conv1D_horizon_7_window_14\":model_2_results['mae'],\n",
        "              \"LSTM_horizon_7_window_7\":model_3_results['mae'],\n",
        "              \"GRU_horizon_7_window_7\":model_5_results['mae'],\n",
        "              \"N-BEATS_Model_horizon_7_window_7\":model_4_results['mae']}, index=['mae']).plot(figsize = (10,7), kind= 'bar');"
      ],
      "metadata": {
        "colab": {
          "base_uri": "https://localhost:8080/",
          "height": 440
        },
        "id": "lfHSCdL3lY0r",
        "outputId": "634cb64c-ebb1-4ef4-d338-f727cfcf3b66"
      },
      "execution_count": null,
      "outputs": [
        {
          "output_type": "display_data",
          "data": {
            "text/plain": [
              "<Figure size 720x504 with 1 Axes>"
            ],
            "image/png": "[encoded data removed]"
          },
          "metadata": {
            "needs_background": "light"
          }
        }
      ]
    },
    {
      "cell_type": "code",
      "source": [
        "# Plotting graph for N-Beats model\n",
        "plt.figure(figsize = (10,7))\n",
        "plot_time_series(timesteps = X_test[-len(test_windows):],\n",
        "                 values = test_labels[:,0],\n",
        "                 label = 'test_data')\n",
        "plot_time_series(timesteps = X_test[-len(test_windows):],\n",
        "                 values = tf.reduce_mean(model_4_preds,axis = 1),\n",
        "                 format = \"-\",\n",
        "                 label = 'N_Beats Model Preds')\n"
      ],
      "metadata": {
        "id": "mmU9RL-FmIfL",
        "colab": {
          "base_uri": "https://localhost:8080/",
          "height": 442
        },
        "outputId": "924e8a2e-32f0-4e2d-e1e6-69cc4d74ec5e"
      },
      "execution_count": null,
      "outputs": [
        {
          "output_type": "display_data",
          "data": {
            "text/plain": [
              "<Figure size 720x504 with 1 Axes>"
            ],
            "image/png": "[encoded data removed]"
          },
          "metadata": {
            "needs_background": "light"
          }
        }
      ]
    },
    {
      "cell_type": "code",
      "source": [
        "plt.figure(figsize = (10,7))\n",
        "plot_time_series(timesteps = X_test[-len(test_windows):],\n",
        "                 values = test_labels[:,0],\n",
        "                 label = 'test_data')\n",
        "plot_time_series(timesteps = X_test[-len(test_windows):],\n",
        "                 values =tf.reduce_mean(model_3_preds,axis = 1),\n",
        "                 format = \"-\",\n",
        "                 label = 'LSTM Model Preds')"
      ],
      "metadata": {
        "colab": {
          "base_uri": "https://localhost:8080/",
          "height": 442
        },
        "id": "R8oRmXIbP3PA",
        "outputId": "f9ea36da-8620-4f66-cdf9-a646ad176b45"
      },
      "execution_count": null,
      "outputs": [
        {
          "output_type": "display_data",
          "data": {
            "text/plain": [
              "<Figure size 720x504 with 1 Axes>"
            ],
            "image/png": "[encoded data removed]"
          },
          "metadata": {
            "needs_background": "light"
          }
        }
      ]
    },
    {
      "cell_type": "code",
      "source": [
        "plt.figure(figsize = (10,7))\n",
        "plot_time_series(timesteps = X_test[-len(test_windows):],\n",
        "                 values = test_labels[:,0],\n",
        "                 label = 'test_data')\n",
        "plot_time_series(timesteps = X_test[-len(test_windows):],\n",
        "                 values =tf.reduce_mean(model_5_preds,axis = 1),\n",
        "                 format = \"-\",\n",
        "                 label = 'GRU Model Preds')"
      ],
      "metadata": {
        "colab": {
          "base_uri": "https://localhost:8080/",
          "height": 442
        },
        "id": "lWi3QTubSubH",
        "outputId": "3eec1d88-ed23-41f3-817a-cf907699a4ff"
      },
      "execution_count": null,
      "outputs": [
        {
          "output_type": "display_data",
          "data": {
            "text/plain": [
              "<Figure size 720x504 with 1 Axes>"
            ],
            "image/png": "[encoded data removed]"
          },
          "metadata": {
            "needs_background": "light"
          }
        }
      ]
    },
    {
      "cell_type": "code",
      "source": [
        "plt.figure(figsize = (10,7))\n",
        "plot_time_series(timesteps = X_test[-len(test_windows):],\n",
        "                 values = test_labels[:,0],\n",
        "                 label = 'test_data')\n",
        "plot_time_series(timesteps = X_test[-len(test_windows):],\n",
        "                 values =tf.reduce_mean(model_1_preds,axis = 1),\n",
        "                 format = \"-\",\n",
        "                 label = 'Conv1D 7_window 7_horizon Model Preds')"
      ],
      "metadata": {
        "colab": {
          "base_uri": "https://localhost:8080/",
          "height": 442
        },
        "id": "-GVrxL86QBi5",
        "outputId": "aa7843e2-b0fd-4063-e7fe-5ae579a6ebae"
      },
      "execution_count": null,
      "outputs": [
        {
          "output_type": "display_data",
          "data": {
            "text/plain": [
              "<Figure size 720x504 with 1 Axes>"
            ],
            "image/png": "[encoded data removed]"
          },
          "metadata": {
            "needs_background": "light"
          }
        }
      ]
    },
    {
      "cell_type": "code",
      "source": [
        "model_4.name, model_3.name, model_2.name, model_1.name"
      ],
      "metadata": {
        "colab": {
          "base_uri": "https://localhost:8080/"
        },
        "id": "Oj1kTyWWFlKY",
        "outputId": "2e2573fa-671f-4cd5-9063-921b01c52caf"
      },
      "execution_count": null,
      "outputs": [
        {
          "output_type": "execute_result",
          "data": {
            "text/plain": [
              "('model_4_N-Beats', 'model_3_LSTM', 'model_2_Conv1D_14_7', 'model_1_Conv1D')"
            ]
          },
          "metadata": {},
          "execution_count": 82
        }
      ]
    },
    {
      "cell_type": "markdown",
      "source": [
        "# History of travel"
      ],
      "metadata": {
        "id": "elZpGE0HIlyk"
      }
    },
    {
      "cell_type": "code",
      "source": [
        "import pandas as pd\n",
        "travel_df = pd.read_csv('/content/contact.csv',)\n",
        "travel_df.head()"
      ],
      "metadata": {
        "colab": {
          "base_uri": "https://localhost:8080/",
          "height": 206
        },
        "id": "e9oYTy6vZQBp",
        "outputId": "01fa8406-637b-4e30-a83e-e331290fef22"
      },
      "execution_count": null,
      "outputs": [
        {
          "output_type": "execute_result",
          "data": {
            "text/plain": [
              "        Date  Contact\n",
              "0  6-01-2020        4\n",
              "1  6-02-2020       10\n",
              "2  6-03-2020        3\n",
              "3  6-04-2020       15\n",
              "4  6-05-2020       13"
            ],
            "text/html": [
              "\n",
              "  <div id=\"df-91323ac0-cd12-4f06-b8cf-631d1259fffa\">\n",
              "    <div class=\"colab-df-container\">\n",
              "      <div>\n",
              "<style scoped>\n",
              "    .dataframe tbody tr th:only-of-type {\n",
              "        vertical-align: middle;\n",
              "    }\n",
              "\n",
              "    .dataframe tbody tr th {\n",
              "        vertical-align: top;\n",
              "    }\n",
              "\n",
              "    .dataframe thead th {\n",
              "        text-align: right;\n",
              "    }\n",
              "</style>\n",
              "<table border=\"1\" class=\"dataframe\">\n",
              "  <thead>\n",
              "    <tr style=\"text-align: right;\">\n",
              "      <th></th>\n",
              "      <th>Date</th>\n",
              "      <th>Contact</th>\n",
              "    </tr>\n",
              "  </thead>\n",
              "  <tbody>\n",
              "    <tr>\n",
              "      <th>0</th>\n",
              "      <td>6-01-2020</td>\n",
              "      <td>4</td>\n",
              "    </tr>\n",
              "    <tr>\n",
              "      <th>1</th>\n",
              "      <td>6-02-2020</td>\n",
              "      <td>10</td>\n",
              "    </tr>\n",
              "    <tr>\n",
              "      <th>2</th>\n",
              "      <td>6-03-2020</td>\n",
              "      <td>3</td>\n",
              "    </tr>\n",
              "    <tr>\n",
              "      <th>3</th>\n",
              "      <td>6-04-2020</td>\n",
              "      <td>15</td>\n",
              "    </tr>\n",
              "    <tr>\n",
              "      <th>4</th>\n",
              "      <td>6-05-2020</td>\n",
              "      <td>13</td>\n",
              "    </tr>\n",
              "  </tbody>\n",
              "</table>\n",
              "</div>\n",
              "      <button class=\"colab-df-convert\" onclick=\"convertToInteractive('df-91323ac0-cd12-4f06-b8cf-631d1259fffa')\"\n",
              "              title=\"Convert this dataframe to an interactive table.\"\n",
              "              style=\"display:none;\">\n",
              "        \n",
              "  <svg xmlns=\"http://www.w3.org/2000/svg\" height=\"24px\"viewBox=\"0 0 24 24\"\n",
              "       width=\"24px\">\n",
              "    <path d=\"M0 0h24v24H0V0z\" fill=\"none\"/>\n",
              "    <path d=\"M18.56 5.44l.94 2.06.94-2.06 2.06-.94-2.06-.94-.94-2.06-.94 2.06-2.06.94zm-11 1L8.5 8.5l.94-2.06 2.06-.94-2.06-.94L8.5 2.5l-.94 2.06-2.06.94zm10 10l.94 2.06.94-2.06 2.06-.94-2.06-.94-.94-2.06-.94 2.06-2.06.94z\"/><path d=\"M17.41 7.96l-1.37-1.37c-.4-.4-.92-.59-1.43-.59-.52 0-1.04.2-1.43.59L10.3 9.45l-7.72 7.72c-.78.78-.78 2.05 0 2.83L4 21.41c.39.39.9.59 1.41.59.51 0 1.02-.2 1.41-.59l7.78-7.78 2.81-2.81c.8-.78.8-2.07 0-2.86zM5.41 20L4 18.59l7.72-7.72 1.47 1.35L5.41 20z\"/>\n",
              "  </svg>\n",
              "      </button>\n",
              "      \n",
              "  <style>\n",
              "    .colab-df-container {\n",
              "      display:flex;\n",
              "      flex-wrap:wrap;\n",
              "      gap: 12px;\n",
              "    }\n",
              "\n",
              "    .colab-df-convert {\n",
              "      background-color: #E8F0FE;\n",
              "      border: none;\n",
              "      border-radius: 50%;\n",
              "      cursor: pointer;\n",
              "      display: none;\n",
              "      fill: #1967D2;\n",
              "      height: 32px;\n",
              "      padding: 0 0 0 0;\n",
              "      width: 32px;\n",
              "    }\n",
              "\n",
              "    .colab-df-convert:hover {\n",
              "      background-color: #E2EBFA;\n",
              "      box-shadow: 0px 1px 2px rgba(60, 64, 67, 0.3), 0px 1px 3px 1px rgba(60, 64, 67, 0.15);\n",
              "      fill: #174EA6;\n",
              "    }\n",
              "\n",
              "    [theme=dark] .colab-df-convert {\n",
              "      background-color: #3B4455;\n",
              "      fill: #D2E3FC;\n",
              "    }\n",
              "\n",
              "    [theme=dark] .colab-df-convert:hover {\n",
              "      background-color: #434B5C;\n",
              "      box-shadow: 0px 1px 3px 1px rgba(0, 0, 0, 0.15);\n",
              "      filter: drop-shadow(0px 1px 2px rgba(0, 0, 0, 0.3));\n",
              "      fill: #FFFFFF;\n",
              "    }\n",
              "  </style>\n",
              "\n",
              "      <script>\n",
              "        const buttonEl =\n",
              "          document.querySelector('#df-91323ac0-cd12-4f06-b8cf-631d1259fffa button.colab-df-convert');\n",
              "        buttonEl.style.display =\n",
              "          google.colab.kernel.accessAllowed ? 'block' : 'none';\n",
              "\n",
              "        async function convertToInteractive(key) {\n",
              "          const element = document.querySelector('#df-91323ac0-cd12-4f06-b8cf-631d1259fffa');\n",
              "          const dataTable =\n",
              "            await google.colab.kernel.invokeFunction('convertToInteractive',\n",
              "                                                     [key], {});\n",
              "          if (!dataTable) return;\n",
              "\n",
              "          const docLinkHtml = 'Like what you see? Visit the ' +\n",
              "            '<a target=\"_blank\" href=https://colab.research.google.com/notebooks/data_table.ipynb>data table notebook</a>'\n",
              "            + ' to learn more about interactive tables.';\n",
              "          element.innerHTML = '';\n",
              "          dataTable['output_type'] = 'display_data';\n",
              "          await google.colab.output.renderOutput(dataTable, element);\n",
              "          const docLink = document.createElement('div');\n",
              "          docLink.innerHTML = docLinkHtml;\n",
              "          element.appendChild(docLink);\n",
              "        }\n",
              "      </script>\n",
              "    </div>\n",
              "  </div>\n",
              "  "
            ]
          },
          "metadata": {},
          "execution_count": 11
        }
      ]
    },
    {
      "cell_type": "code",
      "source": [
        "travel_df['Date'] = pd.to_datetime(travel_df['Date'])\n",
        "travel_df.head()"
      ],
      "metadata": {
        "colab": {
          "base_uri": "https://localhost:8080/",
          "height": 206
        },
        "id": "2HFavap9E5Af",
        "outputId": "4ec1c439-8fe4-4c69-a5a1-3c5251a5c168"
      },
      "execution_count": null,
      "outputs": [
        {
          "output_type": "execute_result",
          "data": {
            "text/plain": [
              "        Date  Contact\n",
              "0 2020-06-01        4\n",
              "1 2020-06-02       10\n",
              "2 2020-06-03        3\n",
              "3 2020-06-04       15\n",
              "4 2020-06-05       13"
            ],
            "text/html": [
              "\n",
              "  <div id=\"df-55b872b4-010d-46e0-bbfe-20e1851cf5ea\">\n",
              "    <div class=\"colab-df-container\">\n",
              "      <div>\n",
              "<style scoped>\n",
              "    .dataframe tbody tr th:only-of-type {\n",
              "        vertical-align: middle;\n",
              "    }\n",
              "\n",
              "    .dataframe tbody tr th {\n",
              "        vertical-align: top;\n",
              "    }\n",
              "\n",
              "    .dataframe thead th {\n",
              "        text-align: right;\n",
              "    }\n",
              "</style>\n",
              "<table border=\"1\" class=\"dataframe\">\n",
              "  <thead>\n",
              "    <tr style=\"text-align: right;\">\n",
              "      <th></th>\n",
              "      <th>Date</th>\n",
              "      <th>Contact</th>\n",
              "    </tr>\n",
              "  </thead>\n",
              "  <tbody>\n",
              "    <tr>\n",
              "      <th>0</th>\n",
              "      <td>2020-06-01</td>\n",
              "      <td>4</td>\n",
              "    </tr>\n",
              "    <tr>\n",
              "      <th>1</th>\n",
              "      <td>2020-06-02</td>\n",
              "      <td>10</td>\n",
              "    </tr>\n",
              "    <tr>\n",
              "      <th>2</th>\n",
              "      <td>2020-06-03</td>\n",
              "      <td>3</td>\n",
              "    </tr>\n",
              "    <tr>\n",
              "      <th>3</th>\n",
              "      <td>2020-06-04</td>\n",
              "      <td>15</td>\n",
              "    </tr>\n",
              "    <tr>\n",
              "      <th>4</th>\n",
              "      <td>2020-06-05</td>\n",
              "      <td>13</td>\n",
              "    </tr>\n",
              "  </tbody>\n",
              "</table>\n",
              "</div>\n",
              "      <button class=\"colab-df-convert\" onclick=\"convertToInteractive('df-55b872b4-010d-46e0-bbfe-20e1851cf5ea')\"\n",
              "              title=\"Convert this dataframe to an interactive table.\"\n",
              "              style=\"display:none;\">\n",
              "        \n",
              "  <svg xmlns=\"http://www.w3.org/2000/svg\" height=\"24px\"viewBox=\"0 0 24 24\"\n",
              "       width=\"24px\">\n",
              "    <path d=\"M0 0h24v24H0V0z\" fill=\"none\"/>\n",
              "    <path d=\"M18.56 5.44l.94 2.06.94-2.06 2.06-.94-2.06-.94-.94-2.06-.94 2.06-2.06.94zm-11 1L8.5 8.5l.94-2.06 2.06-.94-2.06-.94L8.5 2.5l-.94 2.06-2.06.94zm10 10l.94 2.06.94-2.06 2.06-.94-2.06-.94-.94-2.06-.94 2.06-2.06.94z\"/><path d=\"M17.41 7.96l-1.37-1.37c-.4-.4-.92-.59-1.43-.59-.52 0-1.04.2-1.43.59L10.3 9.45l-7.72 7.72c-.78.78-.78 2.05 0 2.83L4 21.41c.39.39.9.59 1.41.59.51 0 1.02-.2 1.41-.59l7.78-7.78 2.81-2.81c.8-.78.8-2.07 0-2.86zM5.41 20L4 18.59l7.72-7.72 1.47 1.35L5.41 20z\"/>\n",
              "  </svg>\n",
              "      </button>\n",
              "      \n",
              "  <style>\n",
              "    .colab-df-container {\n",
              "      display:flex;\n",
              "      flex-wrap:wrap;\n",
              "      gap: 12px;\n",
              "    }\n",
              "\n",
              "    .colab-df-convert {\n",
              "      background-color: #E8F0FE;\n",
              "      border: none;\n",
              "      border-radius: 50%;\n",
              "      cursor: pointer;\n",
              "      display: none;\n",
              "      fill: #1967D2;\n",
              "      height: 32px;\n",
              "      padding: 0 0 0 0;\n",
              "      width: 32px;\n",
              "    }\n",
              "\n",
              "    .colab-df-convert:hover {\n",
              "      background-color: #E2EBFA;\n",
              "      box-shadow: 0px 1px 2px rgba(60, 64, 67, 0.3), 0px 1px 3px 1px rgba(60, 64, 67, 0.15);\n",
              "      fill: #174EA6;\n",
              "    }\n",
              "\n",
              "    [theme=dark] .colab-df-convert {\n",
              "      background-color: #3B4455;\n",
              "      fill: #D2E3FC;\n",
              "    }\n",
              "\n",
              "    [theme=dark] .colab-df-convert:hover {\n",
              "      background-color: #434B5C;\n",
              "      box-shadow: 0px 1px 3px 1px rgba(0, 0, 0, 0.15);\n",
              "      filter: drop-shadow(0px 1px 2px rgba(0, 0, 0, 0.3));\n",
              "      fill: #FFFFFF;\n",
              "    }\n",
              "  </style>\n",
              "\n",
              "      <script>\n",
              "        const buttonEl =\n",
              "          document.querySelector('#df-55b872b4-010d-46e0-bbfe-20e1851cf5ea button.colab-df-convert');\n",
              "        buttonEl.style.display =\n",
              "          google.colab.kernel.accessAllowed ? 'block' : 'none';\n",
              "\n",
              "        async function convertToInteractive(key) {\n",
              "          const element = document.querySelector('#df-55b872b4-010d-46e0-bbfe-20e1851cf5ea');\n",
              "          const dataTable =\n",
              "            await google.colab.kernel.invokeFunction('convertToInteractive',\n",
              "                                                     [key], {});\n",
              "          if (!dataTable) return;\n",
              "\n",
              "          const docLinkHtml = 'Like what you see? Visit the ' +\n",
              "            '<a target=\"_blank\" href=https://colab.research.google.com/notebooks/data_table.ipynb>data table notebook</a>'\n",
              "            + ' to learn more about interactive tables.';\n",
              "          element.innerHTML = '';\n",
              "          dataTable['output_type'] = 'display_data';\n",
              "          await google.colab.output.renderOutput(dataTable, element);\n",
              "          const docLink = document.createElement('div');\n",
              "          docLink.innerHTML = docLinkHtml;\n",
              "          element.appendChild(docLink);\n",
              "        }\n",
              "      </script>\n",
              "    </div>\n",
              "  </div>\n",
              "  "
            ]
          },
          "metadata": {},
          "execution_count": 12
        }
      ]
    },
    {
      "cell_type": "code",
      "source": [
        "travel_df = travel_df.set_index('Date')\n",
        "travel_df.head()"
      ],
      "metadata": {
        "colab": {
          "base_uri": "https://localhost:8080/",
          "height": 238
        },
        "id": "Su4c93SMfPLr",
        "outputId": "30d191fe-3ef8-4578-c173-5a9623e9a376"
      },
      "execution_count": null,
      "outputs": [
        {
          "output_type": "execute_result",
          "data": {
            "text/plain": [
              "            Contact\n",
              "Date               \n",
              "2020-06-01        4\n",
              "2020-06-02       10\n",
              "2020-06-03        3\n",
              "2020-06-04       15\n",
              "2020-06-05       13"
            ],
            "text/html": [
              "\n",
              "  <div id=\"df-ce888b46-0ab3-454d-9565-9814650809fa\">\n",
              "    <div class=\"colab-df-container\">\n",
              "      <div>\n",
              "<style scoped>\n",
              "    .dataframe tbody tr th:only-of-type {\n",
              "        vertical-align: middle;\n",
              "    }\n",
              "\n",
              "    .dataframe tbody tr th {\n",
              "        vertical-align: top;\n",
              "    }\n",
              "\n",
              "    .dataframe thead th {\n",
              "        text-align: right;\n",
              "    }\n",
              "</style>\n",
              "<table border=\"1\" class=\"dataframe\">\n",
              "  <thead>\n",
              "    <tr style=\"text-align: right;\">\n",
              "      <th></th>\n",
              "      <th>Contact</th>\n",
              "    </tr>\n",
              "    <tr>\n",
              "      <th>Date</th>\n",
              "      <th></th>\n",
              "    </tr>\n",
              "  </thead>\n",
              "  <tbody>\n",
              "    <tr>\n",
              "      <th>2020-06-01</th>\n",
              "      <td>4</td>\n",
              "    </tr>\n",
              "    <tr>\n",
              "      <th>2020-06-02</th>\n",
              "      <td>10</td>\n",
              "    </tr>\n",
              "    <tr>\n",
              "      <th>2020-06-03</th>\n",
              "      <td>3</td>\n",
              "    </tr>\n",
              "    <tr>\n",
              "      <th>2020-06-04</th>\n",
              "      <td>15</td>\n",
              "    </tr>\n",
              "    <tr>\n",
              "      <th>2020-06-05</th>\n",
              "      <td>13</td>\n",
              "    </tr>\n",
              "  </tbody>\n",
              "</table>\n",
              "</div>\n",
              "      <button class=\"colab-df-convert\" onclick=\"convertToInteractive('df-ce888b46-0ab3-454d-9565-9814650809fa')\"\n",
              "              title=\"Convert this dataframe to an interactive table.\"\n",
              "              style=\"display:none;\">\n",
              "        \n",
              "  <svg xmlns=\"http://www.w3.org/2000/svg\" height=\"24px\"viewBox=\"0 0 24 24\"\n",
              "       width=\"24px\">\n",
              "    <path d=\"M0 0h24v24H0V0z\" fill=\"none\"/>\n",
              "    <path d=\"M18.56 5.44l.94 2.06.94-2.06 2.06-.94-2.06-.94-.94-2.06-.94 2.06-2.06.94zm-11 1L8.5 8.5l.94-2.06 2.06-.94-2.06-.94L8.5 2.5l-.94 2.06-2.06.94zm10 10l.94 2.06.94-2.06 2.06-.94-2.06-.94-.94-2.06-.94 2.06-2.06.94z\"/><path d=\"M17.41 7.96l-1.37-1.37c-.4-.4-.92-.59-1.43-.59-.52 0-1.04.2-1.43.59L10.3 9.45l-7.72 7.72c-.78.78-.78 2.05 0 2.83L4 21.41c.39.39.9.59 1.41.59.51 0 1.02-.2 1.41-.59l7.78-7.78 2.81-2.81c.8-.78.8-2.07 0-2.86zM5.41 20L4 18.59l7.72-7.72 1.47 1.35L5.41 20z\"/>\n",
              "  </svg>\n",
              "      </button>\n",
              "      \n",
              "  <style>\n",
              "    .colab-df-container {\n",
              "      display:flex;\n",
              "      flex-wrap:wrap;\n",
              "      gap: 12px;\n",
              "    }\n",
              "\n",
              "    .colab-df-convert {\n",
              "      background-color: #E8F0FE;\n",
              "      border: none;\n",
              "      border-radius: 50%;\n",
              "      cursor: pointer;\n",
              "      display: none;\n",
              "      fill: #1967D2;\n",
              "      height: 32px;\n",
              "      padding: 0 0 0 0;\n",
              "      width: 32px;\n",
              "    }\n",
              "\n",
              "    .colab-df-convert:hover {\n",
              "      background-color: #E2EBFA;\n",
              "      box-shadow: 0px 1px 2px rgba(60, 64, 67, 0.3), 0px 1px 3px 1px rgba(60, 64, 67, 0.15);\n",
              "      fill: #174EA6;\n",
              "    }\n",
              "\n",
              "    [theme=dark] .colab-df-convert {\n",
              "      background-color: #3B4455;\n",
              "      fill: #D2E3FC;\n",
              "    }\n",
              "\n",
              "    [theme=dark] .colab-df-convert:hover {\n",
              "      background-color: #434B5C;\n",
              "      box-shadow: 0px 1px 3px 1px rgba(0, 0, 0, 0.15);\n",
              "      filter: drop-shadow(0px 1px 2px rgba(0, 0, 0, 0.3));\n",
              "      fill: #FFFFFF;\n",
              "    }\n",
              "  </style>\n",
              "\n",
              "      <script>\n",
              "        const buttonEl =\n",
              "          document.querySelector('#df-ce888b46-0ab3-454d-9565-9814650809fa button.colab-df-convert');\n",
              "        buttonEl.style.display =\n",
              "          google.colab.kernel.accessAllowed ? 'block' : 'none';\n",
              "\n",
              "        async function convertToInteractive(key) {\n",
              "          const element = document.querySelector('#df-ce888b46-0ab3-454d-9565-9814650809fa');\n",
              "          const dataTable =\n",
              "            await google.colab.kernel.invokeFunction('convertToInteractive',\n",
              "                                                     [key], {});\n",
              "          if (!dataTable) return;\n",
              "\n",
              "          const docLinkHtml = 'Like what you see? Visit the ' +\n",
              "            '<a target=\"_blank\" href=https://colab.research.google.com/notebooks/data_table.ipynb>data table notebook</a>'\n",
              "            + ' to learn more about interactive tables.';\n",
              "          element.innerHTML = '';\n",
              "          dataTable['output_type'] = 'display_data';\n",
              "          await google.colab.output.renderOutput(dataTable, element);\n",
              "          const docLink = document.createElement('div');\n",
              "          docLink.innerHTML = docLinkHtml;\n",
              "          element.appendChild(docLink);\n",
              "        }\n",
              "      </script>\n",
              "    </div>\n",
              "  </div>\n",
              "  "
            ]
          },
          "metadata": {},
          "execution_count": 13
        }
      ]
    },
    {
      "cell_type": "code",
      "source": [
        "travel_df.plot(figsize = (10,7))\n",
        "plt.ylabel(\"Contact Cases\")\n",
        "plt.legend(fontsize = 14);"
      ],
      "metadata": {
        "colab": {
          "base_uri": "https://localhost:8080/",
          "height": 454
        },
        "id": "LLtN1Om4hGZh",
        "outputId": "a2bd1f3e-da85-4bc6-a2ae-1c06553cae95"
      },
      "execution_count": null,
      "outputs": [
        {
          "output_type": "display_data",
          "data": {
            "text/plain": [
              "<Figure size 720x504 with 1 Axes>"
            ],
            "image/png": "[encoded data removed]"
          },
          "metadata": {
            "needs_background": "light"
          }
        }
      ]
    },
    {
      "cell_type": "code",
      "source": [
        "timesteps = travel_df.index.to_numpy()\n",
        "contacts = travel_df['Contact'].to_numpy()\n",
        "contacts = contacts.astype(np.float32)\n",
        "\n",
        "timesteps[:10], contacts[:10]"
      ],
      "metadata": {
        "id": "4rZpmt3bhPrL",
        "colab": {
          "base_uri": "https://localhost:8080/"
        },
        "outputId": "7561bc06-988c-4bf0-9c9e-c56b62d57beb"
      },
      "execution_count": null,
      "outputs": [
        {
          "output_type": "execute_result",
          "data": {
            "text/plain": [
              "(array(['2020-06-01T00:00:00.000000000', '2020-06-02T00:00:00.000000000',\n",
              "        '2020-06-03T00:00:00.000000000', '2020-06-04T00:00:00.000000000',\n",
              "        '2020-06-05T00:00:00.000000000', '2020-06-06T00:00:00.000000000',\n",
              "        '2020-06-07T00:00:00.000000000', '2020-06-08T00:00:00.000000000',\n",
              "        '2020-06-09T00:00:00.000000000', '2020-06-10T00:00:00.000000000'],\n",
              "       dtype='datetime64[ns]'),\n",
              " array([ 4., 10.,  3., 15., 13., 18., 13., 11., 29., 21.], dtype=float32))"
            ]
          },
          "metadata": {},
          "execution_count": 16
        }
      ]
    },
    {
      "cell_type": "markdown",
      "source": [
        "## Windowing dataset"
      ],
      "metadata": {
        "id": "mFpiJ4dgEoGy"
      }
    },
    {
      "cell_type": "code",
      "source": [
        "split_size = int(len(contacts)*0.8)\n",
        "X_train,y_train = timesteps[:split_size], contacts[:split_size]\n",
        "X_test,y_test = timesteps[split_size:], contacts[split_size:]\n",
        "len(X_train), len(X_test), len(y_train), len(y_test)"
      ],
      "metadata": {
        "colab": {
          "base_uri": "https://localhost:8080/"
        },
        "id": "WDAa0NKVFjij",
        "outputId": "e7537ffc-d35f-4b3f-c53c-a1bd105753a3"
      },
      "execution_count": null,
      "outputs": [
        {
          "output_type": "execute_result",
          "data": {
            "text/plain": [
              "(539, 135, 539, 135)"
            ]
          },
          "metadata": {},
          "execution_count": 17
        }
      ]
    },
    {
      "cell_type": "markdown",
      "source": [
        "## MODEL 1 : LSTM (window_size = 7, horizon = 7)"
      ],
      "metadata": {
        "id": "1GPzEp2iFoex"
      }
    },
    {
      "cell_type": "code",
      "source": [
        "HORIZON = 7\n",
        "WINDOW_SIZE = 7"
      ],
      "metadata": {
        "id": "FLyaKk3rF-iH"
      },
      "execution_count": null,
      "outputs": []
    },
    {
      "cell_type": "code",
      "source": [
        "full_windows, full_labels = make_windows(contacts,window_size = WINDOW_SIZE, horizon = HORIZON)\n",
        "len(full_windows), len(full_labels)"
      ],
      "metadata": {
        "colab": {
          "base_uri": "https://localhost:8080/"
        },
        "id": "H0kn9lYEGCzN",
        "outputId": "807984dc-52a9-4270-818a-50045cf64d75"
      },
      "execution_count": null,
      "outputs": [
        {
          "output_type": "execute_result",
          "data": {
            "text/plain": [
              "(659, 659)"
            ]
          },
          "metadata": {},
          "execution_count": 29
        }
      ]
    },
    {
      "cell_type": "code",
      "source": [
        "# Visualize the data\n",
        "for i in range(5):\n",
        "    print(f\"Windows : {full_windows[i]} -> Label: {full_labels[i]}\")"
      ],
      "metadata": {
        "colab": {
          "base_uri": "https://localhost:8080/"
        },
        "id": "kRgFTKCYM0Mb",
        "outputId": "0c8e18ac-392d-4eb6-dc23-38b53dcbeb03"
      },
      "execution_count": null,
      "outputs": [
        {
          "output_type": "stream",
          "name": "stdout",
          "text": [
            "Windows : [ 4. 10.  3. 15. 13. 18. 13.] -> Label: [11. 29. 21. 18. 37. 40. 46.]\n",
            "Windows : [10.  3. 15. 13. 18. 13. 11.] -> Label: [29. 21. 18. 37. 40. 46. 36.]\n",
            "Windows : [ 3. 15. 13. 18. 13. 11. 29.] -> Label: [21. 18. 37. 40. 46. 36. 37.]\n",
            "Windows : [15. 13. 18. 13. 11. 29. 21.] -> Label: [18. 37. 40. 46. 36. 37. 55.]\n",
            "Windows : [13. 18. 13. 11. 29. 21. 18.] -> Label: [37. 40. 46. 36. 37. 55. 41.]\n"
          ]
        }
      ]
    },
    {
      "cell_type": "code",
      "source": [
        "train_windows, test_windows, train_labels,test_labels = make_train_test_split(full_windows,full_labels, test_split = 0.2)\n",
        "len(train_windows), len(test_windows), len(train_labels), len(test_labels)"
      ],
      "metadata": {
        "colab": {
          "base_uri": "https://localhost:8080/"
        },
        "id": "0QpMZo2bNBYH",
        "outputId": "7202fd70-d51a-4395-d5f5-5aaa81f1a0de"
      },
      "execution_count": null,
      "outputs": [
        {
          "output_type": "execute_result",
          "data": {
            "text/plain": [
              "(527, 132, 527, 132)"
            ]
          },
          "metadata": {},
          "execution_count": 31
        }
      ]
    },
    {
      "cell_type": "code",
      "source": [
        "from tensorflow.keras import layers"
      ],
      "metadata": {
        "id": "cxcphZkGNa7Z"
      },
      "execution_count": null,
      "outputs": []
    },
    {
      "cell_type": "code",
      "source": [
        "# LSTM Model\n",
        "tf.random.set_seed(42)\n",
        "\n",
        "inputs = layers.Input(shape = (WINDOW_SIZE))\n",
        "x = layers.Lambda(lambda x: tf.expand_dims(x,axis = 1))(inputs)\n",
        "# x = layers.LSTM(128, activation = 'relu', return_sequences = True)(x)\n",
        "x = layers.LSTM(128, activation = 'relu')(x)\n",
        "# x = layers.Dense(128,activation = 'relu')(x)\n",
        "outputs = layers.Dense(HORIZON)(x)\n",
        "model_hoc_1 = tf.keras.Model(inputs = inputs, outputs = outputs, name = 'model_hoc_1_LSTM')\n",
        "\n",
        "model_hoc_1.compile(loss = 'mae',\n",
        "                optimizer = tf.keras.optimizers.Adam())\n",
        "\n",
        "model_hoc_1.fit(train_windows,\n",
        "            train_labels,\n",
        "            epochs = 100,\n",
        "            batch_size = 32,\n",
        "            validation_data = (test_windows, test_labels),\n",
        "            callbacks = [create_model_checkpoint(model_name = model_hoc_1.name)])"
      ],
      "metadata": {
        "colab": {
          "base_uri": "https://localhost:8080/"
        },
        "id": "Eyxbhsn2NHYX",
        "outputId": "423302f2-f5aa-4952-8866-fdc6aa1b5635"
      },
      "execution_count": null,
      "outputs": [
        {
          "output_type": "stream",
          "name": "stdout",
          "text": [
            "WARNING:tensorflow:Layer lstm will not use cuDNN kernels since it doesn't meet the criteria. It will use a generic GPU kernel as fallback when running on GPU.\n",
            "Epoch 1/100\n",
            " 9/17 [==============>...............] - ETA: 0s - loss: 574.1133 INFO:tensorflow:Assets written to: model_experiments/model_hoc_1_LSTM/assets\n"
          ]
        },
        {
          "output_type": "stream",
          "name": "stderr",
          "text": [
            "WARNING:absl:<keras.layers.recurrent.LSTMCell object at 0x7fc9b6741450> has the same name 'LSTMCell' as a built-in Keras object. Consider renaming <class 'keras.layers.recurrent.LSTMCell'> to avoid naming conflicts when loading with `tf.keras.models.load_model`. If renaming is not possible, pass the object in the `custom_objects` parameter of the load function.\n"
          ]
        },
        {
          "output_type": "stream",
          "name": "stdout",
          "text": [
            "\b\b\b\b\b\b\b\b\b\b\b\b\b\b\b\b\b\b\b\b\b\b\b\b\b\b\b\b\b\b\b\b\b\b\b\b\b\b\b\b\b\b\b\b\b\b\b\b\b\b\b\b\b\b\b\b\b\b\b\b\b\b\b\b\b\r17/17 [==============================] - 6s 160ms/step - loss: 537.1324 - val_loss: 653.9841\n",
            "Epoch 2/100\n",
            "10/17 [================>.............] - ETA: 0s - loss: 427.3386INFO:tensorflow:Assets written to: model_experiments/model_hoc_1_LSTM/assets\n"
          ]
        },
        {
          "output_type": "stream",
          "name": "stderr",
          "text": [
            "INFO:tensorflow:Assets written to: model_experiments/model_hoc_1_LSTM/assets\n",
            "WARNING:absl:<keras.layers.recurrent.LSTMCell object at 0x7fc9b6741450> has the same name 'LSTMCell' as a built-in Keras object. Consider renaming <class 'keras.layers.recurrent.LSTMCell'> to avoid naming conflicts when loading with `tf.keras.models.load_model`. If renaming is not possible, pass the object in the `custom_objects` parameter of the load function.\n"
          ]
        },
        {
          "output_type": "stream",
          "name": "stdout",
          "text": [
            "\b\b\b\b\b\b\b\b\b\b\b\b\b\b\b\b\b\b\b\b\b\b\b\b\b\b\b\b\b\b\b\b\b\b\b\b\b\b\b\b\b\b\b\b\b\b\b\b\b\b\b\b\b\b\b\b\b\b\b\b\b\b\b\b\b\r17/17 [==============================] - 2s 127ms/step - loss: 379.0319 - val_loss: 455.2806\n",
            "Epoch 3/100\n",
            "10/17 [================>.............] - ETA: 0s - loss: 213.1587INFO:tensorflow:Assets written to: model_experiments/model_hoc_1_LSTM/assets\n"
          ]
        },
        {
          "output_type": "stream",
          "name": "stderr",
          "text": [
            "INFO:tensorflow:Assets written to: model_experiments/model_hoc_1_LSTM/assets\n",
            "WARNING:absl:<keras.layers.recurrent.LSTMCell object at 0x7fc9b6741450> has the same name 'LSTMCell' as a built-in Keras object. Consider renaming <class 'keras.layers.recurrent.LSTMCell'> to avoid naming conflicts when loading with `tf.keras.models.load_model`. If renaming is not possible, pass the object in the `custom_objects` parameter of the load function.\n"
          ]
        },
        {
          "output_type": "stream",
          "name": "stdout",
          "text": [
            "\b\b\b\b\b\b\b\b\b\b\b\b\b\b\b\b\b\b\b\b\b\b\b\b\b\b\b\b\b\b\b\b\b\b\b\b\b\b\b\b\b\b\b\b\b\b\b\b\b\b\b\b\b\b\b\b\b\b\b\b\b\b\b\b\b\r17/17 [==============================] - 2s 139ms/step - loss: 185.1282 - val_loss: 407.6213\n",
            "Epoch 4/100\n",
            "10/17 [================>.............] - ETA: 0s - loss: 131.0845INFO:tensorflow:Assets written to: model_experiments/model_hoc_1_LSTM/assets\n"
          ]
        },
        {
          "output_type": "stream",
          "name": "stderr",
          "text": [
            "INFO:tensorflow:Assets written to: model_experiments/model_hoc_1_LSTM/assets\n",
            "WARNING:absl:<keras.layers.recurrent.LSTMCell object at 0x7fc9b6741450> has the same name 'LSTMCell' as a built-in Keras object. Consider renaming <class 'keras.layers.recurrent.LSTMCell'> to avoid naming conflicts when loading with `tf.keras.models.load_model`. If renaming is not possible, pass the object in the `custom_objects` parameter of the load function.\n"
          ]
        },
        {
          "output_type": "stream",
          "name": "stdout",
          "text": [
            "\b\b\b\b\b\b\b\b\b\b\b\b\b\b\b\b\b\b\b\b\b\b\b\b\b\b\b\b\b\b\b\b\b\b\b\b\b\b\b\b\b\b\b\b\b\b\b\b\b\b\b\b\b\b\b\b\b\b\b\b\b\b\b\b\b\r17/17 [==============================] - 2s 125ms/step - loss: 136.7307 - val_loss: 387.3214\n",
            "Epoch 5/100\n",
            " 9/17 [==============>...............] - ETA: 0s - loss: 137.7839INFO:tensorflow:Assets written to: model_experiments/model_hoc_1_LSTM/assets\n"
          ]
        },
        {
          "output_type": "stream",
          "name": "stderr",
          "text": [
            "INFO:tensorflow:Assets written to: model_experiments/model_hoc_1_LSTM/assets\n",
            "WARNING:absl:<keras.layers.recurrent.LSTMCell object at 0x7fc9b6741450> has the same name 'LSTMCell' as a built-in Keras object. Consider renaming <class 'keras.layers.recurrent.LSTMCell'> to avoid naming conflicts when loading with `tf.keras.models.load_model`. If renaming is not possible, pass the object in the `custom_objects` parameter of the load function.\n"
          ]
        },
        {
          "output_type": "stream",
          "name": "stdout",
          "text": [
            "\b\b\b\b\b\b\b\b\b\b\b\b\b\b\b\b\b\b\b\b\b\b\b\b\b\b\b\b\b\b\b\b\b\b\b\b\b\b\b\b\b\b\b\b\b\b\b\b\b\b\b\b\b\b\b\b\b\b\b\b\b\b\b\b\b\r17/17 [==============================] - 2s 143ms/step - loss: 132.5821 - val_loss: 381.3801\n",
            "Epoch 6/100\n",
            "17/17 [==============================] - 0s 23ms/step - loss: 129.0729 - val_loss: 394.5139\n",
            "Epoch 7/100\n",
            "11/17 [==================>...........] - ETA: 0s - loss: 137.1909INFO:tensorflow:Assets written to: model_experiments/model_hoc_1_LSTM/assets\n"
          ]
        },
        {
          "output_type": "stream",
          "name": "stderr",
          "text": [
            "INFO:tensorflow:Assets written to: model_experiments/model_hoc_1_LSTM/assets\n",
            "WARNING:absl:<keras.layers.recurrent.LSTMCell object at 0x7fc9b6741450> has the same name 'LSTMCell' as a built-in Keras object. Consider renaming <class 'keras.layers.recurrent.LSTMCell'> to avoid naming conflicts when loading with `tf.keras.models.load_model`. If renaming is not possible, pass the object in the `custom_objects` parameter of the load function.\n"
          ]
        },
        {
          "output_type": "stream",
          "name": "stdout",
          "text": [
            "\b\b\b\b\b\b\b\b\b\b\b\b\b\b\b\b\b\b\b\b\b\b\b\b\b\b\b\b\b\b\b\b\b\b\b\b\b\b\b\b\b\b\b\b\b\b\b\b\b\b\b\b\b\b\b\b\b\b\b\b\b\b\b\b\b\r17/17 [==============================] - 2s 131ms/step - loss: 129.2953 - val_loss: 381.1177\n",
            "Epoch 8/100\n",
            "17/17 [==============================] - 0s 9ms/step - loss: 128.9508 - val_loss: 390.9705\n",
            "Epoch 9/100\n",
            " 9/17 [==============>...............] - ETA: 0s - loss: 126.2477INFO:tensorflow:Assets written to: model_experiments/model_hoc_1_LSTM/assets\n"
          ]
        },
        {
          "output_type": "stream",
          "name": "stderr",
          "text": [
            "INFO:tensorflow:Assets written to: model_experiments/model_hoc_1_LSTM/assets\n",
            "WARNING:absl:<keras.layers.recurrent.LSTMCell object at 0x7fc9b6741450> has the same name 'LSTMCell' as a built-in Keras object. Consider renaming <class 'keras.layers.recurrent.LSTMCell'> to avoid naming conflicts when loading with `tf.keras.models.load_model`. If renaming is not possible, pass the object in the `custom_objects` parameter of the load function.\n"
          ]
        },
        {
          "output_type": "stream",
          "name": "stdout",
          "text": [
            "\b\b\b\b\b\b\b\b\b\b\b\b\b\b\b\b\b\b\b\b\b\b\b\b\b\b\b\b\b\b\b\b\b\b\b\b\b\b\b\b\b\b\b\b\b\b\b\b\b\b\b\b\b\b\b\b\b\b\b\b\b\b\b\b\b\r17/17 [==============================] - 2s 147ms/step - loss: 126.0097 - val_loss: 373.9716\n",
            "Epoch 10/100\n",
            "17/17 [==============================] - 0s 9ms/step - loss: 127.5834 - val_loss: 385.0355\n",
            "Epoch 11/100\n",
            "17/17 [==============================] - 0s 9ms/step - loss: 124.3885 - val_loss: 376.5855\n",
            "Epoch 12/100\n",
            "17/17 [==============================] - 0s 9ms/step - loss: 122.3984 - val_loss: 387.1816\n",
            "Epoch 13/100\n",
            "17/17 [==============================] - ETA: 0s - loss: 123.2967INFO:tensorflow:Assets written to: model_experiments/model_hoc_1_LSTM/assets\n"
          ]
        },
        {
          "output_type": "stream",
          "name": "stderr",
          "text": [
            "INFO:tensorflow:Assets written to: model_experiments/model_hoc_1_LSTM/assets\n",
            "WARNING:absl:<keras.layers.recurrent.LSTMCell object at 0x7fc9b6741450> has the same name 'LSTMCell' as a built-in Keras object. Consider renaming <class 'keras.layers.recurrent.LSTMCell'> to avoid naming conflicts when loading with `tf.keras.models.load_model`. If renaming is not possible, pass the object in the `custom_objects` parameter of the load function.\n"
          ]
        },
        {
          "output_type": "stream",
          "name": "stdout",
          "text": [
            "\b\b\b\b\b\b\b\b\b\b\b\b\b\b\b\b\b\b\b\b\b\b\b\b\b\b\b\b\b\b\b\b\b\b\b\b\b\b\b\b\b\b\b\b\b\b\b\b\b\b\b\b\b\b\b\b\b\b\b\b\b\b\b\b\b\r17/17 [==============================] - 2s 129ms/step - loss: 123.2967 - val_loss: 372.6215\n",
            "Epoch 14/100\n",
            "17/17 [==============================] - 0s 8ms/step - loss: 121.9889 - val_loss: 382.9945\n",
            "Epoch 15/100\n",
            "17/17 [==============================] - 0s 8ms/step - loss: 125.3505 - val_loss: 374.8319\n",
            "Epoch 16/100\n",
            "17/17 [==============================] - 0s 8ms/step - loss: 123.4363 - val_loss: 373.3741\n",
            "Epoch 17/100\n",
            "17/17 [==============================] - 0s 8ms/step - loss: 122.7538 - val_loss: 379.9164\n",
            "Epoch 18/100\n",
            "17/17 [==============================] - 0s 8ms/step - loss: 121.9964 - val_loss: 377.1183\n",
            "Epoch 19/100\n",
            "17/17 [==============================] - 0s 10ms/step - loss: 120.9996 - val_loss: 376.1577\n",
            "Epoch 20/100\n",
            "17/17 [==============================] - 0s 8ms/step - loss: 120.6564 - val_loss: 373.0756\n",
            "Epoch 21/100\n",
            " 9/17 [==============>...............] - ETA: 0s - loss: 119.3917INFO:tensorflow:Assets written to: model_experiments/model_hoc_1_LSTM/assets\n"
          ]
        },
        {
          "output_type": "stream",
          "name": "stderr",
          "text": [
            "INFO:tensorflow:Assets written to: model_experiments/model_hoc_1_LSTM/assets\n",
            "WARNING:absl:<keras.layers.recurrent.LSTMCell object at 0x7fc9b6741450> has the same name 'LSTMCell' as a built-in Keras object. Consider renaming <class 'keras.layers.recurrent.LSTMCell'> to avoid naming conflicts when loading with `tf.keras.models.load_model`. If renaming is not possible, pass the object in the `custom_objects` parameter of the load function.\n"
          ]
        },
        {
          "output_type": "stream",
          "name": "stdout",
          "text": [
            "\b\b\b\b\b\b\b\b\b\b\b\b\b\b\b\b\b\b\b\b\b\b\b\b\b\b\b\b\b\b\b\b\b\b\b\b\b\b\b\b\b\b\b\b\b\b\b\b\b\b\b\b\b\b\b\b\b\b\b\b\b\b\b\b\b\r17/17 [==============================] - 3s 192ms/step - loss: 120.5441 - val_loss: 370.8516\n",
            "Epoch 22/100\n",
            " 9/17 [==============>...............] - ETA: 0s - loss: 120.1381INFO:tensorflow:Assets written to: model_experiments/model_hoc_1_LSTM/assets\n"
          ]
        },
        {
          "output_type": "stream",
          "name": "stderr",
          "text": [
            "INFO:tensorflow:Assets written to: model_experiments/model_hoc_1_LSTM/assets\n",
            "WARNING:absl:<keras.layers.recurrent.LSTMCell object at 0x7fc9b6741450> has the same name 'LSTMCell' as a built-in Keras object. Consider renaming <class 'keras.layers.recurrent.LSTMCell'> to avoid naming conflicts when loading with `tf.keras.models.load_model`. If renaming is not possible, pass the object in the `custom_objects` parameter of the load function.\n"
          ]
        },
        {
          "output_type": "stream",
          "name": "stdout",
          "text": [
            "\b\b\b\b\b\b\b\b\b\b\b\b\b\b\b\b\b\b\b\b\b\b\b\b\b\b\b\b\b\b\b\b\b\b\b\b\b\b\b\b\b\b\b\b\b\b\b\b\b\b\b\b\b\b\b\b\b\b\b\b\b\b\b\b\b\r17/17 [==============================] - 2s 143ms/step - loss: 119.2894 - val_loss: 358.3245\n",
            "Epoch 23/100\n",
            "17/17 [==============================] - 0s 8ms/step - loss: 118.3654 - val_loss: 371.7155\n",
            "Epoch 24/100\n",
            "17/17 [==============================] - 0s 8ms/step - loss: 119.2761 - val_loss: 363.9969\n",
            "Epoch 25/100\n",
            "17/17 [==============================] - 0s 8ms/step - loss: 117.9799 - val_loss: 367.3051\n",
            "Epoch 26/100\n",
            "17/17 [==============================] - 0s 9ms/step - loss: 117.4562 - val_loss: 361.8081\n",
            "Epoch 27/100\n",
            "17/17 [==============================] - 0s 8ms/step - loss: 117.4879 - val_loss: 367.1798\n",
            "Epoch 28/100\n",
            "17/17 [==============================] - 0s 9ms/step - loss: 116.4331 - val_loss: 373.4785\n",
            "Epoch 29/100\n",
            "17/17 [==============================] - 0s 8ms/step - loss: 116.7412 - val_loss: 363.3736\n",
            "Epoch 30/100\n",
            "17/17 [==============================] - 0s 9ms/step - loss: 116.3947 - val_loss: 371.6117\n",
            "Epoch 31/100\n",
            "17/17 [==============================] - 0s 8ms/step - loss: 115.8946 - val_loss: 373.7713\n",
            "Epoch 32/100\n",
            "17/17 [==============================] - 0s 8ms/step - loss: 115.6277 - val_loss: 367.6498\n",
            "Epoch 33/100\n",
            "17/17 [==============================] - 0s 9ms/step - loss: 115.8187 - val_loss: 364.1668\n",
            "Epoch 34/100\n",
            "17/17 [==============================] - 0s 8ms/step - loss: 114.8636 - val_loss: 371.1445\n",
            "Epoch 35/100\n",
            "17/17 [==============================] - 0s 8ms/step - loss: 115.5298 - val_loss: 370.3875\n",
            "Epoch 36/100\n",
            "17/17 [==============================] - 0s 8ms/step - loss: 115.2907 - val_loss: 363.9044\n",
            "Epoch 37/100\n",
            "17/17 [==============================] - 0s 9ms/step - loss: 114.7803 - val_loss: 371.8126\n",
            "Epoch 38/100\n",
            "17/17 [==============================] - 0s 9ms/step - loss: 114.0731 - val_loss: 367.9453\n",
            "Epoch 39/100\n",
            "17/17 [==============================] - 0s 10ms/step - loss: 115.1335 - val_loss: 369.1890\n",
            "Epoch 40/100\n",
            "17/17 [==============================] - 0s 10ms/step - loss: 113.4582 - val_loss: 375.1511\n",
            "Epoch 41/100\n",
            "17/17 [==============================] - 0s 9ms/step - loss: 113.0199 - val_loss: 372.4108\n",
            "Epoch 42/100\n",
            "17/17 [==============================] - 0s 8ms/step - loss: 112.8944 - val_loss: 369.5302\n",
            "Epoch 43/100\n",
            "17/17 [==============================] - 0s 9ms/step - loss: 113.0691 - val_loss: 373.9174\n",
            "Epoch 44/100\n",
            "17/17 [==============================] - 0s 9ms/step - loss: 112.8061 - val_loss: 374.1297\n",
            "Epoch 45/100\n",
            "17/17 [==============================] - 0s 8ms/step - loss: 112.3382 - val_loss: 371.7757\n",
            "Epoch 46/100\n",
            "17/17 [==============================] - 0s 9ms/step - loss: 112.1376 - val_loss: 373.2355\n",
            "Epoch 47/100\n",
            "17/17 [==============================] - 0s 9ms/step - loss: 111.9488 - val_loss: 369.1280\n",
            "Epoch 48/100\n",
            "17/17 [==============================] - 0s 8ms/step - loss: 112.1154 - val_loss: 375.3174\n",
            "Epoch 49/100\n",
            "17/17 [==============================] - 0s 9ms/step - loss: 112.3142 - val_loss: 380.9321\n",
            "Epoch 50/100\n",
            "17/17 [==============================] - 0s 10ms/step - loss: 112.2587 - val_loss: 376.2298\n",
            "Epoch 51/100\n",
            "17/17 [==============================] - 0s 9ms/step - loss: 111.0821 - val_loss: 379.5928\n",
            "Epoch 52/100\n",
            "17/17 [==============================] - 0s 9ms/step - loss: 111.4352 - val_loss: 386.5630\n",
            "Epoch 53/100\n",
            "17/17 [==============================] - 0s 9ms/step - loss: 112.5402 - val_loss: 376.3540\n",
            "Epoch 54/100\n",
            "17/17 [==============================] - 0s 10ms/step - loss: 111.3611 - val_loss: 375.8837\n",
            "Epoch 55/100\n",
            "17/17 [==============================] - 0s 9ms/step - loss: 111.4223 - val_loss: 390.0310\n",
            "Epoch 56/100\n",
            "17/17 [==============================] - 0s 9ms/step - loss: 111.8855 - val_loss: 373.3653\n",
            "Epoch 57/100\n",
            "17/17 [==============================] - 0s 9ms/step - loss: 110.8693 - val_loss: 376.0351\n",
            "Epoch 58/100\n",
            "17/17 [==============================] - 0s 9ms/step - loss: 110.9154 - val_loss: 383.3187\n",
            "Epoch 59/100\n",
            "17/17 [==============================] - 0s 11ms/step - loss: 111.7702 - val_loss: 372.6570\n",
            "Epoch 60/100\n",
            "17/17 [==============================] - 0s 10ms/step - loss: 109.9812 - val_loss: 377.2174\n",
            "Epoch 61/100\n",
            "17/17 [==============================] - 0s 9ms/step - loss: 109.9682 - val_loss: 374.1468\n",
            "Epoch 62/100\n",
            "17/17 [==============================] - 0s 8ms/step - loss: 109.6811 - val_loss: 380.4444\n",
            "Epoch 63/100\n",
            "17/17 [==============================] - 0s 8ms/step - loss: 109.8148 - val_loss: 372.7757\n",
            "Epoch 64/100\n",
            "17/17 [==============================] - 0s 8ms/step - loss: 110.0775 - val_loss: 371.8336\n",
            "Epoch 65/100\n",
            "17/17 [==============================] - 0s 9ms/step - loss: 109.3569 - val_loss: 387.4601\n",
            "Epoch 66/100\n",
            "17/17 [==============================] - 0s 9ms/step - loss: 109.7810 - val_loss: 376.6582\n",
            "Epoch 67/100\n",
            "17/17 [==============================] - 0s 9ms/step - loss: 109.3701 - val_loss: 376.0901\n",
            "Epoch 68/100\n",
            "17/17 [==============================] - 0s 9ms/step - loss: 109.0489 - val_loss: 382.2455\n",
            "Epoch 69/100\n",
            "17/17 [==============================] - 0s 9ms/step - loss: 109.4223 - val_loss: 382.2295\n",
            "Epoch 70/100\n",
            "17/17 [==============================] - 0s 9ms/step - loss: 109.7523 - val_loss: 376.5045\n",
            "Epoch 71/100\n",
            "17/17 [==============================] - 0s 9ms/step - loss: 109.1973 - val_loss: 376.0653\n",
            "Epoch 72/100\n",
            "17/17 [==============================] - 0s 10ms/step - loss: 109.4142 - val_loss: 385.9458\n",
            "Epoch 73/100\n",
            "17/17 [==============================] - 0s 9ms/step - loss: 109.0023 - val_loss: 381.0084\n",
            "Epoch 74/100\n",
            "17/17 [==============================] - 0s 8ms/step - loss: 108.4904 - val_loss: 378.9351\n",
            "Epoch 75/100\n",
            "17/17 [==============================] - 0s 9ms/step - loss: 108.2529 - val_loss: 384.4113\n",
            "Epoch 76/100\n",
            "17/17 [==============================] - 0s 9ms/step - loss: 108.2914 - val_loss: 381.0295\n",
            "Epoch 77/100\n",
            "17/17 [==============================] - 0s 9ms/step - loss: 108.3084 - val_loss: 385.4769\n",
            "Epoch 78/100\n",
            "17/17 [==============================] - 0s 9ms/step - loss: 109.2264 - val_loss: 389.8427\n",
            "Epoch 79/100\n",
            "17/17 [==============================] - 0s 9ms/step - loss: 108.0801 - val_loss: 384.7407\n",
            "Epoch 80/100\n",
            "17/17 [==============================] - 0s 9ms/step - loss: 108.8068 - val_loss: 393.9211\n",
            "Epoch 81/100\n",
            "17/17 [==============================] - 0s 9ms/step - loss: 108.0784 - val_loss: 386.5638\n",
            "Epoch 82/100\n",
            "17/17 [==============================] - 0s 8ms/step - loss: 108.1842 - val_loss: 387.9719\n",
            "Epoch 83/100\n",
            "17/17 [==============================] - 0s 9ms/step - loss: 108.1773 - val_loss: 379.8921\n",
            "Epoch 84/100\n",
            "17/17 [==============================] - 0s 8ms/step - loss: 109.0401 - val_loss: 382.9461\n",
            "Epoch 85/100\n",
            "17/17 [==============================] - 0s 10ms/step - loss: 108.3280 - val_loss: 388.6848\n",
            "Epoch 86/100\n",
            "17/17 [==============================] - 0s 9ms/step - loss: 107.8742 - val_loss: 386.3102\n",
            "Epoch 87/100\n",
            "17/17 [==============================] - 0s 8ms/step - loss: 107.5775 - val_loss: 385.1954\n",
            "Epoch 88/100\n",
            "17/17 [==============================] - 0s 9ms/step - loss: 108.8236 - val_loss: 386.8055\n",
            "Epoch 89/100\n",
            "17/17 [==============================] - 0s 9ms/step - loss: 108.6618 - val_loss: 395.4803\n",
            "Epoch 90/100\n",
            "17/17 [==============================] - 0s 8ms/step - loss: 107.5743 - val_loss: 387.2436\n",
            "Epoch 91/100\n",
            "17/17 [==============================] - 0s 9ms/step - loss: 107.4462 - val_loss: 392.0706\n",
            "Epoch 92/100\n",
            "17/17 [==============================] - 0s 9ms/step - loss: 107.7788 - val_loss: 402.2603\n",
            "Epoch 93/100\n",
            "17/17 [==============================] - 0s 9ms/step - loss: 108.5712 - val_loss: 391.9258\n",
            "Epoch 94/100\n",
            "17/17 [==============================] - 0s 11ms/step - loss: 108.4897 - val_loss: 391.3717\n",
            "Epoch 95/100\n",
            "17/17 [==============================] - 0s 19ms/step - loss: 107.5959 - val_loss: 399.5595\n",
            "Epoch 96/100\n",
            "17/17 [==============================] - 0s 15ms/step - loss: 107.3571 - val_loss: 394.6116\n",
            "Epoch 97/100\n",
            "17/17 [==============================] - 0s 9ms/step - loss: 107.4190 - val_loss: 392.9928\n",
            "Epoch 98/100\n",
            "17/17 [==============================] - 0s 8ms/step - loss: 107.8184 - val_loss: 391.8480\n",
            "Epoch 99/100\n",
            "17/17 [==============================] - 0s 18ms/step - loss: 107.1988 - val_loss: 393.3713\n",
            "Epoch 100/100\n",
            "17/17 [==============================] - 0s 8ms/step - loss: 106.8023 - val_loss: 401.9719\n"
          ]
        },
        {
          "output_type": "execute_result",
          "data": {
            "text/plain": [
              "<keras.callbacks.History at 0x7fc9b049c790>"
            ]
          },
          "metadata": {},
          "execution_count": 34
        }
      ]
    },
    {
      "cell_type": "code",
      "source": [
        "model_hoc_1 = tf.keras.models.load_model('model_experiments/model_hoc_1_LSTM')\n",
        "model_hoc_1.evaluate(test_windows,test_labels)"
      ],
      "metadata": {
        "colab": {
          "base_uri": "https://localhost:8080/"
        },
        "id": "2sc7tc-MNYtm",
        "outputId": "6779c96f-6d47-46c0-9216-8fa6697b8c00"
      },
      "execution_count": null,
      "outputs": [
        {
          "output_type": "stream",
          "name": "stdout",
          "text": [
            "WARNING:tensorflow:Layer lstm will not use cuDNN kernels since it doesn't meet the criteria. It will use a generic GPU kernel as fallback when running on GPU.\n"
          ]
        },
        {
          "output_type": "stream",
          "name": "stderr",
          "text": [
            "WARNING:tensorflow:Layer lstm will not use cuDNN kernels since it doesn't meet the criteria. It will use a generic GPU kernel as fallback when running on GPU.\n"
          ]
        },
        {
          "output_type": "stream",
          "name": "stdout",
          "text": [
            "5/5 [==============================] - 0s 6ms/step - loss: 358.3245\n"
          ]
        },
        {
          "output_type": "execute_result",
          "data": {
            "text/plain": [
              "358.324462890625"
            ]
          },
          "metadata": {},
          "execution_count": 36
        }
      ]
    },
    {
      "cell_type": "code",
      "source": [
        "model_hoc_1_preds = make_preds(model_hoc_1, test_windows)\n",
        "model_hoc_1_preds[-3:]"
      ],
      "metadata": {
        "colab": {
          "base_uri": "https://localhost:8080/"
        },
        "id": "C7PPoIPiNyeR",
        "outputId": "7aa0c9cd-4ddc-40d9-b89b-c18849345f86"
      },
      "execution_count": null,
      "outputs": [
        {
          "output_type": "execute_result",
          "data": {
            "text/plain": [
              "<tf.Tensor: shape=(3, 7), dtype=float32, numpy=\n",
              "array([[104.31375 , 108.44754 , 102.78947 ,  88.50891 , 112.61391 ,\n",
              "        108.542946,  96.258316],\n",
              "       [ 90.361275,  83.325455,  85.606316,  97.19071 ,  88.5631  ,\n",
              "         81.214905,  83.186325],\n",
              "       [ 88.806206,  88.49405 , 100.1151  ,  95.62698 ,  94.60629 ,\n",
              "         86.89709 ,  88.297966]], dtype=float32)>"
            ]
          },
          "metadata": {},
          "execution_count": 38
        }
      ]
    },
    {
      "cell_type": "code",
      "source": [
        "model_hoc_1_results = evaluate_preds(y_true = tf.squeeze(test_labels),\n",
        "                                     y_pred = model_hoc_1_preds)\n",
        "model_hoc_1_results"
      ],
      "metadata": {
        "colab": {
          "base_uri": "https://localhost:8080/"
        },
        "id": "Vyz8aaAIN_nL",
        "outputId": "bc4c472b-0c71-402e-aff5-813a44a508f5"
      },
      "execution_count": null,
      "outputs": [
        {
          "output_type": "execute_result",
          "data": {
            "text/plain": [
              "{'mae': 358.32446, 'mape': 68.293365, 'mse': 556281.06, 'rmse': 442.77164}"
            ]
          },
          "metadata": {},
          "execution_count": 39
        }
      ]
    },
    {
      "cell_type": "code",
      "source": [
        "plt.figure(figsize = (10,7))\n",
        "plot_time_series(timesteps = X_test[-len(test_windows):],\n",
        "                 values = test_labels[:,0],\n",
        "                 label = 'test_data')\n",
        "plot_time_series(timesteps = X_test[-len(test_windows):],\n",
        "                 values = tf.reduce_mean(model_hoc_1_preds,axis = 1),\n",
        "                 format = \"-\",\n",
        "                 label = 'LSTM HOC Model Preds')"
      ],
      "metadata": {
        "colab": {
          "base_uri": "https://localhost:8080/",
          "height": 442
        },
        "id": "d4S7OZdQOps6",
        "outputId": "a07608f5-e6d9-4d52-8044-d1a8c9afc27f"
      },
      "execution_count": null,
      "outputs": [
        {
          "output_type": "display_data",
          "data": {
            "text/plain": [
              "<Figure size 720x504 with 1 Axes>"
            ],
            "image/png": "[encoded data removed]"
          },
          "metadata": {
            "needs_background": "light"
          }
        }
      ]
    },
    {
      "cell_type": "markdown",
      "source": [
        "## MODEL 2: CONV1D (window_size = 7, horizon = 7)"
      ],
      "metadata": {
        "id": "47bbjrZqOSts"
      }
    },
    {
      "cell_type": "code",
      "source": [
        "tf.random.set_seed(42)\n",
        "\n",
        "model_hoc_2 = tf.keras.Sequential([\n",
        "    layers.Lambda(lambda x: tf.expand_dims(x,axis = 1)),\n",
        "    layers.Conv1D(filters = 128, kernel_size = 5, padding = 'causal',activation = 'relu'),\n",
        "    layers.Dense(HORIZON)\n",
        "],name = 'model_hoc_2_Conv1D')\n",
        "\n",
        "model_hoc_2.compile(loss = 'mae',\n",
        "                optimizer = tf.keras.optimizers.Adam())\n",
        "\n",
        "model_hoc_2.fit(train_windows,\n",
        "            train_labels,\n",
        "            epochs = 100,\n",
        "            batch_size = 32,\n",
        "            verbose = 1,\n",
        "            validation_data = (test_windows, test_labels),\n",
        "            callbacks = [create_model_checkpoint(model_name = model_hoc_2.name)])"
      ],
      "metadata": {
        "colab": {
          "base_uri": "https://localhost:8080/"
        },
        "id": "tu8uRRWvOhLv",
        "outputId": "2d58946d-88af-42e0-8d0d-416fddf1f939"
      },
      "execution_count": null,
      "outputs": [
        {
          "output_type": "stream",
          "name": "stdout",
          "text": [
            "Epoch 1/100\n",
            "15/17 [=========================>....] - ETA: 0s - loss: 497.4707  INFO:tensorflow:Assets written to: model_experiments/model_hoc_2_Conv1D/assets\n"
          ]
        },
        {
          "output_type": "stream",
          "name": "stderr",
          "text": [
            "INFO:tensorflow:Assets written to: model_experiments/model_hoc_2_Conv1D/assets\n"
          ]
        },
        {
          "output_type": "stream",
          "name": "stdout",
          "text": [
            "\b\b\b\b\b\b\b\b\b\b\b\b\b\b\b\b\b\b\b\b\b\b\b\b\b\b\b\b\b\b\b\b\b\b\b\b\b\b\b\b\b\b\b\b\b\b\b\b\b\b\b\b\b\b\b\b\b\b\b\b\b\b\b\b\b\r17/17 [==============================] - 9s 57ms/step - loss: 489.1891 - val_loss: 590.1989\n",
            "Epoch 2/100\n",
            "14/17 [=======================>......] - ETA: 0s - loss: 440.6151INFO:tensorflow:Assets written to: model_experiments/model_hoc_2_Conv1D/assets\n"
          ]
        },
        {
          "output_type": "stream",
          "name": "stderr",
          "text": [
            "INFO:tensorflow:Assets written to: model_experiments/model_hoc_2_Conv1D/assets\n"
          ]
        },
        {
          "output_type": "stream",
          "name": "stdout",
          "text": [
            "\b\b\b\b\b\b\b\b\b\b\b\b\b\b\b\b\b\b\b\b\b\b\b\b\b\b\b\b\b\b\b\b\b\b\b\b\b\b\b\b\b\b\b\b\b\b\b\b\b\b\b\b\b\b\b\b\b\b\b\b\b\b\b\b\b\r17/17 [==============================] - 1s 49ms/step - loss: 431.5849 - val_loss: 555.2690\n",
            "Epoch 3/100\n",
            "17/17 [==============================] - 0s 6ms/step - loss: 428.5047 - val_loss: 560.2703\n",
            "Epoch 4/100\n",
            "17/17 [==============================] - 0s 6ms/step - loss: 428.0506 - val_loss: 561.5034\n",
            "Epoch 5/100\n",
            "17/17 [==============================] - 0s 6ms/step - loss: 424.1381 - val_loss: 560.5473\n",
            "Epoch 6/100\n",
            "17/17 [==============================] - 0s 6ms/step - loss: 424.7611 - val_loss: 558.4984\n",
            "Epoch 7/100\n",
            "17/17 [==============================] - 0s 6ms/step - loss: 425.0056 - val_loss: 559.9423\n",
            "Epoch 8/100\n",
            "17/17 [==============================] - 0s 7ms/step - loss: 429.0545 - val_loss: 561.8453\n",
            "Epoch 9/100\n",
            "17/17 [==============================] - 0s 6ms/step - loss: 427.0261 - val_loss: 558.7966\n",
            "Epoch 10/100\n",
            "17/17 [==============================] - 0s 6ms/step - loss: 428.8808 - val_loss: 561.6284\n",
            "Epoch 11/100\n",
            "17/17 [==============================] - 0s 6ms/step - loss: 425.6912 - val_loss: 558.0727\n",
            "Epoch 12/100\n",
            "17/17 [==============================] - 0s 7ms/step - loss: 427.5216 - val_loss: 560.6401\n",
            "Epoch 13/100\n",
            "17/17 [==============================] - 0s 6ms/step - loss: 426.2816 - val_loss: 561.0945\n",
            "Epoch 14/100\n",
            "17/17 [==============================] - 0s 6ms/step - loss: 425.6531 - val_loss: 559.1354\n",
            "Epoch 15/100\n",
            "17/17 [==============================] - 0s 6ms/step - loss: 426.3481 - val_loss: 561.0860\n",
            "Epoch 16/100\n",
            "17/17 [==============================] - 0s 6ms/step - loss: 423.9823 - val_loss: 559.1530\n",
            "Epoch 17/100\n",
            "17/17 [==============================] - 0s 6ms/step - loss: 423.1170 - val_loss: 558.6990\n",
            "Epoch 18/100\n",
            "17/17 [==============================] - 0s 6ms/step - loss: 425.8325 - val_loss: 562.5211\n",
            "Epoch 19/100\n",
            "17/17 [==============================] - 0s 5ms/step - loss: 428.8496 - val_loss: 559.4678\n",
            "Epoch 20/100\n",
            "17/17 [==============================] - 0s 6ms/step - loss: 426.6268 - val_loss: 561.3819\n",
            "Epoch 21/100\n",
            "17/17 [==============================] - 0s 6ms/step - loss: 424.1985 - val_loss: 558.1445\n",
            "Epoch 22/100\n",
            "17/17 [==============================] - 0s 6ms/step - loss: 425.7399 - val_loss: 561.6011\n",
            "Epoch 23/100\n",
            "17/17 [==============================] - 0s 6ms/step - loss: 423.9702 - val_loss: 560.1189\n",
            "Epoch 24/100\n",
            "17/17 [==============================] - 0s 6ms/step - loss: 423.1764 - val_loss: 562.7254\n",
            "Epoch 25/100\n",
            "17/17 [==============================] - 0s 7ms/step - loss: 423.8669 - val_loss: 560.5093\n",
            "Epoch 26/100\n",
            "17/17 [==============================] - 0s 7ms/step - loss: 425.0471 - val_loss: 561.6862\n",
            "Epoch 27/100\n",
            "17/17 [==============================] - 0s 6ms/step - loss: 426.1988 - val_loss: 561.7007\n",
            "Epoch 28/100\n",
            "17/17 [==============================] - 0s 6ms/step - loss: 426.3974 - val_loss: 561.9080\n",
            "Epoch 29/100\n",
            "17/17 [==============================] - 0s 7ms/step - loss: 425.8031 - val_loss: 560.8520\n",
            "Epoch 30/100\n",
            "17/17 [==============================] - 0s 6ms/step - loss: 423.8765 - val_loss: 560.7120\n",
            "Epoch 31/100\n",
            "17/17 [==============================] - 0s 6ms/step - loss: 425.0150 - val_loss: 562.7492\n",
            "Epoch 32/100\n",
            "17/17 [==============================] - 0s 6ms/step - loss: 427.0332 - val_loss: 561.7396\n",
            "Epoch 33/100\n",
            "17/17 [==============================] - 0s 6ms/step - loss: 424.9505 - val_loss: 563.4647\n",
            "Epoch 34/100\n",
            "17/17 [==============================] - 0s 6ms/step - loss: 423.8837 - val_loss: 561.7939\n",
            "Epoch 35/100\n",
            "17/17 [==============================] - 0s 6ms/step - loss: 424.9584 - val_loss: 563.6000\n",
            "Epoch 36/100\n",
            "17/17 [==============================] - 0s 6ms/step - loss: 422.0887 - val_loss: 563.3547\n",
            "Epoch 37/100\n",
            "17/17 [==============================] - 0s 6ms/step - loss: 425.9352 - val_loss: 563.2839\n",
            "Epoch 38/100\n",
            "17/17 [==============================] - 0s 6ms/step - loss: 425.5951 - val_loss: 564.9962\n",
            "Epoch 39/100\n",
            "17/17 [==============================] - 0s 6ms/step - loss: 423.7674 - val_loss: 565.6429\n",
            "Epoch 40/100\n",
            "17/17 [==============================] - 0s 6ms/step - loss: 421.1978 - val_loss: 565.2983\n",
            "Epoch 41/100\n",
            "17/17 [==============================] - 0s 6ms/step - loss: 423.7487 - val_loss: 566.2164\n",
            "Epoch 42/100\n",
            "17/17 [==============================] - 0s 6ms/step - loss: 423.7890 - val_loss: 566.0421\n",
            "Epoch 43/100\n",
            "17/17 [==============================] - 0s 6ms/step - loss: 424.1642 - val_loss: 564.6133\n",
            "Epoch 44/100\n",
            "17/17 [==============================] - 0s 6ms/step - loss: 424.8388 - val_loss: 565.5413\n",
            "Epoch 45/100\n",
            "17/17 [==============================] - 0s 6ms/step - loss: 422.1629 - val_loss: 565.9769\n",
            "Epoch 46/100\n",
            "17/17 [==============================] - 0s 6ms/step - loss: 422.4513 - val_loss: 566.4949\n",
            "Epoch 47/100\n",
            "17/17 [==============================] - 0s 6ms/step - loss: 419.1172 - val_loss: 566.6390\n",
            "Epoch 48/100\n",
            "17/17 [==============================] - 0s 6ms/step - loss: 422.5036 - val_loss: 567.4380\n",
            "Epoch 49/100\n",
            "17/17 [==============================] - 0s 6ms/step - loss: 423.5474 - val_loss: 568.3345\n",
            "Epoch 50/100\n",
            "17/17 [==============================] - 0s 6ms/step - loss: 424.0537 - val_loss: 569.8701\n",
            "Epoch 51/100\n",
            "17/17 [==============================] - 0s 6ms/step - loss: 421.0428 - val_loss: 569.9554\n",
            "Epoch 52/100\n",
            "17/17 [==============================] - 0s 6ms/step - loss: 421.1067 - val_loss: 568.7652\n",
            "Epoch 53/100\n",
            "17/17 [==============================] - 0s 6ms/step - loss: 422.2193 - val_loss: 569.6707\n",
            "Epoch 54/100\n",
            "17/17 [==============================] - 0s 6ms/step - loss: 422.6406 - val_loss: 569.6223\n",
            "Epoch 55/100\n",
            "17/17 [==============================] - 0s 6ms/step - loss: 420.0700 - val_loss: 569.1768\n",
            "Epoch 56/100\n",
            "17/17 [==============================] - 0s 6ms/step - loss: 419.3036 - val_loss: 570.1162\n",
            "Epoch 57/100\n",
            "17/17 [==============================] - 0s 6ms/step - loss: 418.7564 - val_loss: 572.8497\n",
            "Epoch 58/100\n",
            "17/17 [==============================] - 0s 6ms/step - loss: 421.0107 - val_loss: 571.9691\n",
            "Epoch 59/100\n",
            "17/17 [==============================] - 0s 6ms/step - loss: 421.6280 - val_loss: 571.2036\n",
            "Epoch 60/100\n",
            "17/17 [==============================] - 0s 6ms/step - loss: 419.0906 - val_loss: 572.0364\n",
            "Epoch 61/100\n",
            "17/17 [==============================] - 0s 6ms/step - loss: 423.3454 - val_loss: 573.4443\n",
            "Epoch 62/100\n",
            "17/17 [==============================] - 0s 6ms/step - loss: 419.5443 - val_loss: 579.5634\n",
            "Epoch 63/100\n",
            "17/17 [==============================] - 0s 8ms/step - loss: 422.3372 - val_loss: 572.5755\n",
            "Epoch 64/100\n",
            "17/17 [==============================] - 0s 6ms/step - loss: 421.0113 - val_loss: 573.7802\n",
            "Epoch 65/100\n",
            "17/17 [==============================] - 0s 6ms/step - loss: 421.4880 - val_loss: 580.0789\n",
            "Epoch 66/100\n",
            "17/17 [==============================] - 0s 6ms/step - loss: 419.4861 - val_loss: 573.4696\n",
            "Epoch 67/100\n",
            "17/17 [==============================] - 0s 6ms/step - loss: 420.9995 - val_loss: 576.3987\n",
            "Epoch 68/100\n",
            "17/17 [==============================] - 0s 6ms/step - loss: 420.2248 - val_loss: 577.1512\n",
            "Epoch 69/100\n",
            "17/17 [==============================] - 0s 6ms/step - loss: 418.3452 - val_loss: 579.8581\n",
            "Epoch 70/100\n",
            "17/17 [==============================] - 0s 6ms/step - loss: 420.3828 - val_loss: 577.1860\n",
            "Epoch 71/100\n",
            "17/17 [==============================] - 0s 6ms/step - loss: 417.8893 - val_loss: 579.4486\n",
            "Epoch 72/100\n",
            "17/17 [==============================] - 0s 7ms/step - loss: 421.1564 - val_loss: 583.1389\n",
            "Epoch 73/100\n",
            "17/17 [==============================] - 0s 6ms/step - loss: 419.9157 - val_loss: 581.2233\n",
            "Epoch 74/100\n",
            "17/17 [==============================] - 0s 6ms/step - loss: 419.6262 - val_loss: 578.5435\n",
            "Epoch 75/100\n",
            "17/17 [==============================] - 0s 6ms/step - loss: 418.8074 - val_loss: 592.4421\n",
            "Epoch 76/100\n",
            "17/17 [==============================] - 0s 6ms/step - loss: 422.9211 - val_loss: 580.3659\n",
            "Epoch 77/100\n",
            "17/17 [==============================] - 0s 6ms/step - loss: 418.9121 - val_loss: 582.3936\n",
            "Epoch 78/100\n",
            "17/17 [==============================] - 0s 6ms/step - loss: 417.9337 - val_loss: 582.1308\n",
            "Epoch 79/100\n",
            "17/17 [==============================] - 0s 6ms/step - loss: 419.2594 - val_loss: 584.3828\n",
            "Epoch 80/100\n",
            "17/17 [==============================] - 0s 6ms/step - loss: 414.4419 - val_loss: 589.0442\n",
            "Epoch 81/100\n",
            "17/17 [==============================] - 0s 6ms/step - loss: 420.9081 - val_loss: 583.4943\n",
            "Epoch 82/100\n",
            "17/17 [==============================] - 0s 7ms/step - loss: 416.8686 - val_loss: 582.2792\n",
            "Epoch 83/100\n",
            "17/17 [==============================] - 0s 6ms/step - loss: 419.8099 - val_loss: 585.6130\n",
            "Epoch 84/100\n",
            "17/17 [==============================] - 0s 6ms/step - loss: 417.4834 - val_loss: 589.0463\n",
            "Epoch 85/100\n",
            "17/17 [==============================] - 0s 6ms/step - loss: 417.6391 - val_loss: 594.5998\n",
            "Epoch 86/100\n",
            "17/17 [==============================] - 0s 6ms/step - loss: 412.5735 - val_loss: 588.6034\n",
            "Epoch 87/100\n",
            "17/17 [==============================] - 0s 6ms/step - loss: 417.5807 - val_loss: 588.1381\n",
            "Epoch 88/100\n",
            "17/17 [==============================] - 0s 6ms/step - loss: 415.9418 - val_loss: 596.4909\n",
            "Epoch 89/100\n",
            "17/17 [==============================] - 0s 6ms/step - loss: 417.0040 - val_loss: 590.5028\n",
            "Epoch 90/100\n",
            "17/17 [==============================] - 0s 6ms/step - loss: 418.9717 - val_loss: 591.4696\n",
            "Epoch 91/100\n",
            "17/17 [==============================] - 0s 7ms/step - loss: 419.8493 - val_loss: 600.5496\n",
            "Epoch 92/100\n",
            "17/17 [==============================] - 0s 6ms/step - loss: 415.0999 - val_loss: 593.2438\n",
            "Epoch 93/100\n",
            "17/17 [==============================] - 0s 6ms/step - loss: 417.3505 - val_loss: 590.1475\n",
            "Epoch 94/100\n",
            "17/17 [==============================] - 0s 6ms/step - loss: 415.3401 - val_loss: 592.0169\n",
            "Epoch 95/100\n",
            "17/17 [==============================] - 0s 6ms/step - loss: 413.8004 - val_loss: 606.8273\n",
            "Epoch 96/100\n",
            "17/17 [==============================] - 0s 6ms/step - loss: 418.5371 - val_loss: 605.3140\n",
            "Epoch 97/100\n",
            "17/17 [==============================] - 0s 6ms/step - loss: 414.0755 - val_loss: 603.6621\n",
            "Epoch 98/100\n",
            "17/17 [==============================] - 0s 6ms/step - loss: 414.7553 - val_loss: 601.3093\n",
            "Epoch 99/100\n",
            "17/17 [==============================] - 0s 6ms/step - loss: 414.8035 - val_loss: 599.1636\n",
            "Epoch 100/100\n",
            "17/17 [==============================] - 0s 7ms/step - loss: 415.7313 - val_loss: 602.6416\n"
          ]
        },
        {
          "output_type": "execute_result",
          "data": {
            "text/plain": [
              "<keras.callbacks.History at 0x7fc939851990>"
            ]
          },
          "metadata": {},
          "execution_count": 41
        }
      ]
    },
    {
      "cell_type": "code",
      "source": [
        "model_hoc_2 = tf.keras.models.load_model('model_experiments/model_hoc_2_Conv1D')\n",
        "model_hoc_2.evaluate(test_windows,test_labels)"
      ],
      "metadata": {
        "colab": {
          "base_uri": "https://localhost:8080/"
        },
        "id": "nKYn9bMOPAe6",
        "outputId": "a3e99f87-1601-42dc-8405-bcd7bd635e09"
      },
      "execution_count": null,
      "outputs": [
        {
          "output_type": "stream",
          "name": "stdout",
          "text": [
            "5/5 [==============================] - 0s 5ms/step - loss: 555.2690\n"
          ]
        },
        {
          "output_type": "execute_result",
          "data": {
            "text/plain": [
              "555.26904296875"
            ]
          },
          "metadata": {},
          "execution_count": 42
        }
      ]
    },
    {
      "cell_type": "code",
      "source": [
        "model_hoc_2_preds = make_preds(model_hoc_2, test_windows)\n",
        "model_hoc_2_preds[-3:]"
      ],
      "metadata": {
        "colab": {
          "base_uri": "https://localhost:8080/"
        },
        "id": "7jbZEjPNPPWC",
        "outputId": "733d366e-d792-47a6-8c02-f75c7a6a9364"
      },
      "execution_count": null,
      "outputs": [
        {
          "output_type": "execute_result",
          "data": {
            "text/plain": [
              "<tf.Tensor: shape=(3, 7), dtype=float32, numpy=\n",
              "array([[66.70249 , 74.81387 , 75.20536 , 64.97716 , 69.60419 , 65.083176,\n",
              "        68.45166 ],\n",
              "       [69.013176, 64.62518 , 59.83664 , 71.340195, 63.32046 , 55.909084,\n",
              "        73.467804],\n",
              "       [60.196854, 52.20696 , 66.322845, 74.78775 , 50.873196, 62.231575,\n",
              "        64.59284 ]], dtype=float32)>"
            ]
          },
          "metadata": {},
          "execution_count": 43
        }
      ]
    },
    {
      "cell_type": "code",
      "source": [
        "model_hoc_2_results = evaluate_preds(y_true = tf.squeeze(test_labels),\n",
        "                                     y_pred = model_hoc_2_preds)\n",
        "model_hoc_2_results"
      ],
      "metadata": {
        "colab": {
          "base_uri": "https://localhost:8080/"
        },
        "id": "9XX0blxsPj5k",
        "outputId": "6dc0becd-eb5a-499f-e0ff-2c25e6cdfa7e"
      },
      "execution_count": null,
      "outputs": [
        {
          "output_type": "execute_result",
          "data": {
            "text/plain": [
              "{'mae': 386.66418, 'mape': 66.225914, 'mse': 666885.7, 'rmse': 481.93613}"
            ]
          },
          "metadata": {},
          "execution_count": 44
        }
      ]
    },
    {
      "cell_type": "code",
      "source": [
        "plt.figure(figsize = (10,7))\n",
        "plot_time_series(timesteps = X_test[-len(test_windows):],\n",
        "                 values = test_labels[:,0],\n",
        "                #  format = \"-\",\n",
        "                 label = 'test_data')\n",
        "plot_time_series(timesteps = X_test[-len(test_windows):],\n",
        "                 values = tf.reduce_mean(model_hoc_2_preds,axis = 1),\n",
        "                 format = \"-\",\n",
        "                 label = 'Conv1D HOC Model Preds')"
      ],
      "metadata": {
        "colab": {
          "base_uri": "https://localhost:8080/",
          "height": 442
        },
        "id": "dAii5nVgPot2",
        "outputId": "0654b6c9-975b-4e05-9686-5bb76e55395c"
      },
      "execution_count": null,
      "outputs": [
        {
          "output_type": "display_data",
          "data": {
            "text/plain": [
              "<Figure size 720x504 with 1 Axes>"
            ],
            "image/png": "[encoded data removed]"
          },
          "metadata": {
            "needs_background": "light"
          }
        }
      ]
    },
    {
      "cell_type": "code",
      "source": [
        "pd.DataFrame({\n",
        "              \"Conv1D_horizon_7_window_7\": model_hoc_2_results['mae'],\n",
        "              \"LSTM_horizon_7_window_7\":model_hoc_1_results['mae']}, index=['mae']).plot(figsize = (10,7), kind= 'bar');"
      ],
      "metadata": {
        "colab": {
          "base_uri": "https://localhost:8080/",
          "height": 440
        },
        "id": "LpDs5PQIPuJ9",
        "outputId": "d2cd14a6-96dc-47f6-dbb1-cad8f058f194"
      },
      "execution_count": null,
      "outputs": [
        {
          "output_type": "display_data",
          "data": {
            "text/plain": [
              "<Figure size 720x504 with 1 Axes>"
            ],
            "image/png": "[encoded data removed]"
          },
          "metadata": {
            "needs_background": "light"
          }
        }
      ]
    },
    {
      "cell_type": "code",
      "source": [
        ""
      ],
      "metadata": {
        "id": "qocUupgISGVr"
      },
      "execution_count": null,
      "outputs": []
    }
  ]
}